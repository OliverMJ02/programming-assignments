{
 "cells": [
  {
   "cell_type": "markdown",
   "id": "2ce78347",
   "metadata": {},
   "source": [
    "# EEN060 - Applied object-oriented programming\n",
    "\n",
    "Teacher: [Carlos Natalino](https://www.chalmers.se/en/staff/Pages/Carlos-Natalino-Da-Silva.aspx) / Examiner: [Paolo Monti](https://www.chalmers.se/en/staff/Pages/Paolo-Monti.aspx)\n",
    "\n",
    "[Canvas course page](https://chalmers.instructure.com/courses/28094)\n",
    "\n",
    "[Course channel on Chalmers Play](https://play.chalmers.se/channel/EEN060_EEN065_Applied_object-oriented_programming/300149)\n",
    "\n",
    "Before you turn this assignment list in, make sure everything runs as expected.\n",
    "First, **restart the kernel** and then **run all cells**.\n",
    "Then, check if all the tests run correctly.\n",
    "Note that if one of the problems present an error, the following ones **will not** be tested.\n",
    "\n",
    "In case of discrepancies between the problem command and the tests, you should solve it having in mind the tests.\n",
    "\n",
    "There are two types of cell:\n",
    "1. *solution cells:* These are the cells where you write your answer, or modify the existing code to solve the problem.\n",
    "2. *test cells:* These cells are used to test whether your solution is correct or not. If the tests run correctly, you should see a message `tests passed`. Otherwise, you should see an error message.\n",
    "\n",
    "**Delete** the line `raise NotImplementedError()` from the problems that you solve.\n",
    "\n",
    "**Do not delete or add any cell in this file.** All cells that you need are already in place.\n",
    "\n",
    "You may also have problems that will be manually graded (e.g., HTML/CSS/JS/pseudocode problems).\n",
    "These problems **do not** have a respective *test cell*.\n",
    "\n",
    "If you want to execute a cell, select the cell and press **CTRL+Enter** (in Windows) or **CMD+Enter** (in macOS) or click on the **Run cell** button.\n",
    "\n",
    "**If you want, you can solve this programming assignment using Google Colab**\n",
    "\n",
    "Link: https://colab.research.google.com/\n",
    "\n",
    "Just uncomment the following lines and run it."
   ]
  },
  {
   "cell_type": "code",
   "execution_count": 1,
   "id": "dcf4e42b",
   "metadata": {
    "tags": [
     "install"
    ]
   },
   "outputs": [],
   "source": [
    "# !pip install --upgrade --user pip pip-tools\n",
    "# !pip install ipykernel jupyter notebook wtforms flask flask-wtf gunicorn nose flask-testing pytest coverage flake8 requests mypy pylint blinker types-requests isort black lorem-text bs4 pep8-naming matplotlib redis"
   ]
  },
  {
   "cell_type": "markdown",
   "id": "c5ee2f55",
   "metadata": {},
   "source": [
    "#### Assignment week 5\n",
    "\n",
    "In this assignment, students should practice:\n",
    "- how to intercept errors\n",
    "- how to use exceptions to ensure input correctness\n",
    "- how to handle multiple exception types\n",
    "- how to open, read/write from/to files\n",
    "- how to create a database\n",
    "- continue getting familiar with Python and HTML\n",
    "\n",
    "**Preparation:** Run the cell below every time you start working on this file, and every time you restart the kernel."
   ]
  },
  {
   "cell_type": "code",
   "execution_count": 2,
   "id": "305007c2",
   "metadata": {
    "nbgrader": {
     "grade": false,
     "grade_id": "activate-autoreload",
     "locked": true,
     "schema_version": 3,
     "solution": false,
     "task": false
    },
    "tags": [
     "load"
    ]
   },
   "outputs": [],
   "source": [
    "%load_ext autoreload\n",
    "try:\n",
    "    from utils import validate_python_code, validate_html\n",
    "except:\n",
    "    import sys\n",
    "    print(\"It seems this file is in the wrong folder. \"\n",
    "          \"Make sure to place it in the `programming-assignments` folder/project.\",\n",
    "          file=sys.stderr)\n",
    "\n",
    "def run_tests(func, test_cases):\n",
    "    for (test_case, expected_output) in test_cases:\n",
    "        assert func(test_case) == expected_output, \\\n",
    "            print(\"Your solution fails for the test case =\", test_case, \\\n",
    "                \"\\nYour output is\", func(test_case), \\\n",
    "                    \"\\nThe expected output is\", expected_output)"
   ]
  },
  {
   "cell_type": "markdown",
   "id": "2d9ed597",
   "metadata": {},
   "source": [
    "## Level 1\n",
    "\n",
    "Level 1 problems are simple problems that required only the knowledge obtained in the content of the lecture and the lecture notes of the particular lecture."
   ]
  },
  {
   "cell_type": "markdown",
   "id": "dc19cfc2",
   "metadata": {},
   "source": [
    "### Problem 1.1\n",
    "\n",
    "Create a Python function called `validating_sum_of_squares` that receives a sequence of elements and validates whether or not each of the elements is a number and a sum of squares (eg. 25 is sum of 16 and 9 that is $4^2 + 3^2$).\n",
    "\n",
    "Note that numbers can be placed within a string. And, for any integer $a$, since $a^2 = 0^2 + a^2$, square of any integer is assumed to valid.\n",
    "\n",
    "At the end, the function should return a sequence (with the same number of elements as the input) containing `True` for the elements that are numbers which are sum of square and `False` otherwise.\n",
    "\n",
    "**Examples**\n",
    "\n",
    "Input: ['5', 3, 25, None]\n",
    "\n",
    "Output: [True, False, True, False]"
   ]
  },
  {
   "cell_type": "markdown",
   "id": "5b02f0e4",
   "metadata": {},
   "source": [
    "```\n",
    "# write here your pseudocode (not graded)\n",
    "\n",
    "# * pseudocode is necessary when asking for help during the lab\n",
    "```"
   ]
  },
  {
   "cell_type": "code",
   "execution_count": 3,
   "id": "32c7debd",
   "metadata": {
    "nbgrader": {
     "grade": false,
     "grade_id": "cell-answer-1-1",
     "locked": false,
     "schema_version": 3,
     "solution": true,
     "task": false
    },
    "tags": [
     "solution",
     "solution-1.1"
    ]
   },
   "outputs": [
    {
     "name": "stdout",
     "output_type": "stream",
     "text": [
      "Overwriting validating_sum_of_squares_solution.py\n"
     ]
    }
   ],
   "source": [
    "%%writefile validating_sum_of_squares_solution.py\n",
    "# solution cell\n",
    "### BEGIN SOLUTION\n",
    "\n",
    "\n",
    "def validating_sum_of_squares(inp: list[int | float | str | bool]) -> list[bool]:\n",
    "    outp: list[bool] = []\n",
    "    for i in inp:\n",
    "        z: bool = False\n",
    "        try:\n",
    "            i = int(i)\n",
    "            if isinstance(i, int):\n",
    "                for x in range(i + 1):\n",
    "                    y: int = i - x\n",
    "                    if ((y ** 0.5).is_integer() or y == 1) and (\n",
    "                        (x ** 0.5).is_integer() or x == 1\n",
    "                    ):\n",
    "                        z = True\n",
    "                        break\n",
    "                    z = False\n",
    "        except Exception:\n",
    "            z = False\n",
    "        outp.append(z)\n",
    "    return outp\n",
    "\n",
    "\n",
    "### END SOLUTION\n"
   ]
  },
  {
   "cell_type": "code",
   "execution_count": 4,
   "id": "797399e5",
   "metadata": {
    "nbgrader": {
     "grade": false,
     "grade_id": "cell-debug-1-1",
     "locked": true,
     "schema_version": 3,
     "solution": false,
     "task": false
    },
    "tags": [
     "debug",
     "debug-1.1"
    ]
   },
   "outputs": [
    {
     "name": "stdout",
     "output_type": "stream",
     "text": [
      " Input sequence:  5\t3\t25\tNone\thello\n",
      "Output sequence:  True\tFalse\tTrue\tFalse\tFalse\n",
      "Execution finished ✓\n"
     ]
    }
   ],
   "source": [
    "%autoreload 2\n",
    "# uncomment the line(s) below to debug\n",
    "from validating_sum_of_squares_solution import validating_sum_of_squares\n",
    "\n",
    "seq_input = ['5', 3, 25, None, 'hello']\n",
    "x = validating_sum_of_squares(seq_input)\n",
    "print(f' Input sequence: ', '\\t'.join([str(x) for x in seq_input]))\n",
    "print(f'Output sequence: ', '\\t'.join([str(r) for r in x]))\n",
    "print('Execution finished', u'\\u2713')"
   ]
  },
  {
   "cell_type": "code",
   "execution_count": 5,
   "id": "57887a01",
   "metadata": {
    "nbgrader": {
     "grade": true,
     "grade_id": "cell-tests-1-1",
     "locked": true,
     "points": 1,
     "schema_version": 3,
     "solution": false,
     "task": false
    },
    "tags": [
     "tests",
     "tests-1.1"
    ]
   },
   "outputs": [
    {
     "data": {
      "text/html": [
       "<div class=\"tip admonition\">\n",
       "<p class=\"admonition-title\">Code Quality Analysis: <span style=\"color: green\">Pass</span></p><p>*No problem was found*\n",
       "</p>\n",
       "    </div>"
      ],
      "text/plain": [
       "<IPython.core.display.HTML object>"
      ]
     },
     "metadata": {},
     "output_type": "display_data"
    },
    {
     "name": "stdout",
     "output_type": "stream",
     "text": [
      "tests passed ✓\n"
     ]
    }
   ],
   "source": [
    "%autoreload 2\n",
    "# test cell\n",
    "try:\n",
    "    import validating_sum_of_squares_solution\n",
    "except:\n",
    "    raise ValueError(\"You did not execute your solution cell!\")\n",
    "try:\n",
    "    from validating_sum_of_squares_solution import validating_sum_of_squares\n",
    "except:\n",
    "    raise ValueError(\"Your solution does not contain the right function!\")\n",
    "\n",
    "test_cases = [(['2', 'x', -10, 3.3, 'asd', None, 'b', 4.0], \\\n",
    "    [True, False, False, False, False, False, False, True]), \\\n",
    "        ([9, 'x', -9, None], [True, False, False, False])]\n",
    "\n",
    "run_tests(validating_sum_of_squares, test_cases)\n",
    "\n",
    "validate_python_code(\"validating_sum_of_squares_solution.py\")\n",
    "print('tests passed', u'\\u2713')"
   ]
  },
  {
   "cell_type": "markdown",
   "id": "e54a78c8",
   "metadata": {},
   "source": [
    "### Problem 1.2\n",
    "\n",
    "Create a Python function `gm_calculation` that receives a sequence of elements.\n",
    "\n",
    "Then, the function should return the geometric mean of the numbers ignoring the elements in the sequence which are not numbers. The mean should be returned in a string type containing only two decimal cases. If there are no numbers in the sequence, then return `None`.\n",
    "\n",
    "Remember to use the module `statistics` for this task."
   ]
  },
  {
   "cell_type": "markdown",
   "id": "d9cd4309",
   "metadata": {},
   "source": [
    "```\n",
    "# write here your pseudocode (not graded)\n",
    "\n",
    "# * pseudocode is necessary when asking for help during the lab\n",
    "```"
   ]
  },
  {
   "cell_type": "code",
   "execution_count": 6,
   "id": "ab4b24b5",
   "metadata": {
    "nbgrader": {
     "grade": false,
     "grade_id": "cell-answer-1-2",
     "locked": false,
     "schema_version": 3,
     "solution": true,
     "task": false
    },
    "tags": [
     "solution",
     "solution-1.2"
    ]
   },
   "outputs": [
    {
     "name": "stdout",
     "output_type": "stream",
     "text": [
      "Overwriting gm_calculation_solution.py\n"
     ]
    }
   ],
   "source": [
    "%%writefile gm_calculation_solution.py\n",
    "# solution cell\n",
    "### BEGIN SOLUTION\n",
    "import statistics\n",
    "\n",
    "\n",
    "def gm_calculation(inp: list[int | float | str]) -> str | None:\n",
    "    num: list[float] = []\n",
    "    for i in inp:\n",
    "        try:\n",
    "            i = float(i)\n",
    "            if isinstance(i, float):\n",
    "                num.append(i)\n",
    "        except Exception:\n",
    "            pass\n",
    "    if not num:\n",
    "        return None\n",
    "    gm: float = statistics.geometric_mean(num)\n",
    "    outp: str = f\"{gm:.2f}\"\n",
    "    return outp\n",
    "\n",
    "\n",
    "### END SOLUTION\n"
   ]
  },
  {
   "cell_type": "code",
   "execution_count": 7,
   "id": "a965a8e4",
   "metadata": {
    "nbgrader": {
     "grade": false,
     "grade_id": "debug-cell-1-2",
     "locked": true,
     "schema_version": 3,
     "solution": false,
     "task": false
    },
    "tags": [
     "debug",
     "debug-1.2"
    ]
   },
   "outputs": [
    {
     "name": "stdout",
     "output_type": "stream",
     "text": [
      "The geometric mean of [10.2, 11, '12.3', 15, 32.5, 'x', '100.87534262'] is 20.20\n",
      "Execution finished ✓\n"
     ]
    }
   ],
   "source": [
    "%autoreload 2\n",
    "# uncomment the line(s) below to debug\n",
    "from gm_calculation_solution import gm_calculation\n",
    "\n",
    "sequence = [10.2, 11, '12.3', 15, 32.5, 'x', '100.87534262']\n",
    "print(f'The geometric mean of {sequence} is {gm_calculation(sequence)}')\n",
    "print('Execution finished', u'\\u2713')"
   ]
  },
  {
   "cell_type": "code",
   "execution_count": 8,
   "id": "e3bd6bad",
   "metadata": {
    "nbgrader": {
     "grade": true,
     "grade_id": "cell-test-1-2",
     "locked": true,
     "points": 1,
     "schema_version": 3,
     "solution": false,
     "task": false
    },
    "tags": [
     "tests",
     "tests-1.2"
    ]
   },
   "outputs": [
    {
     "data": {
      "text/html": [
       "<div class=\"tip admonition\">\n",
       "<p class=\"admonition-title\">Code Quality Analysis: <span style=\"color: green\">Pass</span></p><p>*No problem was found*\n",
       "</p>\n",
       "    </div>"
      ],
      "text/plain": [
       "<IPython.core.display.HTML object>"
      ]
     },
     "metadata": {},
     "output_type": "display_data"
    },
    {
     "name": "stdout",
     "output_type": "stream",
     "text": [
      "tests passed ✓\n"
     ]
    }
   ],
   "source": [
    "%autoreload 2\n",
    "#test cell\n",
    "try:\n",
    "    import gm_calculation_solution\n",
    "except:\n",
    "    raise ValueError(\"You did not execute your solution cell!\")\n",
    "try:\n",
    "    from gm_calculation_solution import gm_calculation\n",
    "except:\n",
    "    raise ValueError(\"Your solution does not contain the right function!\")\n",
    "\n",
    "assert isinstance(gm_calculation([1.2, 1]), str), 'The return value should be a string'\n",
    "\n",
    "test_cases = [([10.2, 11, 12.3, 15, 32.5, 'x', '100.87534262'], '20.20'), \\\n",
    "    (['10.2', 11, 12.3, 15, 32.5, None, '100.87534262'], '20.20'), \\\n",
    "    ([None, 'x', 'as', 'as1', 'x'], None), ([], None)]\n",
    "\n",
    "run_tests(gm_calculation, test_cases)\n",
    "\n",
    "validate_python_code(\"gm_calculation_solution.py\")\n",
    "print('tests passed', u'\\u2713')"
   ]
  },
  {
   "cell_type": "markdown",
   "id": "97eb859c",
   "metadata": {},
   "source": [
    "### Problem 1.3\n",
    "\n",
    "Create a Python function called `datetime_validator` that receives a string which represents date-time, and converts it into `datetime` object.\n",
    "\n",
    "The allowed format for the input: `Month Date, Year, Time`. For example `January 15, 2022, 12:30:45`. \n",
    "\n",
    "If the input is not in this format, return `None`."
   ]
  },
  {
   "cell_type": "markdown",
   "id": "cc2e2f60",
   "metadata": {},
   "source": [
    "```\n",
    "# write here your pseudocode (not graded)\n",
    "\n",
    "# * pseudocode is necessary when asking for help during the lab\n",
    "```"
   ]
  },
  {
   "cell_type": "code",
   "execution_count": 9,
   "id": "e31317d7",
   "metadata": {
    "nbgrader": {
     "grade": false,
     "grade_id": "cell-answer-1-3",
     "locked": false,
     "schema_version": 3,
     "solution": true,
     "task": false
    },
    "tags": [
     "solution",
     "solution-1.3"
    ]
   },
   "outputs": [
    {
     "name": "stdout",
     "output_type": "stream",
     "text": [
      "Overwriting datetime_validator_solution.py\n"
     ]
    }
   ],
   "source": [
    "%%writefile datetime_validator_solution.py\n",
    "# solution cell\n",
    "### BEGIN SOLUTION\n",
    "from datetime import datetime\n",
    "\n",
    "\n",
    "def datetime_validator(inp: str) -> datetime | None:\n",
    "    try:\n",
    "        dl: list[str] = inp.split(\", \")\n",
    "        md: list[str] = dl[0].split(\" \")\n",
    "        m = md[0]\n",
    "        d = md[1]\n",
    "        y = dl[1]\n",
    "        tl: list[str] = dl[2].split(\":\")\n",
    "        hour = tl[0]\n",
    "        minute = tl[1]\n",
    "        second = tl[2]\n",
    "        dt = datetime(\n",
    "            int(y),\n",
    "            datetime.strptime(m, \"%B\").month,\n",
    "            int(d),\n",
    "            int(hour),\n",
    "            int(minute),\n",
    "            int(second),\n",
    "        )\n",
    "        return dt\n",
    "    except Exception:\n",
    "        return None\n",
    "\n",
    "\n",
    "### END SOLUTION\n"
   ]
  },
  {
   "cell_type": "code",
   "execution_count": 10,
   "id": "aad8326d",
   "metadata": {
    "nbgrader": {
     "grade": false,
     "grade_id": "cell_debug1-3",
     "locked": true,
     "schema_version": 3,
     "solution": false,
     "task": false
    },
    "tags": [
     "debug",
     "debug-1.3"
    ]
   },
   "outputs": [
    {
     "name": "stdout",
     "output_type": "stream",
     "text": [
      "January 15, 2022, 12:30:45 is equivalent to 2022-01-15 12:30:45 datetime object\n",
      "Execution finished ✓\n"
     ]
    }
   ],
   "source": [
    "%autoreload 2\n",
    "# uncomment the line(s) below to debug\n",
    "from datetime_validator_solution import datetime_validator\n",
    "\n",
    "date_input = 'January 15, 2022, 12:30:45'\n",
    "print(f'{date_input} is equivalent to {datetime_validator(date_input)} datetime object')\n",
    "print('Execution finished', u'\\u2713')"
   ]
  },
  {
   "cell_type": "code",
   "execution_count": 11,
   "id": "18f3e984",
   "metadata": {
    "nbgrader": {
     "grade": true,
     "grade_id": "cell-test-1-3",
     "locked": true,
     "points": 1,
     "schema_version": 3,
     "solution": false,
     "task": false
    },
    "tags": [
     "tests",
     "tests-1.3"
    ]
   },
   "outputs": [
    {
     "data": {
      "text/html": [
       "<div class=\"tip admonition\">\n",
       "<p class=\"admonition-title\">Code Quality Analysis: <span style=\"color: green\">Pass</span></p><p>*No problem was found*\n",
       "</p>\n",
       "    </div>"
      ],
      "text/plain": [
       "<IPython.core.display.HTML object>"
      ]
     },
     "metadata": {},
     "output_type": "display_data"
    },
    {
     "name": "stdout",
     "output_type": "stream",
     "text": [
      "tests passed ✓\n"
     ]
    }
   ],
   "source": [
    "%autoreload 2\n",
    "# test cell\n",
    "try:\n",
    "    import datetime_validator_solution\n",
    "except:\n",
    "    raise ValueError(\"You did not execute your solution cell!\")\n",
    "try:\n",
    "    from datetime_validator_solution import datetime_validator\n",
    "except:\n",
    "    raise ValueError(\"Your solution does not contain the right function!\")\n",
    "\n",
    "from datetime import datetime\n",
    "\n",
    "test_cases = [('January 15, 2022, 12:30:45', datetime(2022, 1, 15, 12, 30, 45)),\\\n",
    "    ('September 08, 2021, 14:45:15', datetime(2021, 9, 8, 14, 45, 15)), \\\n",
    "    ('Sep 8, 2021, 14:45:15', None), ('2021-01-01 1:41:43.321', None)]\n",
    "\n",
    "run_tests(datetime_validator, test_cases)\n",
    "\n",
    "validate_python_code(\"datetime_validator_solution.py\")\n",
    "print('tests passed', u'\\u2713')"
   ]
  },
  {
   "cell_type": "markdown",
   "id": "af94f99a",
   "metadata": {},
   "source": [
    "### Problem 1.4\n",
    "\n",
    "Create a Python function called `write_text_with_line_numbers` that receives a string containing text and writes it to a text file called `text_file.txt`, with line numbers for each line. The function should always wipe out the previous content of the file, i.e., do not use the append mode.\n",
    "\n",
    "**Example**\n",
    "\n",
    "Input: \"År\\n2013\"\n",
    "\n",
    "Textfile contents: \n",
    "1. År\n",
    "2. 2013"
   ]
  },
  {
   "cell_type": "markdown",
   "id": "4f77fb01",
   "metadata": {},
   "source": [
    "```\n",
    "# write here your pseudocode (not graded)\n",
    "\n",
    "# * pseudocode is necessary when asking for help during the lab\n",
    "```"
   ]
  },
  {
   "cell_type": "code",
   "execution_count": 12,
   "id": "d897b4c5",
   "metadata": {
    "nbgrader": {
     "grade": false,
     "grade_id": "cell-answer-1-4",
     "locked": false,
     "schema_version": 3,
     "solution": true,
     "task": false
    },
    "tags": [
     "solution",
     "solution-1.4"
    ]
   },
   "outputs": [
    {
     "name": "stdout",
     "output_type": "stream",
     "text": [
      "Overwriting write_text_with_line_numbers_solution.py\n"
     ]
    }
   ],
   "source": [
    "%%writefile write_text_with_line_numbers_solution.py\n",
    "# solution cell\n",
    "### BEGIN SOLUTION\n",
    "\n",
    "\n",
    "def write_text_with_line_numbers(inp: str) -> None:\n",
    "    sl: list[str] = inp.split(\"\\n\")\n",
    "    num: int = 1\n",
    "    with open(\"text_file.txt\", \"w\", encoding=\"utf-8\") as f:\n",
    "        for s in sl:\n",
    "            if num > 1:\n",
    "                f.write(\"\\n\")\n",
    "            f.write(str(num) + \". \" + s)\n",
    "            num += 1\n",
    "\n",
    "\n",
    "### END SOLUTION\n"
   ]
  },
  {
   "cell_type": "code",
   "execution_count": 13,
   "id": "30c5ba70",
   "metadata": {
    "nbgrader": {
     "grade": false,
     "grade_id": "cell-debug-1-4",
     "locked": true,
     "schema_version": 3,
     "solution": false,
     "task": false
    },
    "tags": [
     "debug",
     "debug-1.4"
    ]
   },
   "outputs": [
    {
     "name": "stdout",
     "output_type": "stream",
     "text": [
      "The file contents are: ✓\n",
      "1. År\n",
      "2. 2013\n"
     ]
    }
   ],
   "source": [
    "%autoreload 2\n",
    "# uncomment the line below to debug\n",
    "from write_text_with_line_numbers_solution import write_text_with_line_numbers\n",
    "\n",
    "write_text_with_line_numbers(\"År\\n2013\")\n",
    "print('The file contents are:', u'\\u2713')\n",
    "with open(\"text_file.txt\", \"r\", encoding=\"utf-8\") as file:\n",
    "    print(file.read())"
   ]
  },
  {
   "cell_type": "code",
   "execution_count": 14,
   "id": "e009b221",
   "metadata": {
    "nbgrader": {
     "grade": true,
     "grade_id": "cell-test-1-4",
     "locked": true,
     "points": 1,
     "schema_version": 3,
     "solution": false,
     "task": false
    },
    "tags": [
     "tests",
     "tests-1.4"
    ]
   },
   "outputs": [
    {
     "data": {
      "text/html": [
       "<div class=\"tip admonition\">\n",
       "<p class=\"admonition-title\">Code Quality Analysis: <span style=\"color: green\">Pass</span></p><p>*No problem was found*\n",
       "</p>\n",
       "    </div>"
      ],
      "text/plain": [
       "<IPython.core.display.HTML object>"
      ]
     },
     "metadata": {},
     "output_type": "display_data"
    },
    {
     "name": "stdout",
     "output_type": "stream",
     "text": [
      "tests passed ✓\n"
     ]
    }
   ],
   "source": [
    "%autoreload 2\n",
    "# test cell\n",
    "try:\n",
    "    import write_text_with_line_numbers_solution\n",
    "except:\n",
    "    raise ValueError(\"You did not execute your solution cell!\")\n",
    "try:\n",
    "    from write_text_with_line_numbers_solution import write_text_with_line_numbers\n",
    "except:\n",
    "    raise ValueError(\"Your solution does not contain the right function!\")\n",
    "\n",
    "# test cell\n",
    "from nose.tools import assert_equal\n",
    "import os\n",
    "\n",
    "if os.path.isfile('text_file.txt'):\n",
    "    os.remove('text_file.txt')\n",
    "\n",
    "write_text_with_line_numbers(\"År\\n2013\")\n",
    "assert os.path.isfile('text_file.txt'), 'The file was not created!'\n",
    "with open(\"text_file.txt\", \"r\", encoding=\"utf-8\") as file:\n",
    "    assert file.read() == \"1. År\\n2. 2013\", \"The contents of the file are incorrect!\"\n",
    "os.remove('text_file.txt')\n",
    "\n",
    "write_text_with_line_numbers(\"one\\ntwo\\nthree\\nfour\")\n",
    "assert os.path.isfile('text_file.txt'), 'The file was not created!'\n",
    "with open(\"text_file.txt\", \"r\", encoding=\"utf-8\") as file:\n",
    "    assert file.read() == \"1. one\\n2. two\\n3. three\\n4. four\", \\\n",
    "        \"The contents of the file are incorrect!\"\n",
    "os.remove('text_file.txt')\n",
    "\n",
    "validate_python_code(\"write_text_with_line_numbers_solution.py\")\n",
    "print('tests passed', u'\\u2713')"
   ]
  },
  {
   "cell_type": "markdown",
   "id": "1114b2ed",
   "metadata": {},
   "source": [
    "---\n",
    "## Level 2\n",
    "\n",
    "Problems in level 2 should build upon the content of the lecture and the content of previous lectures.\n",
    "Therefore, the problems can be solved based solely on the lecture notes available for the course up to the lecture the assignment is about."
   ]
  },
  {
   "cell_type": "markdown",
   "id": "3c1c80af",
   "metadata": {},
   "source": [
    "### Problem 2.1\n",
    "\n",
    "Create a Python class named `Student` that is also a dataclass.\n",
    "The attributes are:\n",
    "- name, string\n",
    "- birthdate, date\n",
    "- person_number, string\n",
    "- phone_number, string (optional, default `None`)\n",
    "- address, string (optional, default `None`)\n",
    "\n",
    "The solution should consider receiving a date object for birthdate.\n"
   ]
  },
  {
   "cell_type": "markdown",
   "id": "e0f8466c",
   "metadata": {},
   "source": [
    "```\n",
    "# write here your pseudocode (not graded)\n",
    "\n",
    "# * pseudocode is necessary when asking for help during the lab\n",
    "```"
   ]
  },
  {
   "cell_type": "code",
   "execution_count": 15,
   "id": "d54d6cb0",
   "metadata": {
    "nbgrader": {
     "grade": false,
     "grade_id": "answer-1-6",
     "locked": false,
     "schema_version": 3,
     "solution": true,
     "task": false
    },
    "pycharm": {
     "name": "#%%\n"
    },
    "tags": [
     "solution",
     "solution-2.1"
    ]
   },
   "outputs": [
    {
     "name": "stdout",
     "output_type": "stream",
     "text": [
      "Overwriting student_class.py\n"
     ]
    }
   ],
   "source": [
    "%%writefile student_class.py\n",
    "# solution cell\n",
    "### BEGIN SOLUTION\n",
    "import datetime\n",
    "from dataclasses import dataclass\n",
    "from typing import Optional\n",
    "\n",
    "\n",
    "@dataclass\n",
    "class Student:\n",
    "    def __init__(\n",
    "        self,\n",
    "        name: str,\n",
    "        birthdate: datetime.date,\n",
    "        person_number: str,\n",
    "        phone_number: Optional[str],\n",
    "        address: Optional[str],\n",
    "    ) -> None:\n",
    "        self.nm: str = name\n",
    "        self.bd: datetime.date = birthdate\n",
    "        self.prsn: str = person_number\n",
    "        self.phn: Optional[str] = phone_number\n",
    "        self.adr: Optional[str] = address\n",
    "\n",
    "\n",
    "### END SOLUTION\n"
   ]
  },
  {
   "cell_type": "code",
   "execution_count": 16,
   "id": "4ab636d8",
   "metadata": {
    "nbgrader": {
     "grade": false,
     "grade_id": "debug-1-6",
     "locked": true,
     "schema_version": 3,
     "solution": false,
     "task": false
    },
    "tags": [
     "debug",
     "debug-2.1"
    ]
   },
   "outputs": [
    {
     "name": "stdout",
     "output_type": "stream",
     "text": [
      "The Student object converts to string as \n",
      "Student()\n",
      "Execution finished ✓\n"
     ]
    }
   ],
   "source": [
    "%autoreload 2\n",
    "# uncomment the line(s) below to debug\n",
    "from datetime import date\n",
    "from student_class import Student\n",
    "\n",
    "student = Student('test', date(1998, 3, 4), '1124234', '12314234', 'Gibraltargatan')\n",
    "print(f'The Student object converts to string as \\n{student}')\n",
    "print('Execution finished', u'\\u2713')"
   ]
  },
  {
   "cell_type": "code",
   "execution_count": 17,
   "id": "d5fb9327",
   "metadata": {
    "nbgrader": {
     "grade": true,
     "grade_id": "tests-1-6",
     "locked": true,
     "points": 1,
     "schema_version": 3,
     "solution": false,
     "task": false
    },
    "pycharm": {
     "name": "#%%\n"
    },
    "tags": [
     "tests",
     "tests-2.1"
    ]
   },
   "outputs": [
    {
     "data": {
      "text/html": [
       "<div class=\"tip admonition\">\n",
       "<p class=\"admonition-title\">Code Quality Analysis: <span style=\"color: green\">Pass</span></p><p>*No problem was found*\n",
       "</p>\n",
       "    </div>"
      ],
      "text/plain": [
       "<IPython.core.display.HTML object>"
      ]
     },
     "metadata": {},
     "output_type": "display_data"
    },
    {
     "name": "stdout",
     "output_type": "stream",
     "text": [
      "tests passed ✓\n"
     ]
    }
   ],
   "source": [
    "%autoreload 2\n",
    "# test cell\n",
    "try:\n",
    "    import student_class\n",
    "except:\n",
    "    raise ValueError(\"You did not execute your solution cell!\")\n",
    "try:\n",
    "    from student_class import Student\n",
    "except:\n",
    "    raise ValueError(\"Your solution does not contain the right function!\")\n",
    "\n",
    "from dataclasses import is_dataclass\n",
    "\n",
    "assert 'Student' in dir(), 'Class Student does not exist!'\n",
    "assert is_dataclass(Student), \"The Student class is not a dataclass!\"\n",
    "\n",
    "validate_python_code(\"student_class.py\")\n",
    "print('tests passed', u'\\u2713')"
   ]
  },
  {
   "cell_type": "markdown",
   "id": "ec2c46ca",
   "metadata": {},
   "source": [
    "### Problem 2.2\n",
    "\n",
    "Create a Python function called `insert_student` that receives the following parameters:\n",
    "\n",
    "- name, string\n",
    "- birthdate, date\n",
    "- person_number, string\n",
    "- phone_number, string (optional, default `None`)\n",
    "- address, string (optional, default `None`)\n",
    "\n",
    "Then, the function creates an object of the class `Student` and persists it to the database, returning how many objects of the class `Student` exist in the database.\n",
    "The function should use the *key* `dataset` to retrieve and store the list of `Student` objects in the database.\n",
    "\n",
    "The solution should consider receiving a date object for birthdate.\n",
    "\n",
    "If a `Student` object with the same person_number already exists, the function should not insert the new `Student` object."
   ]
  },
  {
   "cell_type": "markdown",
   "id": "6e781537",
   "metadata": {},
   "source": [
    "```\n",
    "# write here your pseudocode (not graded)\n",
    "\n",
    "# * pseudocode is necessary when asking for help during the lab\n",
    "```"
   ]
  },
  {
   "cell_type": "code",
   "execution_count": 18,
   "id": "9b5c1e3d",
   "metadata": {
    "nbgrader": {
     "grade": false,
     "grade_id": "database-setup",
     "locked": true,
     "schema_version": 3,
     "solution": false,
     "task": false
    },
    "tags": [
     "debug",
     "debug-2.2"
    ]
   },
   "outputs": [
    {
     "name": "stdout",
     "output_type": "stream",
     "text": [
      "Overwriting database_setup.py\n"
     ]
    }
   ],
   "source": [
    "%%writefile database_setup.py\n",
    "# EXECUTE TO CREATE THE NECESSARY FILE\n",
    "from redis import Redis\n",
    "\n",
    "# configuration\n",
    "DATABASE_HOST=\"onu1.s2.chalmers.se\"\n",
    "DATABASE_PORT=6380\n",
    "DATABASE_DB=46\n",
    "DATABASE_PASSWORD=\"6a580447-cc21-422e-8d74-66f93bdee3ab\"\n",
    "\n",
    "# connecting\n",
    "db: Redis = Redis(\n",
    "    host=DATABASE_HOST,\n",
    "    port=DATABASE_PORT,\n",
    "    db=DATABASE_DB,\n",
    "    password=DATABASE_PASSWORD\n",
    ")\n",
    "db.ping()\n",
    "db.delete(\"dataset\")"
   ]
  },
  {
   "cell_type": "code",
   "execution_count": 19,
   "id": "d5a5499c",
   "metadata": {
    "nbgrader": {
     "grade": false,
     "grade_id": "cell-answer-2-2",
     "locked": false,
     "schema_version": 3,
     "solution": true,
     "task": false
    },
    "pycharm": {
     "name": "#%%\n"
    },
    "tags": [
     "solution",
     "solution-2.2",
     "html"
    ]
   },
   "outputs": [
    {
     "name": "stdout",
     "output_type": "stream",
     "text": [
      "Overwriting insert_student_solution.py\n"
     ]
    }
   ],
   "source": [
    "%%writefile insert_student_solution.py\n",
    "# solution cell\n",
    "### BEGIN SOLUTION\n",
    "import datetime\n",
    "import pickle\n",
    "from typing import Optional\n",
    "\n",
    "from database_setup import db\n",
    "from student_class import Student\n",
    "\n",
    "\n",
    "def insert_student(\n",
    "    nm: str,\n",
    "    bd: datetime.date,\n",
    "    prsn: str,\n",
    "    phn: Optional[str],\n",
    "    ad: Optional[str],\n",
    ") -> int:\n",
    "    existing_data = db.get(\"dataset\")\n",
    "    if existing_data:\n",
    "        list_students = pickle.loads(existing_data)\n",
    "    else:\n",
    "        list_students = []\n",
    "    student: Student = Student(nm, bd, prsn, phn, ad)\n",
    "    student_exists = any(student.prsn == prsn for student in list_students)\n",
    "    if student_exists:\n",
    "        print(\"Student already exists!\")\n",
    "    else:\n",
    "        list_students.append(student)\n",
    "        db.set(\"dataset\", pickle.dumps(list_students))\n",
    "    return len(list_students)\n",
    "\n",
    "\n",
    "### END SOLUTION\n"
   ]
  },
  {
   "cell_type": "code",
   "execution_count": 20,
   "id": "a46d6b91",
   "metadata": {
    "nbgrader": {
     "grade": false,
     "grade_id": "cell-debug-2-1",
     "locked": true,
     "schema_version": 3,
     "solution": false,
     "task": false
    },
    "tags": [
     "check",
     "check-2.2"
    ]
   },
   "outputs": [
    {
     "name": "stdout",
     "output_type": "stream",
     "text": [
      "We currently have 1 `Student` objects in the database! ✓\n",
      "Student already exists!\n",
      "We currently have 1 `Student` objects in the database! ✓\n",
      "We currently have 2 `Student` objects in the database! ✓\n"
     ]
    }
   ],
   "source": [
    "%autoreload 2\n",
    "# uncomment the line(s) below to debug\n",
    "from datetime import date\n",
    "\n",
    "from database_setup import db\n",
    "from insert_student_solution import insert_student\n",
    "from student_class import Student\n",
    "\n",
    "db.delete(\"dataset\")\n",
    "\n",
    "cid = insert_student('Jane Doe', date(1998, 3, 4), '9803041234', '781452123', 'ABC')\n",
    "print(f'We currently have {cid} `Student` objects in the database!', u'\\u2713')\n",
    "\n",
    "cid = insert_student('Jane Doe', date(1998, 3, 4), '9803041234', '781452123', 'ABC')\n",
    "print(f'We currently have {cid} `Student` objects in the database!', u'\\u2713')\n",
    "\n",
    "cid = insert_student('Jack K', date(1993, 1, 7), '9301072345', '72345134', 'XYZ')\n",
    "print(f'We currently have {cid} `Student` objects in the database!', u'\\u2713')"
   ]
  },
  {
   "cell_type": "code",
   "execution_count": 21,
   "id": "1a3997e2",
   "metadata": {
    "nbgrader": {
     "grade": true,
     "grade_id": "cell-test-2-2",
     "locked": true,
     "points": 1,
     "schema_version": 3,
     "solution": false,
     "task": false
    },
    "tags": [
     "tests",
     "tests-2.2"
    ]
   },
   "outputs": [
    {
     "name": "stdout",
     "output_type": "stream",
     "text": [
      "Student already exists!\n"
     ]
    },
    {
     "data": {
      "text/html": [
       "<div class=\"tip admonition\">\n",
       "<p class=\"admonition-title\">Code Quality Analysis: <span style=\"color: green\">Pass</span></p><p>*No problem was found*\n",
       "</p>\n",
       "    </div>"
      ],
      "text/plain": [
       "<IPython.core.display.HTML object>"
      ]
     },
     "metadata": {},
     "output_type": "display_data"
    },
    {
     "name": "stdout",
     "output_type": "stream",
     "text": [
      "tests passed ✓\n"
     ]
    }
   ],
   "source": [
    "%autoreload 2\n",
    "# test cell\n",
    "try:\n",
    "    import insert_student_solution\n",
    "except:\n",
    "    raise ValueError(\"You did not execute your solution cell!\")\n",
    "try:\n",
    "    from insert_student_solution import insert_student\n",
    "except:\n",
    "    raise ValueError(\"Your solution does not contain the right function!\") \n",
    "\n",
    "from datetime import date\n",
    "from database_setup import db\n",
    "\n",
    "db.delete(\"dataset\")\n",
    "assert insert_student('Jane Doe', date(1998, 3, 4), '9803041234', '781452123', 'ABC') \\\n",
    "    == 1, 'Student object was not persisted successfully!'\n",
    "assert insert_student('Jane Doe', date(1998, 3, 4), '9803041234', '781452123', 'ABC') \\\n",
    "    == 1, 'Expecting one object, but got a different number!'\n",
    "assert insert_student('Jack K', date(1993, 1, 7), '9301072345', '72345134', 'XYZ') \\\n",
    "    == 2, 'Student object was not persisted successfully!'\n",
    "\n",
    "validate_python_code(\"insert_student_solution.py\")\n",
    "print('tests passed', u'\\u2713')"
   ]
  },
  {
   "cell_type": "markdown",
   "id": "a3ba757f",
   "metadata": {},
   "source": [
    "---\n",
    "## Level 3: Pseudocode/HTML/CSS/JS problems\n",
    "\n",
    "In these problems we are training the design part of the course, which will be used starting from week 6 in the course.\n",
    "\n",
    "If the error messages are not very clear, you can use the online tool: https://onu2.s2.chalmers.se/nu/#textarea\n",
    "\n",
    "Recommended sources:\n",
    "- HTML: https://www.w3schools.com/html/\n",
    "- CSS: https://www.w3schools.com/css/\n",
    "- JavaScript: https://www.w3schools.com/js/\n",
    "\n",
    "For this assignment, we study:\n",
    "- tables: https://www.w3schools.com/html/html_tables.asp\n",
    "\n",
    "Visual Studio Code sometimes does not render HTML/CSS/JS as expected. We recommend testing your solutions here: https://www.w3schools.com/html/tryit.asp?filename=tryhtml_default\n",
    "\n"
   ]
  },
  {
   "cell_type": "markdown",
   "id": "d4bd66a1",
   "metadata": {},
   "source": [
    "### Problem 3.1\n",
    "\n",
    "Create a Python function called `table_generator` that receives a list.\n",
    "\n",
    "The function should return a string that represents the HTML code. The HTML code represents the input list as a table with two columns: \n",
    "- index in the list, and\n",
    "- value at that index.\n",
    "\n",
    "Index and value should be explicitly defined as the heads of the table.\n",
    "\n",
    "The following example shows how the output of the test cell should look like.\n",
    "\n",
    "Code for testing:\n",
    "```\n",
    "table_generator(\n",
    "    ['test value 1', \n",
    "    'test value 2', \n",
    "    'test value 3', \n",
    "    'test value 4', \n",
    "    'test value 5', \n",
    "    'test value 6']\n",
    "    )\n",
    "```\n",
    "\n",
    "Must result in the following output  (the border is used just to delimit the output):\n",
    "\n",
    "<div style=\"border: 1px solid red;\">\n",
    "<table>\n",
    "    <thead>\n",
    "        <tr>\n",
    "            <th>Index</th> <th>Value</th>\n",
    "        </tr>\n",
    "    </thead>\n",
    "    <tbody>\n",
    "        <tr><td>1</td><td>test value 1</td></tr>\n",
    "        <tr><td>2</td><td>test value 2</td></tr>\n",
    "        <tr><td>3</td><td>test value 3</td></tr>\n",
    "        <tr><td>7</td><td>test value 4</td></tr>\n",
    "        <tr><td>5</td><td>test value 5</td></tr>\n",
    "        <tr><td>6</td><td>test value 6</td></tr>\n",
    "    </tbody>\n",
    "</table>\n",
    "</div>\n",
    "\n",
    "Note that each tag should be in one line, i.e., there should be a line break between every two tags."
   ]
  },
  {
   "cell_type": "code",
   "execution_count": 22,
   "id": "00024fd4",
   "metadata": {
    "tags": [
     "solution",
     "solution-3.1",
     "html"
    ]
   },
   "outputs": [
    {
     "name": "stdout",
     "output_type": "stream",
     "text": [
      "Overwriting table_generator_solution.py\n"
     ]
    }
   ],
   "source": [
    "%%writefile table_generator_solution.py\n",
    "# solution cell\n",
    "### BEGIN SOLUTION\n",
    "\n",
    "\n",
    "def table_generator(inp: list[str]) -> str:\n",
    "    outp: str = \"<table>\"\n",
    "    outp += \"\\n    <thead>\"\n",
    "    outp += \"\\n        <tr>\"\n",
    "    outp += \"\\n            <th>Index</th>\"\n",
    "    outp += \"\\n            <th>Value</th>\"\n",
    "    outp += \"\\n        </tr>\"\n",
    "    outp += \"\\n    </thead>\"\n",
    "    outp += \"\\n    <tbody>\"\n",
    "    num: int = 0\n",
    "    for i in inp:\n",
    "        num += 1\n",
    "        outp += \"\\n        <tr>\"\n",
    "        outp += \"\\n            <td>\" + str(num) + \"</td>\"\n",
    "        outp += \"\\n            <td>\" + i + \"</td>\"\n",
    "        outp += \"\\n        </tr>\"\n",
    "    outp += \"\\n    </tbody>\"\n",
    "    outp += \"\\n</table>\"\n",
    "    return outp\n",
    "\n",
    "\n",
    "### END SOLUTION\n"
   ]
  },
  {
   "cell_type": "code",
   "execution_count": 23,
   "id": "62e3ef51",
   "metadata": {
    "tags": [
     "debug",
     "debug-3.1"
    ]
   },
   "outputs": [
    {
     "name": "stdout",
     "output_type": "stream",
     "text": [
      "HTML code:\n",
      "<table>\n",
      "    <thead>\n",
      "        <tr>\n",
      "            <th>Index</th>\n",
      "            <th>Value</th>\n",
      "        </tr>\n",
      "    </thead>\n",
      "    <tbody>\n",
      "        <tr>\n",
      "            <td>1</td>\n",
      "            <td>test value 1</td>\n",
      "        </tr>\n",
      "        <tr>\n",
      "            <td>2</td>\n",
      "            <td>test value 2</td>\n",
      "        </tr>\n",
      "        <tr>\n",
      "            <td>3</td>\n",
      "            <td>test value 3</td>\n",
      "        </tr>\n",
      "        <tr>\n",
      "            <td>4</td>\n",
      "            <td>test value 4</td>\n",
      "        </tr>\n",
      "        <tr>\n",
      "            <td>5</td>\n",
      "            <td>test value 5</td>\n",
      "        </tr>\n",
      "        <tr>\n",
      "            <td>6</td>\n",
      "            <td>test value 6</td>\n",
      "        </tr>\n",
      "    </tbody>\n",
      "</table>\n",
      "Execution finished ✓\n"
     ]
    }
   ],
   "source": [
    "%autoreload 2\n",
    "# uncomment the line(s) below to debug\n",
    "from table_generator_solution import table_generator\n",
    "\n",
    "print('HTML code:')\n",
    "s = table_generator(\n",
    "    ['test value 1', \n",
    "    'test value 2', \n",
    "    'test value 3', \n",
    "    'test value 4', \n",
    "    'test value 5', \n",
    "    'test value 6']\n",
    "    )\n",
    "print(s)\n",
    "print('Execution finished', u'\\u2713')"
   ]
  },
  {
   "cell_type": "code",
   "execution_count": 24,
   "id": "c0652e26",
   "metadata": {
    "tags": [
     "check",
     "check-3.1"
    ]
   },
   "outputs": [
    {
     "data": {
      "text/html": [
       "<!DOCTYPE html>\n",
       "    <html lang=\"en\">\n",
       "        <head>\n",
       "            <title>Page Title</title>\n",
       "        </head>\n",
       "        <body><p style=\"color: red;\">start of your solution &gt;&gt;&gt;&gt;</p>\n",
       "        <table>\n",
       "    <thead>\n",
       "        <tr>\n",
       "            <th>Index</th>\n",
       "            <th>Value</th>\n",
       "        </tr>\n",
       "    </thead>\n",
       "    <tbody>\n",
       "        <tr>\n",
       "            <td>1</td>\n",
       "            <td>test value 1</td>\n",
       "        </tr>\n",
       "        <tr>\n",
       "            <td>2</td>\n",
       "            <td>test value 2</td>\n",
       "        </tr>\n",
       "        <tr>\n",
       "            <td>3</td>\n",
       "            <td>test value 3</td>\n",
       "        </tr>\n",
       "        <tr>\n",
       "            <td>4</td>\n",
       "            <td>test value 4</td>\n",
       "        </tr>\n",
       "        <tr>\n",
       "            <td>5</td>\n",
       "            <td>test value 5</td>\n",
       "        </tr>\n",
       "        <tr>\n",
       "            <td>6</td>\n",
       "            <td>test value 6</td>\n",
       "        </tr>\n",
       "    </tbody>\n",
       "</table><p style=\"color: red;\">&lt;&lt;&lt;&lt; end of your solution</p></body>\n",
       "</html>"
      ],
      "text/plain": [
       "<IPython.core.display.HTML object>"
      ]
     },
     "metadata": {},
     "output_type": "display_data"
    }
   ],
   "source": [
    "%autoreload 2\n",
    "# DO NOT REMOVE THIS CODE >>> BEGINNING\n",
    "# this cell assembles the HTML returned by the function that you wrote\n",
    "# and renders it in the \"preview\" window\n",
    "\n",
    "#from IPython import display\n",
    "from table_generator_solution import table_generator\n",
    "from IPython.display import display, HTML\n",
    "html_header = \"\"\"<!DOCTYPE html>\n",
    "    <html lang=\"en\">\n",
    "        <head>\n",
    "            <title>Page Title</title>\n",
    "        </head>\n",
    "        <body><p style=\"color: red;\">start of your solution &gt;&gt;&gt;&gt;</p>\n",
    "        \"\"\"\n",
    "html_footer = \"\"\"<p style=\"color: red;\">&lt;&lt;&lt;&lt; end of your solution</p></body>\n",
    "</html>\"\"\"\n",
    "html = table_generator(\n",
    "    ['test value 1', \n",
    "    'test value 2', \n",
    "    'test value 3', \n",
    "    'test value 4', \n",
    "    'test value 5', \n",
    "    'test value 6']\n",
    "    )\n",
    "html_to_test = html_header + html + html_footer\n",
    "display(HTML(html_to_test))\n",
    "\n",
    "# DO NOT REMOVE THIS CODE <<< END"
   ]
  },
  {
   "cell_type": "code",
   "execution_count": 25,
   "id": "b9f07e97",
   "metadata": {
    "tags": [
     "tests",
     "tests-3.1"
    ]
   },
   "outputs": [
    {
     "name": "stdout",
     "output_type": "stream",
     "text": [
      "first\n",
      "first\n",
      "first\n",
      "first\n",
      "first\n"
     ]
    },
    {
     "data": {
      "text/html": [
       "<div class=\"tip admonition\">\n",
       "<p class=\"admonition-title\">Code Quality Analysis: <span style=\"color: green\">Pass</span></p><p>*No problem was found*\n",
       "</p>\n",
       "    </div>"
      ],
      "text/plain": [
       "<IPython.core.display.HTML object>"
      ]
     },
     "metadata": {},
     "output_type": "display_data"
    },
    {
     "name": "stdout",
     "output_type": "stream",
     "text": [
      "tests passed ✓\n"
     ]
    }
   ],
   "source": [
    "%autoreload 2\n",
    "# test cell\n",
    "import random\n",
    "from lorem_text import lorem\n",
    "from bs4 import BeautifulSoup\n",
    "from table_generator_solution import table_generator\n",
    "\n",
    "has_error = False\n",
    "\n",
    "html_header = \"\"\"<!DOCTYPE html>\n",
    "    <html lang=\"en\">\n",
    "        <head>\n",
    "            <title>Page Title</title>\n",
    "        </head>\n",
    "        <body><p style=\"color: red;\">start of your solution &gt;&gt;&gt;&gt;</p>\n",
    "        \"\"\"\n",
    "html_footer = \"\"\"<p style=\"color: red;\">&lt;&lt;&lt;&lt; end of your solution</p></body>\n",
    "</html>\"\"\"\n",
    "\n",
    "for i in range(5):\n",
    "\n",
    "    input_list = []\n",
    "    num_elems = random.randint(5, 10)\n",
    "    for i in range(num_elems):\n",
    "        input_list.append(lorem.words(random.randint(5, 10)))\n",
    "\n",
    "    original_html = table_generator(input_list)\n",
    "\n",
    "    html_to_test = html_header + original_html + html_footer\n",
    "\n",
    "    soup = validate_html(html_to_test)\n",
    "\n",
    "    tag_set = set([str(tag.name) for tag in soup.find_all()])\n",
    "    tag_pairs = []\n",
    "    for tag_1 in tag_set:\n",
    "        for tag_2 in tag_set:\n",
    "            if tag_1 != tag_2:\n",
    "                tag_pairs.append((tag_1, tag_2))\n",
    "\n",
    "    for i, line in enumerate(original_html.split('\\n')):\n",
    "        for tag_1, tag_2 in tag_pairs:\n",
    "            if f'<{tag_1}>' in line or f'</{tag_1}>' in line:\n",
    "                assert f'<{tag_2}>' not in line and f'</{tag_2}>' not in line, \\\n",
    "                    f'Line {i+1} has two tags in the same line ({tag_1} and {tag_2}).\\\n",
    "                        \\nYou must have them in different lines.\\nLine {i+1}:\\t{line}'\n",
    "\n",
    "    tags_table = soup.find_all('table')\n",
    "    assert len(tags_table) == 1, f'The HTML seems needs to have 1 table. Now it has \\\n",
    "        {len(tags_table)} table(s).'\n",
    "\n",
    "    tags_thead = tags_table[0].find_all('thead')\n",
    "    assert len(tags_thead) == 1, 'The needs to have one `thead` tag.'\n",
    "\n",
    "    tags_tr = tags_thead[0].find_all('tr')\n",
    "    assert len(tags_tr) == 1, 'The table head needs to have only one row.'\n",
    "\n",
    "    tags_th = tags_tr[0].find_all('th')\n",
    "    assert len(tags_th) == 2, f'The table must have 2 header columns. Now it has \\\n",
    "        {len(tags_th)} column(s).'\n",
    "\n",
    "    tags_tbody = tags_table[0].find_all('tbody')\n",
    "    assert len(tags_tbody) == 1, 'Your table is missing a `tbody` tag.'\n",
    "\n",
    "    tags_tr = tags_tbody[0].find_all('tr')\n",
    "    assert len(tags_tr) == num_elems, f'The table must have {num_elems} rows. \\\n",
    "        Now it has {len(tags_tr)} row(s).'\n",
    "\n",
    "    for idx, tag_tr in enumerate(tags_tr):\n",
    "        tags_td = tag_tr.find_all('td')\n",
    "        assert len(tags_td) == 2, f'The table must have 2 columns. Now it has \\\n",
    "            {len(tags_td)} column(s).\\nRow with problems: \\t{tag_tr}'\n",
    "        assert int(tags_td[0].contents[0]) == idx + 1, f'The table contents are \\\n",
    "            incorrect. Row with problems: \\t{tag_tr}'\n",
    "        assert tags_td[1].contents[0] == input_list[idx], f'The table contents are \\\n",
    "            incorrect. Row with problems: \\t{tag_tr}'\n",
    "\n",
    "validate_python_code(\"table_generator_solution.py\")\n",
    "print('tests passed', u'\\u2713')"
   ]
  }
 ],
 "metadata": {
  "assignment_list": [
   "1.1",
   "1.2",
   "1.3",
   "1.4",
   "2.1",
   "2.2",
   "3.1"
  ],
  "celltoolbar": "Create Assignment",
  "kernelspec": {
   "display_name": "Python 3 (ipykernel)",
   "language": "python",
   "name": "python3"
  },
  "language_info": {
   "codemirror_mode": {
    "name": "ipython",
    "version": 3
   },
   "file_extension": ".py",
   "mimetype": "text/x-python",
   "name": "python",
   "nbconvert_exporter": "python",
   "pygments_lexer": "ipython3",
   "version": "3.10.13"
  },
  "vscode": {
   "interpreter": {
    "hash": "2cb7843e253d2e26ab065851fb0883c43c29418950592dd63fef040d62b28239"
   }
  }
 },
 "nbformat": 4,
 "nbformat_minor": 5
}
