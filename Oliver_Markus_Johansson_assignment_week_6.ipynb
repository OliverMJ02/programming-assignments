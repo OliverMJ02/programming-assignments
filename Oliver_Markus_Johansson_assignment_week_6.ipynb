{
 "cells": [
  {
   "cell_type": "markdown",
   "id": "bca29093",
   "metadata": {},
   "source": [
    "# EEN060 - Applied object-oriented programming\n",
    "\n",
    "Teacher: [Carlos Natalino](https://www.chalmers.se/en/staff/Pages/Carlos-Natalino-Da-Silva.aspx) / Examiner: [Paolo Monti](https://www.chalmers.se/en/staff/Pages/Paolo-Monti.aspx)\n",
    "\n",
    "[Canvas course page](https://chalmers.instructure.com/courses/28094)\n",
    "\n",
    "[Course channel on Chalmers Play](https://play.chalmers.se/channel/EEN060_EEN065_Applied_object-oriented_programming/300149)\n",
    "\n",
    "Before you turn this assignment list in, make sure everything runs as expected.\n",
    "First, **restart the kernel** and then **run all cells**.\n",
    "Then, check if all the tests run correctly.\n",
    "Note that if one of the problems present an error, the following ones **will not** be tested.\n",
    "\n",
    "In case of discrepancies between the problem command and the tests, you should solve it having in mind the tests.\n",
    "\n",
    "There are two types of cell:\n",
    "1. *solution cells:* These are the cells where you write your answer, or modify the existing code to solve the problem.\n",
    "2. *test cells:* These cells are used to test whether your solution is correct or not. If the tests run correctly, you should see a message `tests passed`. Otherwise, you should see an error message.\n",
    "\n",
    "**Delete** the line `raise NotImplementedError()` from the problems that you solve.\n",
    "\n",
    "**Do not delete or add any cell in this file.** All cells that you need are already in place.\n",
    "\n",
    "You may also have problems that will be manually graded (e.g., HTML/CSS/JS/pseudocode problems).\n",
    "These problems **do not** have a respective *test cell*.\n",
    "\n",
    "If you want to execute a cell, select the cell and press **CTRL+Enter** (in Windows) or **CMD+Enter** (in macOS) or click on the **Run cell** button.\n",
    "\n",
    "**If you want, you can solve this programming assignment using Google Colab**\n",
    "\n",
    "Link: https://colab.research.google.com/\n",
    "\n",
    "Just copy the following line to a code line and run it."
   ]
  },
  {
   "cell_type": "code",
   "execution_count": 1,
   "id": "3949d3d0",
   "metadata": {
    "tags": [
     "install"
    ]
   },
   "outputs": [],
   "source": [
    "# !pip install --upgrade --user pip pip-tools\n",
    "# !pip install ipykernel jupyter notebook wtforms flask flask-wtf gunicorn nose flask-testing pytest coverage flake8 requests mypy pylint blinker types-requests isort black lorem-text bs4 pep8-naming matplotlib redis types-redis"
   ]
  },
  {
   "cell_type": "markdown",
   "id": "ab150855",
   "metadata": {},
   "source": [
    "## Assignment 6\n",
    "\n",
    "In this assignment, students should practice:\n",
    "- how to obtain data from web services\n",
    "- how to parse data coming from web services\n",
    "- how to interpret status codes from error services\n",
    "\n",
    "The problems here are related to chapters 11 and 12 of the lecture notes, and includes knowledge from previous chapters."
   ]
  },
  {
   "cell_type": "markdown",
   "id": "3e7d0d3a",
   "metadata": {},
   "source": [
    "**Preparation:** Run the cell below every time you start working on this file, and every time you restart the kernel."
   ]
  },
  {
   "cell_type": "code",
   "execution_count": 2,
   "id": "e49602d1",
   "metadata": {
    "tags": [
     "load"
    ]
   },
   "outputs": [],
   "source": [
    "%load_ext autoreload\n",
    "try:\n",
    "    from utils import validate_python_code, validate_html\n",
    "except:\n",
    "    import sys\n",
    "    print(\"It seems this file is in the wrong folder. \"\n",
    "          \"Make sure to place it in the `programming-assignments` folder/project.\",\n",
    "          file=sys.stderr)"
   ]
  },
  {
   "cell_type": "markdown",
   "id": "7a121938",
   "metadata": {},
   "source": [
    "### Level 1\n",
    "\n",
    "Level 1 problems are simple problems that required only the knowledge obtained in the content of the lecture and the lecture notes of the particular lecture."
   ]
  },
  {
   "cell_type": "markdown",
   "id": "521b4148",
   "metadata": {},
   "source": [
    "#### Problem 1.1\n",
    "\n",
    "Create a Python function called `download_csv` that uses the `requests` external module to download the CSV file from:\n",
    "\n",
    "http://onu1.s2.chalmers.se/datasets/assignment_06.csv\n",
    "\n",
    "and saves the text of the response to a file called `person_data.csv`."
   ]
  },
  {
   "cell_type": "markdown",
   "id": "c4fcd71d",
   "metadata": {},
   "source": [
    "```\n",
    "# write here your pseudocode (not graded)\n",
    "\n",
    "# * pseudocode is necessary when asking for help during the lab\n",
    "```"
   ]
  },
  {
   "cell_type": "code",
   "execution_count": 3,
   "id": "6ec9f58e",
   "metadata": {
    "tags": [
     "solution",
     "solution-1.1"
    ]
   },
   "outputs": [
    {
     "name": "stdout",
     "output_type": "stream",
     "text": [
      "Overwriting download_csv_solution.py\n"
     ]
    }
   ],
   "source": [
    "%%writefile download_csv_solution.py\n",
    "# solution cell\n",
    "### BEGIN SOLUTION\n",
    "import requests\n",
    "\n",
    "\n",
    "def download_csv() -> None:\n",
    "    response = requests.get(\"http://onu1.s2.chalmers.se/datasets/assignment_06.csv\")\n",
    "    with open(\"person_data.csv\", \"wt\", encoding=\"UTF-8\") as pd:\n",
    "        pd.write(response.text)\n",
    "\n",
    "\n",
    "### END SOLUTION\n"
   ]
  },
  {
   "cell_type": "code",
   "execution_count": 4,
   "id": "55cf0066",
   "metadata": {
    "tags": [
     "debug",
     "debug-1.1"
    ]
   },
   "outputs": [
    {
     "name": "stdout",
     "output_type": "stream",
     "text": [
      "Name,Phone,Email\n",
      "Jescie van den Bosch,0760717243,aliquet@aol.org\n",
      "Emily Schouten,0726812327,integer.aliquam@yahoo.net\n",
      "Danielle Schut,0784739225,aliquet@google.net\n",
      "Chava Kok,0731520635,cursus@aol.org\n",
      "Leonard de Jager,0729537142,et.magnis@outlook.edu\n",
      "Ann Roos,0762858217,condimentum.eget.volutpat@yahoo.couk\n",
      "Neil Kersten,0715359187,faucibus@icloud.edu\n",
      "Samuel Lammers,0716565128,velit.cras.lorem@google.ca\n",
      "Ramona Peeters,0710435864,felis@icloud.com\n",
      "Rinah de Ruiter,0794297533,aliquet@protonmail.org\n",
      "\n",
      "Execution finished ✓\n"
     ]
    }
   ],
   "source": [
    "%autoreload 2\n",
    "# uncomment the line(s) below to debug\n",
    "from download_csv_solution import download_csv\n",
    "\n",
    "download_csv()\n",
    "with open(\"person_data.csv\") as file:\n",
    "    print(file.read())\n",
    "print('Execution finished', u'\\u2713')"
   ]
  },
  {
   "cell_type": "code",
   "execution_count": 5,
   "id": "3f151fc3",
   "metadata": {
    "tags": [
     "tests",
     "tests-1.1"
    ]
   },
   "outputs": [
    {
     "data": {
      "text/html": [
       "<div class=\"tip admonition\">\n",
       "<p class=\"admonition-title\">Code Quality Analysis: <span style=\"color: green\">Pass</span></p><p>*No problem was found*\n",
       "</p>\n",
       "    </div>"
      ],
      "text/plain": [
       "<IPython.core.display.HTML object>"
      ]
     },
     "metadata": {},
     "output_type": "display_data"
    },
    {
     "name": "stdout",
     "output_type": "stream",
     "text": [
      "tests passed ✓\n"
     ]
    }
   ],
   "source": [
    "%autoreload 2\n",
    "# test cell\n",
    "try:\n",
    "    import download_csv_solution\n",
    "except:\n",
    "    raise ValueError(\"You did not execute your solution cell!\")\n",
    "try:\n",
    "    from download_csv_solution import download_csv\n",
    "except:\n",
    "    raise ValueError(\"Your solution does not contain the right function!\")\n",
    "\n",
    "import os\n",
    "\n",
    "if os.path.isfile('person_data.csv'):\n",
    "    os.remove('person_data.csv')\n",
    "\n",
    "download_csv()\n",
    "\n",
    "assert os.path.exists('person_data.csv'), 'The file has not been created!'\n",
    "with open(\"person_data.csv\") as file:\n",
    "    lines = file.read().split(\"\\n\")\n",
    "    assert lines[0] == \"Name,Phone,Email\", 'The file does not seem to have been correctly saved!'\n",
    "    if len(lines[-1]) == 0:\n",
    "        assert lines[-2] == \"Rinah de Ruiter,0794297533,aliquet@protonmail.org\", 'The file does not seem to have been correctly saved!'\n",
    "    else:\n",
    "        assert lines[-1] == \"Rinah de Ruiter,0794297533,aliquet@protonmail.org\", 'The file does not seem to have been correctly saved!'\n",
    "\n",
    "validate_python_code(\"download_csv_solution.py\")\n",
    "print('tests passed', u'\\u2713')"
   ]
  },
  {
   "cell_type": "markdown",
   "id": "cdb68f1a",
   "metadata": {},
   "source": [
    "#### Problem 1.2\n",
    "\n",
    "Create a Python function called `parse_csv` that reads the content of the csv file (created from the previous question) using the `csv` module, and converting it into a Python dictionary. Make sure the csv file `\"person_data.csv\"` exists before parsing the CSV file. In case the file does not exist, call the function from the previous solution to download the CSV file.\n",
    "\n",
    "The dictionary should contain headers of the csv table as the keys. Each key is assigned to a list of values under that header in the table.\n",
    "\n",
    "**Example**\n",
    "\n",
    "Suppose `person_data.csv` contains the following table:\n",
    "\n",
    "<div>\n",
    "<table>\n",
    "    <thead>\n",
    "        <tr>\n",
    "            <th>ID</th> <th>Value</th>\n",
    "        </tr>\n",
    "    </thead>\n",
    "    <tbody>\n",
    "        <tr><td>1</td><td>test value 1</td></tr>\n",
    "        <tr><td>2</td><td>test value 2</td></tr>\n",
    "        <tr><td>3</td><td>test value 3</td></tr>\n",
    "    </tbody>\n",
    "</table>\n",
    "</div>\n",
    "\n",
    "Output: {'ID': ['1', '2', '3'], 'Value': ['test value 1', 'test value 2', 'test value 3']}"
   ]
  },
  {
   "cell_type": "markdown",
   "id": "ba603202",
   "metadata": {},
   "source": [
    "```\n",
    "# write here your pseudocode (not graded)\n",
    "\n",
    "# * pseudocode is necessary when asking for help during the lab\n",
    "```"
   ]
  },
  {
   "cell_type": "code",
   "execution_count": 6,
   "id": "4f388d2e",
   "metadata": {
    "tags": [
     "solution",
     "solution-1.2"
    ]
   },
   "outputs": [
    {
     "name": "stdout",
     "output_type": "stream",
     "text": [
      "Overwriting parse_csv_solution.py\n"
     ]
    }
   ],
   "source": [
    "%%writefile parse_csv_solution.py\n",
    "# solution cell\n",
    "### BEGIN SOLUTION\n",
    "from download_csv_solution import download_csv\n",
    "\n",
    "\n",
    "def parse_csv() -> dict[str, list[str]]:\n",
    "    try:\n",
    "        with open(\"person_data.csv\", \"rt\", encoding=\"UTF-8\") as pd_file:\n",
    "            lines = pd_file.readlines()\n",
    "        header = lines[0].strip().split(\",\")\n",
    "        person_data: dict[str, list[str]] = {key: [] for key in header}\n",
    "        for line in lines[1:]:\n",
    "            data = line.strip().split(\",\")\n",
    "            for i, value in enumerate(data):\n",
    "                person_data[header[i]].append(value)\n",
    "        return person_data\n",
    "    except Exception:\n",
    "        download_csv()\n",
    "        return parse_csv()\n",
    "\n",
    "\n",
    "### END SOLUTION\n"
   ]
  },
  {
   "cell_type": "code",
   "execution_count": 7,
   "id": "2be1b596",
   "metadata": {
    "tags": [
     "debug",
     "debug-1.2"
    ]
   },
   "outputs": [
    {
     "name": "stdout",
     "output_type": "stream",
     "text": [
      "{'Name': ['Jescie van den Bosch', 'Emily Schouten', 'Danielle Schut', 'Chava Kok', 'Leonard de Jager', 'Ann Roos', 'Neil Kersten', 'Samuel Lammers', 'Ramona Peeters', 'Rinah de Ruiter'], 'Phone': ['0760717243', '0726812327', '0784739225', '0731520635', '0729537142', '0762858217', '0715359187', '0716565128', '0710435864', '0794297533'], 'Email': ['aliquet@aol.org', 'integer.aliquam@yahoo.net', 'aliquet@google.net', 'cursus@aol.org', 'et.magnis@outlook.edu', 'condimentum.eget.volutpat@yahoo.couk', 'faucibus@icloud.edu', 'velit.cras.lorem@google.ca', 'felis@icloud.com', 'aliquet@protonmail.org']}\n",
      "Execution finished ✓\n"
     ]
    }
   ],
   "source": [
    "%autoreload 2\n",
    "# uncomment the line(s) below to debug\n",
    "from parse_csv_solution import parse_csv\n",
    "\n",
    "print(parse_csv())\n",
    "print('Execution finished', u'\\u2713')"
   ]
  },
  {
   "cell_type": "code",
   "execution_count": 8,
   "id": "ccc7e0a8",
   "metadata": {
    "tags": [
     "tests",
     "tests-1.2"
    ]
   },
   "outputs": [
    {
     "data": {
      "text/html": [
       "<div class=\"tip admonition\">\n",
       "<p class=\"admonition-title\">Code Quality Analysis: <span style=\"color: green\">Pass</span></p><p>*No problem was found*\n",
       "</p>\n",
       "    </div>"
      ],
      "text/plain": [
       "<IPython.core.display.HTML object>"
      ]
     },
     "metadata": {},
     "output_type": "display_data"
    },
    {
     "name": "stdout",
     "output_type": "stream",
     "text": [
      "tests passed ✓\n"
     ]
    }
   ],
   "source": [
    "%autoreload 2\n",
    "# test cell\n",
    "try:\n",
    "    import parse_csv_solution\n",
    "except:\n",
    "    raise ValueError(\"You did not execute your solution cell!\")\n",
    "try:\n",
    "    from parse_csv_solution import parse_csv\n",
    "except:\n",
    "    raise ValueError(\"Your solution does not contain the right function!\")\n",
    "\n",
    "import os\n",
    "\n",
    "if os.path.isfile('person_data.csv'):\n",
    "    os.remove('person_data.csv')\n",
    "\n",
    "ret_dict = parse_csv()\n",
    "assert isinstance(ret_dict, dict), 'The function should return a dict!'\n",
    "assert len(ret_dict) == 3, f'The dict should contain 3 keys, but had {len(ret_dict)}!'\n",
    "assert [x in ret_dict for x in [\"Name\", \"Phone\", \"Email\"]] == [True]*3, 'The dictionary does not seem to contain the correct keys!'\n",
    "assert [len(ret_dict[x]) == 10 for x in ret_dict.keys()] == [True]*3, 'The dictionary does not seem to contain the correct values!'\n",
    "\n",
    "validate_python_code(\"parse_csv_solution.py\")\n",
    "print('tests passed', u'\\u2713')"
   ]
  },
  {
   "cell_type": "markdown",
   "id": "81e6e6b4",
   "metadata": {},
   "source": [
    "---\n",
    "## Level 2\n",
    "\n",
    "Problems in level 2 should build upon the content of the lecture and the content of previous lectures.\n",
    "Therefore, the problems can be solved based solely on the lecture notes available for the course up to the lecture the assignment is about."
   ]
  },
  {
   "cell_type": "markdown",
   "id": "0837514a",
   "metadata": {},
   "source": [
    "### Problem 2.1\n",
    "\n",
    "Create a Python dataclass named `Person` that is also a dataclass.\n",
    "The attributes are:\n",
    "- name, string\n",
    "- birthdate, date\n",
    "- person_number, string\n",
    "- phone_number, string (optional, default `None`)\n",
    "- address, string (optional, default `None`)\n",
    "\n",
    "\n",
    "The class should also have a `__repr__()` method that returns a string containing only the attributes that are not `None`, separated by `\\t` characters."
   ]
  },
  {
   "cell_type": "code",
   "execution_count": 9,
   "id": "0585a53b",
   "metadata": {
    "tags": [
     "solution",
     "solution-2.1"
    ]
   },
   "outputs": [
    {
     "name": "stdout",
     "output_type": "stream",
     "text": [
      "Overwriting person_class.py\n"
     ]
    }
   ],
   "source": [
    "%%writefile person_class.py\n",
    "# solution cell\n",
    "### BEGIN SOLUTION\n",
    "from dataclasses import dataclass\n",
    "from typing import Optional\n",
    "\n",
    "\n",
    "@dataclass\n",
    "class Person:\n",
    "    name: str\n",
    "    role: str\n",
    "    person_number: str\n",
    "    phone_number: Optional[str] = None\n",
    "    address: Optional[str] = None\n",
    "\n",
    "    def __repr__(self) -> str:\n",
    "        outp = \"\"\n",
    "        ls = [\n",
    "            self.name,\n",
    "            self.role,\n",
    "            self.person_number,\n",
    "            self.phone_number,\n",
    "            self.address,\n",
    "        ]\n",
    "        for item in ls:\n",
    "            if item is not None:\n",
    "                outp += str(item) + \"\\t\"\n",
    "        return outp.strip()\n",
    "\n",
    "\n",
    "### END SOLUTION\n"
   ]
  },
  {
   "cell_type": "code",
   "execution_count": 10,
   "id": "f3fe333a",
   "metadata": {
    "tags": [
     "debug",
     "debug-2.1"
    ]
   },
   "outputs": [
    {
     "name": "stdout",
     "output_type": "stream",
     "text": [
      "The Person object converts to string as\n",
      "John Doe\tManager\t201414202014\n",
      "Execution finished ✓\n"
     ]
    }
   ],
   "source": [
    "%autoreload 2\n",
    "# uncomment the line(s) below to debug\n",
    "from person_class import Person\n",
    "\n",
    "person = Person('John Doe', 'Manager', '201414202014')\n",
    "print(f'The Person object converts to string as\\n{person}')\n",
    "print('Execution finished', u'\\u2713')"
   ]
  },
  {
   "cell_type": "code",
   "execution_count": 11,
   "id": "7bac3aa8",
   "metadata": {
    "tags": [
     "tests",
     "tests-2.1"
    ]
   },
   "outputs": [
    {
     "data": {
      "text/html": [
       "<div class=\"tip admonition\">\n",
       "<p class=\"admonition-title\">Code Quality Analysis: <span style=\"color: green\">Pass</span></p><p>*No problem was found*\n",
       "</p>\n",
       "    </div>"
      ],
      "text/plain": [
       "<IPython.core.display.HTML object>"
      ]
     },
     "metadata": {},
     "output_type": "display_data"
    },
    {
     "name": "stdout",
     "output_type": "stream",
     "text": [
      "tests passed ✓\n"
     ]
    }
   ],
   "source": [
    "%autoreload 2\n",
    "# test cell\n",
    "try:\n",
    "    import person_class\n",
    "except:\n",
    "    raise ValueError(\"You did not execute your solution cell!\")\n",
    "try:\n",
    "    from person_class import Person\n",
    "except:\n",
    "    raise ValueError(\"Your solution does not contain the right function!\")\n",
    "\n",
    "from unittest.mock import patch\n",
    "\n",
    "assert 'Person' in dir(), 'Class Person does not exist!'\n",
    "p = Person('John Doe', 'Manager', '201414202014' )\n",
    "with patch('__main__.print') as mock_print:\n",
    "    s = str(p)\n",
    "mock_print.assert_not_called()\n",
    "assert str(p) == 'John Doe\\tManager\\t201414202014', \"The output of repr is incorrect\"\n",
    "p = Person('Jane Doe', 'Supervisor', '201212202012', 'Gibraltargatan')\n",
    "assert str(p) == 'Jane Doe\\tSupervisor\\t201212202012\\tGibraltargatan'\n",
    "p = Person('Jane Doe', 'Supervisor', '201212202012', 'Gibraltargatan', '123456')\n",
    "assert str(p) == 'Jane Doe\\tSupervisor\\t201212202012\\tGibraltargatan\\t123456'\n",
    "p = Person('Jane Doe', 'Supervisor', '201212202012', '123456')\n",
    "assert str(p) == 'Jane Doe\\tSupervisor\\t201212202012\\t123456'\n",
    "p = Person('Jane Doe', 'Super visor', '201212 202012',  'Gibraltar gatan')\n",
    "assert str(p) == 'Jane Doe\\tSuper visor\\t201212 202012\\tGibraltar gatan'\n",
    "\n",
    "validate_python_code(\"person_class.py\")\n",
    "print('tests passed', u'\\u2713')"
   ]
  },
  {
   "cell_type": "markdown",
   "id": "6eae7be7",
   "metadata": {},
   "source": [
    "### Problem 2.2\n",
    "\n",
    "Create a Python class named `Student` that inherits from the class `Person` created in the previous problem.\n",
    "The class `Student` should override the initialization method of the class `Person` and set the attribute `role` always with the value `\"Student\"`, removing the need to pass it as a parameter to the method.\n",
    "\n",
    "The initialization method should also include the parameter `program` as a mandatory one, before the phone_number and address.\n",
    "\n",
    "Finally, the class `Student` should also have a method `.print()` that uses the return of the method `.__repr__()` of the *parent* class and appends program to it, printing out the result.\n",
    "\n",
    "**Note:** Since the class in this problem inherits from the class created in the previous problem, note that you need to import the `Person` class from the module created in the previous problem in the solution cell of this one."
   ]
  },
  {
   "cell_type": "code",
   "execution_count": 12,
   "id": "8bacb41a",
   "metadata": {
    "tags": [
     "solution",
     "solution-2.2"
    ]
   },
   "outputs": [
    {
     "name": "stdout",
     "output_type": "stream",
     "text": [
      "Overwriting student_class.py\n"
     ]
    }
   ],
   "source": [
    "%%writefile student_class.py\n",
    "# solution cell\n",
    "### BEGIN SOLUTION\n",
    "from typing import Optional\n",
    "\n",
    "from person_class import Person\n",
    "\n",
    "\n",
    "class Student(Person):\n",
    "    def __init__(\n",
    "        self,\n",
    "        name: str,\n",
    "        person_number: str,\n",
    "        program: str,\n",
    "        phone_number: Optional[str] = None,\n",
    "        address: Optional[str] = None,\n",
    "    ) -> None:\n",
    "        super().__init__(name, \"Student\", person_number, phone_number, address)\n",
    "        self.program = program\n",
    "\n",
    "    def print(self) -> None:\n",
    "        st = super().__repr__()\n",
    "        st += f\"\\t{self.program}\"\n",
    "        print(st)\n",
    "\n",
    "\n",
    "### END SOLUTION\n"
   ]
  },
  {
   "cell_type": "code",
   "execution_count": 13,
   "id": "0af9c5d3",
   "metadata": {
    "tags": [
     "debug",
     "debug-2.2"
    ]
   },
   "outputs": [
    {
     "name": "stdout",
     "output_type": "stream",
     "text": [
      "Student:\n",
      "John Doe\tStudent\t201414202014\tTIEPL\n",
      "Execution finished ✓\n"
     ]
    }
   ],
   "source": [
    "%autoreload 2\n",
    "# uncomment the line(s) below to debug\n",
    "from student_class import Student\n",
    "\n",
    "s = Student('John Doe', '201414202014', 'TIEPL')\n",
    "print('Student:')\n",
    "s.print()\n",
    "print('Execution finished', u'\\u2713')"
   ]
  },
  {
   "cell_type": "code",
   "execution_count": 14,
   "id": "9aa7e27d",
   "metadata": {
    "tags": [
     "tests",
     "tests-2.2"
    ]
   },
   "outputs": [
    {
     "data": {
      "text/html": [
       "<div class=\"tip admonition\">\n",
       "<p class=\"admonition-title\">Code Quality Analysis: <span style=\"color: green\">Pass</span></p><p>*No problem was found*\n",
       "</p>\n",
       "    </div>"
      ],
      "text/plain": [
       "<IPython.core.display.HTML object>"
      ]
     },
     "metadata": {},
     "output_type": "display_data"
    },
    {
     "name": "stdout",
     "output_type": "stream",
     "text": [
      "tests passed ✓\n"
     ]
    }
   ],
   "source": [
    "%autoreload 2\n",
    "# test cell\n",
    "try:\n",
    "    import student_class\n",
    "except:\n",
    "    raise ValueError(\"You did not execute your solution cell!\")\n",
    "try:\n",
    "    from student_class import Student\n",
    "    from person_class import Person\n",
    "except:\n",
    "    raise ValueError(\"Your solution does not contain the right function!\")\n",
    "\n",
    "from unittest.mock import patch\n",
    "\n",
    "assert 'Student' in dir(), 'Class Student does not exist!'\n",
    "assert 'print' in dir(Student), 'Class Student does not have a method `print`.'\n",
    "\n",
    "s = Student('John Doe', '201414202014', 'TIEPL')\n",
    "assert isinstance(s, Person), 'The class Student is not a child class of the class Person'\n",
    "with patch('student_class.print') as mock_print:\n",
    "    s.print()\n",
    "mock_print.assert_called_once_with('John Doe\\tStudent\\t201414202014\\tTIEPL')\n",
    "\n",
    "s = Student('John Doe', '201414202014', 'TIEPL', 'Gibraltargatan')\n",
    "with patch('student_class.print') as mock_print:\n",
    "    s.print()\n",
    "mock_print.assert_called_once_with('John Doe\\tStudent\\t201414202014\\tGibraltargatan\\tTIEPL')\n",
    "assert hasattr(s, 'program'), 'The object does not seem to have the property `program`'\n",
    "\n",
    "validate_python_code(\"student_class.py\")\n",
    "print('tests passed', u'\\u2713')"
   ]
  },
  {
   "cell_type": "markdown",
   "id": "2f279871",
   "metadata": {},
   "source": [
    "### Problem 2.3\n",
    "\n",
    "Create a Python class called `CourseRegister`.\n",
    "In the initialization method, the class should receive the `name` and `code` of the course, and save them as attributes.\n",
    "\n",
    "The class should also have a method called `.register()` that receives an object of the class `Student` and adds it to the list of enrolled students.\n",
    "- This list should be initialized as an empty list in the initialization method, and called `list_registered_students`.\n",
    "- The objects should be added to the list only if they are an object of the `Student` class.\n",
    "- The method should not add the same student twice in the list.\n",
    "\n",
    "The class should also have a method called `.remove()` that receives and object of the class `Student`, representing a student that is already enrolled, and removes it from the list of enrolled students.\n",
    "\n",
    "The method should check whether the student is present in the list, before trying to remove the student from the list.\n",
    "\n",
    "**Note:** You should run your solutions to problems 2.1 and 2.2 for the test cell to work properly."
   ]
  },
  {
   "cell_type": "markdown",
   "id": "71b91d99",
   "metadata": {},
   "source": [
    "```\n",
    "# write here your pseudocode (not graded)\n",
    "\n",
    "# * pseudocode is necessary when asking for help during the lab\n",
    "```"
   ]
  },
  {
   "cell_type": "code",
   "execution_count": 15,
   "id": "9cc421f5",
   "metadata": {
    "tags": [
     "solution",
     "solution-2.3"
    ]
   },
   "outputs": [
    {
     "name": "stdout",
     "output_type": "stream",
     "text": [
      "Overwriting course_register_class.py\n"
     ]
    }
   ],
   "source": [
    "%%writefile course_register_class.py\n",
    "# solution cell\n",
    "### BEGIN SOLUTION\n",
    "from student_class import Student\n",
    "\n",
    "\n",
    "class CourseRegister:\n",
    "    def __init__(self, name: str, code: str) -> None:\n",
    "        self.list_registered_students: list[str] = []\n",
    "        self.name = name\n",
    "        self.code = code\n",
    "\n",
    "    def register(self, student: str) -> None:\n",
    "        if (\n",
    "            isinstance(student, Student)\n",
    "            and student not in self.list_registered_students\n",
    "        ):\n",
    "            self.list_registered_students.append(student)\n",
    "\n",
    "    def remove(self, student: str) -> None:\n",
    "        if student in self.list_registered_students:\n",
    "            self.list_registered_students.remove(student)\n",
    "\n",
    "\n",
    "### END SOLUTION\n"
   ]
  },
  {
   "cell_type": "code",
   "execution_count": 16,
   "id": "c3263c08",
   "metadata": {
    "tags": [
     "debug",
     "debug-2.3"
    ]
   },
   "outputs": [
    {
     "name": "stdout",
     "output_type": "stream",
     "text": [
      "New course created!\n",
      "List of enrolled students =  []\n",
      "Adding a student to the course...\n",
      "List of enrolled students =  [John Doe\tStudent\t201414202014]\n",
      "Adding a person to the course...\n",
      "List of enrolled students =  [John Doe\tStudent\t201414202014]\n",
      "Adding a student to the course...\n",
      "List of enrolled students =  [John Doe\tStudent\t201414202014, Jane Doe\tStudent\t201212202012\tGibraltargatan]\n",
      "Removing a student to the course...\n",
      "List of enrolled students =  [Jane Doe\tStudent\t201212202012\tGibraltargatan]\n",
      "Execution finished ✓\n"
     ]
    }
   ],
   "source": [
    "%autoreload 2\n",
    "# uncomment the line(s) below to debug\n",
    "from student_class import Student\n",
    "from person_class import Person\n",
    "from course_register_class import CourseRegister\n",
    "\n",
    "c1 = CourseRegister('Applied object-oriented programming', 'EEN060')\n",
    "print(\"New course created!\")\n",
    "print(\"List of enrolled students = \", c1.list_registered_students)\n",
    "s1 = Student('John Doe', '201414202014', 'TIEPL')\n",
    "print(\"Adding a student to the course...\")\n",
    "c1.register(s1)\n",
    "print(\"List of enrolled students = \", c1.list_registered_students)\n",
    "p1 = Person('Jack Dane', '201243202019', 'Manager')\n",
    "print(\"Adding a person to the course...\")\n",
    "c1.register(p1)\n",
    "print(\"List of enrolled students = \", c1.list_registered_students)\n",
    "s2 = Student('Jane Doe', '201212202012', 'TIEPL', 'Gibraltargatan')\n",
    "print(\"Adding a student to the course...\")\n",
    "c1.register(s2)\n",
    "print(\"List of enrolled students = \", c1.list_registered_students)\n",
    "print(\"Removing a student to the course...\")\n",
    "c1.remove(s1)\n",
    "print(\"List of enrolled students = \", c1.list_registered_students)\n",
    "print('Execution finished', u'\\u2713')"
   ]
  },
  {
   "cell_type": "code",
   "execution_count": 17,
   "id": "35b458e4",
   "metadata": {
    "tags": [
     "tests",
     "tests-2.3"
    ]
   },
   "outputs": [
    {
     "data": {
      "text/html": [
       "<div class=\"tip admonition\">\n",
       "<p class=\"admonition-title\">Code Quality Analysis: <span style=\"color: green\">Pass</span></p><p>*No problem was found*\n",
       "</p>\n",
       "    </div>"
      ],
      "text/plain": [
       "<IPython.core.display.HTML object>"
      ]
     },
     "metadata": {},
     "output_type": "display_data"
    },
    {
     "name": "stdout",
     "output_type": "stream",
     "text": [
      "tests passed ✓\n"
     ]
    }
   ],
   "source": [
    "%autoreload 2\n",
    "# test cell\n",
    "try:\n",
    "    import course_register_class\n",
    "except:\n",
    "    raise ValueError(\"You did not execute your solution cell!\")\n",
    "try:\n",
    "    from course_register_class import CourseRegister\n",
    "    from student_class import Student\n",
    "    from person_class import Person\n",
    "except:\n",
    "    raise ValueError(\"Your solution does not contain the right function!\")\n",
    "    \n",
    "from nose.tools import assert_equal\n",
    "\n",
    "assert 'CourseRegister' in dir(), 'Class CourseRegister does not exist!'\n",
    "assert 'register' in dir(CourseRegister), 'Class CourseRegister does not have method `register`'\n",
    "assert 'remove' in dir(CourseRegister), 'Class CourseRegister does not have method `remove`'\n",
    "\n",
    "c = CourseRegister('Applied object-oriented programming', 'EEN060')\n",
    "assert hasattr(c, 'name'), 'Class CourseRegister does not have property `name`.'\n",
    "assert hasattr(c, 'code'), 'Class CourseRegister does not have property `code`.'\n",
    "assert hasattr(c, 'list_registered_students'), 'Class CourseRegister does not have property `list_registered_students`.'\n",
    "assert isinstance(c.list_registered_students, list), 'The attribute list_enrolled_students is not a list'\n",
    "\n",
    "s1 = Student('John Doe', '201414202014', 'TIDSL')\n",
    "c.register(s1)\n",
    "assert_equal(len(c.list_registered_students), 1)\n",
    "\n",
    "p1 = Person('John Doe', '201414202014', 'Manager')\n",
    "c.register(p1)\n",
    "assert_equal(len(c.list_registered_students), 1)\n",
    "\n",
    "s2 = Student('Jane Doe', '201212202012', 'TKDES', 'Gibraltargatan')\n",
    "c.register(s2)\n",
    "assert_equal(len(c.list_registered_students), 2)\n",
    "\n",
    "c.remove(s1)\n",
    "assert_equal(len(c.list_registered_students), 1)\n",
    "\n",
    "c.remove(s1)\n",
    "assert_equal(len(c.list_registered_students), 1)\n",
    "\n",
    "c.remove(p1)\n",
    "assert_equal(len(c.list_registered_students), 1)\n",
    "\n",
    "c.register(s2)\n",
    "assert_equal(len(c.list_registered_students), 1)\n",
    "\n",
    "c = CourseRegister('Applied object-oriented programming', 'EEN060')\n",
    "assert isinstance(c.list_registered_students, list), 'The attribute list_enrolled_students is not a list'\n",
    "\n",
    "s1 = Student('John Doe', '201414202014_d', 'TIDSL')\n",
    "c.register(s1)\n",
    "assert_equal(len(c.list_registered_students), 1)\n",
    "\n",
    "p1 = Person('John Doe', '201414202014_d', 'Manager')\n",
    "c.register(p1)\n",
    "assert_equal(len(c.list_registered_students), 1)\n",
    "\n",
    "s2 = Student('Jane Doe', '201212202012_d', 'TKDES', 'Gibraltargatan')\n",
    "c.register(s2)\n",
    "assert_equal(len(c.list_registered_students), 2)\n",
    "\n",
    "c.remove(s1)\n",
    "assert_equal(len(c.list_registered_students), 1)\n",
    "\n",
    "c.remove(s1)\n",
    "assert_equal(len(c.list_registered_students), 1)\n",
    "\n",
    "c.remove(p1)\n",
    "assert_equal(len(c.list_registered_students), 1)\n",
    "\n",
    "validate_python_code(\"course_register_class.py\")\n",
    "print('tests passed', u'\\u2713')"
   ]
  },
  {
   "cell_type": "markdown",
   "id": "9b8e9d14",
   "metadata": {},
   "source": [
    "---\n",
    "## Level 3: Pseudocode/HTML/CSS/JS problems\n",
    "\n",
    "In these problems we are training the design part of the course, which will be used starting from week 6 in the course.\n",
    "\n",
    "If the error messages are not very clear, you can use the online tool: https://onu1.s2.chalmers.se/nu/#textarea\n",
    "\n",
    "Recommended sources:\n",
    "- HTML: https://www.w3schools.com/html/\n",
    "- CSS: https://www.w3schools.com/css/\n",
    "- JavaScript: https://www.w3schools.com/js/\n",
    "\n",
    "For this assignment, we study:\n",
    "- tables: https://www.w3schools.com/html/html_tables.asp\n",
    "\n",
    "Visual Studio Code sometimes does not render HTML/CSS/JS as expected. We recommend testing your solutions here: https://www.w3schools.com/html/tryit.asp?filename=tryhtml_default\n",
    "\n"
   ]
  },
  {
   "cell_type": "markdown",
   "id": "9b1d430b",
   "metadata": {},
   "source": [
    "### Problem 3.1\n",
    "\n",
    "Create a Python function called `visualize_table` that creates a HTML string of the table. \n",
    "- The table represents the dictionary returned by the Problem 1.2 (`parse_csv()`). \n",
    "- The dictionary keys constitute the header and the lists form the values under respective headers. \n",
    "\n",
    "Since you are working with the output of Problem 1.2, you need to call it in your solution. Make sure the csv file `\"person_data.csv\"` exists before calling Problem 1.2. In case the file does not exist, call the solution from Problem 1.1 to download the CSV file. \n",
    "\n",
    "**Example**\n",
    "\n",
    "Suppose the dictionary returned by `parse_csv()` is the following: \n",
    "```\n",
    "data = {'ID': ['1', '2', '3'], 'Value': ['test value 1', 'test value 2', 'test value 3']}\n",
    "```\n",
    "\n",
    "Output: \n",
    "\n",
    "<div style=\"border: 1px solid red;\">\n",
    "<table>\n",
    "    <thead>\n",
    "        <tr>\n",
    "            <th>ID</th> <th>Value</th>\n",
    "        </tr>\n",
    "    </thead>\n",
    "    <tbody>\n",
    "        <tr><td>1</td><td>test value 1</td></tr>\n",
    "        <tr><td>2</td><td>test value 2</td></tr>\n",
    "        <tr><td>3</td><td>test value 3</td></tr>\n",
    "    </tbody>\n",
    "</table>\n",
    "</div>\n",
    "\n",
    "**Note:** \n",
    "Each tag should be in one line, i.e., there should be a line break between every two tags. The border is used just to delimit the output."
   ]
  },
  {
   "cell_type": "code",
   "execution_count": 18,
   "id": "ce5cf896",
   "metadata": {
    "tags": [
     "html",
     "solution",
     "solution-3.1"
    ]
   },
   "outputs": [
    {
     "name": "stdout",
     "output_type": "stream",
     "text": [
      "Overwriting visualize_table_solution.py\n"
     ]
    }
   ],
   "source": [
    "%%writefile visualize_table_solution.py\n",
    "# solution cell\n",
    "### BEGIN SOLUTION\n",
    "from parse_csv_solution import parse_csv\n",
    "\n",
    "\n",
    "def visualize_table() -> str:\n",
    "    dct: dict[str, list[str]] = parse_csv()\n",
    "    outp: str = \"<table>\\n    <thead>\\n        <tr>\"\n",
    "    for key, value in dct.items():\n",
    "        outp += \"\\n            <th>\" + str(key) + \"</th>\"\n",
    "        unused: str = str(value)\n",
    "        unused += unused\n",
    "    outp += \"\\n        </tr>\"\n",
    "    outp += \"\\n    </thead>\\n    <tbody>\"\n",
    "    for i in range(len(dct[\"Name\"])):\n",
    "        outp += \"\\n        <tr>\"\n",
    "        for key in dct.keys():\n",
    "            outp += \"\\n            <td>\" + dct[key][i] + \"</td>\"\n",
    "        outp += \"\\n        </tr>\"\n",
    "    outp += \"\\n    </tbody>\\n</table>\"\n",
    "    return outp\n",
    "\n",
    "\n",
    "### END SOLUTION\n"
   ]
  },
  {
   "cell_type": "code",
   "execution_count": 19,
   "id": "1356a083",
   "metadata": {
    "tags": [
     "debug",
     "debug-3.1"
    ]
   },
   "outputs": [
    {
     "name": "stdout",
     "output_type": "stream",
     "text": [
      "HTML code:\n",
      "<table>\n",
      "    <thead>\n",
      "        <tr>\n",
      "            <th>Name</th>\n",
      "            <th>Phone</th>\n",
      "            <th>Email</th>\n",
      "        </tr>\n",
      "    </thead>\n",
      "    <tbody>\n",
      "        <tr>\n",
      "            <td>Jescie van den Bosch</td>\n",
      "            <td>0760717243</td>\n",
      "            <td>aliquet@aol.org</td>\n",
      "        </tr>\n",
      "        <tr>\n",
      "            <td>Emily Schouten</td>\n",
      "            <td>0726812327</td>\n",
      "            <td>integer.aliquam@yahoo.net</td>\n",
      "        </tr>\n",
      "        <tr>\n",
      "            <td>Danielle Schut</td>\n",
      "            <td>0784739225</td>\n",
      "            <td>aliquet@google.net</td>\n",
      "        </tr>\n",
      "        <tr>\n",
      "            <td>Chava Kok</td>\n",
      "            <td>0731520635</td>\n",
      "            <td>cursus@aol.org</td>\n",
      "        </tr>\n",
      "        <tr>\n",
      "            <td>Leonard de Jager</td>\n",
      "            <td>0729537142</td>\n",
      "            <td>et.magnis@outlook.edu</td>\n",
      "        </tr>\n",
      "        <tr>\n",
      "            <td>Ann Roos</td>\n",
      "            <td>0762858217</td>\n",
      "            <td>condimentum.eget.volutpat@yahoo.couk</td>\n",
      "        </tr>\n",
      "        <tr>\n",
      "            <td>Neil Kersten</td>\n",
      "            <td>0715359187</td>\n",
      "            <td>faucibus@icloud.edu</td>\n",
      "        </tr>\n",
      "        <tr>\n",
      "            <td>Samuel Lammers</td>\n",
      "            <td>0716565128</td>\n",
      "            <td>velit.cras.lorem@google.ca</td>\n",
      "        </tr>\n",
      "        <tr>\n",
      "            <td>Ramona Peeters</td>\n",
      "            <td>0710435864</td>\n",
      "            <td>felis@icloud.com</td>\n",
      "        </tr>\n",
      "        <tr>\n",
      "            <td>Rinah de Ruiter</td>\n",
      "            <td>0794297533</td>\n",
      "            <td>aliquet@protonmail.org</td>\n",
      "        </tr>\n",
      "    </tbody>\n",
      "</table>\n",
      "Execution finished ✓\n"
     ]
    }
   ],
   "source": [
    "%autoreload 2\n",
    "# uncomment the line(s) below to debug\n",
    "from visualize_table_solution import visualize_table\n",
    "\n",
    "print('HTML code:')\n",
    "print(visualize_table())\n",
    "print('Execution finished', u'\\u2713')"
   ]
  },
  {
   "cell_type": "code",
   "execution_count": 20,
   "id": "7dd41edd",
   "metadata": {
    "tags": [
     "check",
     "check-3.1"
    ]
   },
   "outputs": [
    {
     "data": {
      "text/html": [
       "<!DOCTYPE html>\n",
       "    <html lang=\"en\">\n",
       "        <head>\n",
       "            <title>Page Title</title>\n",
       "        </head>\n",
       "        <body><p style=\"color: red;\">start of your solution &gt;&gt;&gt;&gt;</p>\n",
       "        <table>\n",
       "    <thead>\n",
       "        <tr>\n",
       "            <th>Name</th>\n",
       "            <th>Phone</th>\n",
       "            <th>Email</th>\n",
       "        </tr>\n",
       "    </thead>\n",
       "    <tbody>\n",
       "        <tr>\n",
       "            <td>Jescie van den Bosch</td>\n",
       "            <td>0760717243</td>\n",
       "            <td>aliquet@aol.org</td>\n",
       "        </tr>\n",
       "        <tr>\n",
       "            <td>Emily Schouten</td>\n",
       "            <td>0726812327</td>\n",
       "            <td>integer.aliquam@yahoo.net</td>\n",
       "        </tr>\n",
       "        <tr>\n",
       "            <td>Danielle Schut</td>\n",
       "            <td>0784739225</td>\n",
       "            <td>aliquet@google.net</td>\n",
       "        </tr>\n",
       "        <tr>\n",
       "            <td>Chava Kok</td>\n",
       "            <td>0731520635</td>\n",
       "            <td>cursus@aol.org</td>\n",
       "        </tr>\n",
       "        <tr>\n",
       "            <td>Leonard de Jager</td>\n",
       "            <td>0729537142</td>\n",
       "            <td>et.magnis@outlook.edu</td>\n",
       "        </tr>\n",
       "        <tr>\n",
       "            <td>Ann Roos</td>\n",
       "            <td>0762858217</td>\n",
       "            <td>condimentum.eget.volutpat@yahoo.couk</td>\n",
       "        </tr>\n",
       "        <tr>\n",
       "            <td>Neil Kersten</td>\n",
       "            <td>0715359187</td>\n",
       "            <td>faucibus@icloud.edu</td>\n",
       "        </tr>\n",
       "        <tr>\n",
       "            <td>Samuel Lammers</td>\n",
       "            <td>0716565128</td>\n",
       "            <td>velit.cras.lorem@google.ca</td>\n",
       "        </tr>\n",
       "        <tr>\n",
       "            <td>Ramona Peeters</td>\n",
       "            <td>0710435864</td>\n",
       "            <td>felis@icloud.com</td>\n",
       "        </tr>\n",
       "        <tr>\n",
       "            <td>Rinah de Ruiter</td>\n",
       "            <td>0794297533</td>\n",
       "            <td>aliquet@protonmail.org</td>\n",
       "        </tr>\n",
       "    </tbody>\n",
       "</table>     <p style=\"color: red;\">&lt;&lt;&lt;&lt; end of your solution</p></body>\n",
       "</html>"
      ],
      "text/plain": [
       "<IPython.core.display.HTML object>"
      ]
     },
     "metadata": {},
     "output_type": "display_data"
    }
   ],
   "source": [
    "%autoreload 2\n",
    "# DO NOT REMOVE THIS CODE >>> BEGINNING\n",
    "# this cell assembles the HTML returned by the function that you wrote\n",
    "# and renders it in the \"preview\" window\n",
    "\n",
    "#from IPython import display\n",
    "from visualize_table_solution import visualize_table\n",
    "from IPython.display import display, HTML\n",
    "html_header = \"\"\"<!DOCTYPE html>\n",
    "    <html lang=\"en\">\n",
    "        <head>\n",
    "            <title>Page Title</title>\n",
    "        </head>\n",
    "        <body><p style=\"color: red;\">start of your solution &gt;&gt;&gt;&gt;</p>\n",
    "        \"\"\"\n",
    "html_footer = \"\"\"     <p style=\"color: red;\">&lt;&lt;&lt;&lt; end of your solution</p></body>\n",
    "</html>\"\"\"\n",
    "html = visualize_table()\n",
    "html_to_test = html_header + html + html_footer\n",
    "display(HTML(html_to_test))\n",
    "\n",
    "# DO NOT REMOVE THIS CODE <<< END"
   ]
  },
  {
   "cell_type": "code",
   "execution_count": 21,
   "id": "a2ff8d38",
   "metadata": {
    "tags": [
     "tests",
     "tests-3.1"
    ]
   },
   "outputs": [
    {
     "name": "stdout",
     "output_type": "stream",
     "text": [
      "first\n"
     ]
    },
    {
     "data": {
      "text/html": [
       "<div class=\"tip admonition\">\n",
       "<p class=\"admonition-title\">Code Quality Analysis: <span style=\"color: green\">Pass</span></p><p>*No problem was found*\n",
       "</p>\n",
       "    </div>"
      ],
      "text/plain": [
       "<IPython.core.display.HTML object>"
      ]
     },
     "metadata": {},
     "output_type": "display_data"
    },
    {
     "name": "stdout",
     "output_type": "stream",
     "text": [
      "tests passed ✓\n"
     ]
    }
   ],
   "source": [
    "%autoreload 2\n",
    "# test cell\n",
    "import sys\n",
    "from bs4 import BeautifulSoup\n",
    "from visualize_table_solution import visualize_table\n",
    "\n",
    "has_error = False\n",
    "html_header_offset = 1\n",
    "\n",
    "html_header = \"\"\"<!DOCTYPE html>\n",
    "    <html lang=\"en\">\n",
    "        <head>\n",
    "            <title>Page Title</title>\n",
    "        </head>\n",
    "        <body><p style=\"color: red;\">start of your solution &gt;&gt;&gt;&gt;</p>\n",
    "        \"\"\"\n",
    "html_footer = \"\"\"     <p style=\"color: red;\">&lt;&lt;&lt;&lt; end of your solution</p></body>\n",
    "</html>\"\"\"\n",
    "\n",
    "original_html = visualize_table()\n",
    "\n",
    "html_to_test = html_header + original_html + html_footer\n",
    "\n",
    "soup = validate_html(html_to_test)\n",
    "\n",
    "tag_set = set([str(tag.name) for tag in soup.find_all()])\n",
    "tag_pairs = []\n",
    "for tag_1 in tag_set:\n",
    "    for tag_2 in tag_set:\n",
    "        if tag_1 != tag_2:\n",
    "            tag_pairs.append((tag_1, tag_2))\n",
    "\n",
    "for i, line in enumerate(original_html.split('\\n')):\n",
    "    for tag_1, tag_2 in tag_pairs:\n",
    "        if f'<{tag_1}>' in line or f'</{tag_1}>' in line:\n",
    "            assert f'<{tag_2}>' not in line and f'</{tag_2}>' not in line, \\\n",
    "                f'Line {i+1} has two tags in the same line ({tag_1} and {tag_2}).\\\n",
    "                    \\nYou must have them in different lines.\\nLine {i+1}:\\t{line}'\n",
    "\n",
    "tags_table = soup.find_all('table')\n",
    "assert len(tags_table) == 1, f'The HTML seems needs to have 1 table. Now it has \\\n",
    "    {len(tags_table)} table(s).'\n",
    "\n",
    "tags_thead = tags_table[0].find_all('thead')\n",
    "assert len(tags_thead) == 1, 'The needs to have one `thead` tag.'\n",
    "\n",
    "tags_tr = tags_thead[0].find_all('tr')\n",
    "assert len(tags_tr) == 1, 'The table head needs one row.'\n",
    "\n",
    "tags_th = tags_tr[0].find_all('th')\n",
    "assert len(tags_th) == 3, f'The table must have 3 header columns. Now it has \\\n",
    "    {len(tags_th)} column(s).'\n",
    "\n",
    "tags_tbody = tags_table[0].find_all('tbody')\n",
    "assert len(tags_tbody) == 1, 'Your table is missing a `tbody` tag.'\n",
    "\n",
    "tags_tr = tags_tbody[0].find_all('tr')\n",
    "assert len(tags_tr) == 10, f'The table must have {10} rows. Now it has \\\n",
    "    {len(tags_tr)} row(s).'\n",
    "\n",
    "for idx, tag_tr in enumerate(tags_tr):\n",
    "    tags_td = tag_tr.find_all('td')\n",
    "    assert len(tags_td) == 3, f'The table must have 3 columns. Now it has \\\n",
    "        {len(tags_td)} column(s).\\nRow with problems: \\t{tag_tr}'\n",
    "\n",
    "validate_python_code(\"visualize_table_solution.py\")\n",
    "print('tests passed', u'\\u2713')"
   ]
  }
 ],
 "metadata": {
  "assignment_list": [
   "1.1",
   "1.2",
   "2.1",
   "2.2",
   "2.3",
   "3.1"
  ],
  "kernelspec": {
   "display_name": "Python 3 (ipykernel)",
   "language": "python",
   "name": "python3"
  },
  "language_info": {
   "codemirror_mode": {
    "name": "ipython",
    "version": 3
   },
   "file_extension": ".py",
   "mimetype": "text/x-python",
   "name": "python",
   "nbconvert_exporter": "python",
   "pygments_lexer": "ipython3",
   "version": "3.10.13"
  },
  "vscode": {
   "interpreter": {
    "hash": "2cb7843e253d2e26ab065851fb0883c43c29418950592dd63fef040d62b28239"
   }
  }
 },
 "nbformat": 4,
 "nbformat_minor": 5
}
