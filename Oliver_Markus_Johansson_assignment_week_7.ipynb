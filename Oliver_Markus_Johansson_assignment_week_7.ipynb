{
 "cells": [
  {
   "cell_type": "markdown",
   "id": "82fcef6c",
   "metadata": {},
   "source": [
    "# EEN060 - Applied object-oriented programming\n",
    "\n",
    "Teacher: [Carlos Natalino](https://www.chalmers.se/en/staff/Pages/Carlos-Natalino-Da-Silva.aspx) / Examiner: [Paolo Monti](https://www.chalmers.se/en/staff/Pages/Paolo-Monti.aspx)\n",
    "\n",
    "[Canvas course page](https://chalmers.instructure.com/courses/28094)\n",
    "\n",
    "[Course channel on Chalmers Play](https://play.chalmers.se/channel/EEN060_EEN065_Applied_object-oriented_programming/300149)\n",
    "\n",
    "Before you turn this assignment list in, make sure everything runs as expected.\n",
    "First, **restart the kernel** and then **run all cells**.\n",
    "Then, check if all the tests run correctly.\n",
    "Note that if one of the problems present an error, the following ones **will not** be tested.\n",
    "\n",
    "In case of discrepancies between the problem command and the tests, you should solve it having in mind the tests.\n",
    "\n",
    "There are two types of cell:\n",
    "1. *solution cells:* These are the cells where you write your answer, or modify the existing code to solve the problem.\n",
    "2. *test cells:* These cells are used to test whether your solution is correct or not. If the tests run correctly, you should see a message `tests passed`. Otherwise, you should see an error message.\n",
    "\n",
    "**Delete** the line `raise NotImplementedError()` from the problems that you solve.\n",
    "\n",
    "**Do not delete or add any cell in this file.** All cells that you need are already in place.\n",
    "\n",
    "You may also have problems that will be manually graded (e.g., HTML/CSS/JS/pseudocode problems).\n",
    "These problems **do not** have a respective *test cell*.\n",
    "\n",
    "If you want to execute a cell, select the cell and press **CTRL+Enter** (in Windows) or **CMD+Enter** (in macOS) or click on the **Run cell** button.\n",
    "\n",
    "**If you want, you can solve this programming assignment using Google Colab**\n",
    "\n",
    "Link: https://colab.research.google.com/\n",
    "\n",
    "Just copy the following line to a code line and run it."
   ]
  },
  {
   "cell_type": "code",
   "execution_count": 1,
   "id": "e0dbc1f7",
   "metadata": {
    "tags": [
     "install"
    ]
   },
   "outputs": [],
   "source": [
    "# !pip install --upgrade --user pip pip-tools\n",
    "# !pip install ipykernel jupyter notebook wtforms flask flask-wtf gunicorn nose flask-testing pytest coverage flake8 requests mypy pylint blinker types-requests isort black lorem-text bs4 pep8-naming matplotlib redis types-redis"
   ]
  },
  {
   "cell_type": "markdown",
   "id": "81cc9799",
   "metadata": {},
   "source": [
    "## Assignment week 7\n",
    "\n",
    "In this assignment, students should practice:\n",
    "- how to use Matplotlib to create plots\n",
    "- how to use Jinja to create web pages\n",
    "\n",
    "The problems here are related to chapters 10, 11, 12, and 13 of the lecture notes, and includes knowledge from previous chapters."
   ]
  },
  {
   "cell_type": "markdown",
   "id": "4cae8ba1",
   "metadata": {},
   "source": [
    "**Preparation:** Run the cell below every time you start working on this file, and every time you restart the kernel."
   ]
  },
  {
   "cell_type": "code",
   "execution_count": 2,
   "id": "d3ffddad",
   "metadata": {
    "tags": [
     "load"
    ]
   },
   "outputs": [],
   "source": [
    "%load_ext autoreload\n",
    "try:\n",
    "    from utils import validate_python_code, validate_html\n",
    "except:\n",
    "    import sys\n",
    "    print(\"It seems this file is in the wrong folder. \"\n",
    "          \"Make sure to place it in the `programming-assignments` folder/project.\",\n",
    "          file=sys.stderr)"
   ]
  },
  {
   "cell_type": "markdown",
   "id": "0926481b",
   "metadata": {},
   "source": [
    "### Level 1\n",
    "\n",
    "Level 1 problems are simple problems that required only the knowledge obtained in the content of the lecture and the lecture notes of the particular lecture."
   ]
  },
  {
   "cell_type": "markdown",
   "id": "cc98455c",
   "metadata": {},
   "source": [
    "#### Problem 1.1\n",
    "\n",
    "Create a function called `get_composite_numbers` that receives an integer as parameter.\n",
    "The integer parameter defines how many composite numbers should be returned by the function starting from 4 (assuming that 1 is prime).\n",
    "The list of composite number must be returned in the JSON format.\n",
    "\n",
    "The function must be decorated such that it is available as a GET route in Flask, and accessible through the URL `/composite/<quantity>`.\n",
    "\n",
    "If the received parameter is not an integer, the function must return an empty list in JSON format.\n",
    "\n",
    "If the received parameter can be converted to an integer such as `11`, then convert the string to integer and output the list of composite numbers in JSON format.\n",
    "\n",
    "**Note:** \n",
    "You must not delete the parts outside the begin and end solution marks. Inside your solution, only the function must be present, i.e., you must not use `app.run()`. The function must return the `Response` type defined at the beginning of the solution cell."
   ]
  },
  {
   "cell_type": "markdown",
   "id": "1a09b14c",
   "metadata": {},
   "source": [
    "```\n",
    "# write here your pseudocode (not graded)\n",
    "\n",
    "# * pseudocode is necessary when asking for help during the lab\n",
    "```"
   ]
  },
  {
   "cell_type": "code",
   "execution_count": 3,
   "id": "9a2fc1fe",
   "metadata": {
    "tags": []
   },
   "outputs": [
    {
     "name": "stdout",
     "output_type": "stream",
     "text": [
      "Overwriting flask_app.py\n"
     ]
    }
   ],
   "source": [
    "%%writefile flask_app.py\n",
    "# solution cell\n",
    "\n",
    "from flask import Flask, jsonify\n",
    "from flask.wrappers import Response as FlaskResponse\n",
    "from werkzeug.wrappers.response import Response as WerkzeugResponse\n",
    "\n",
    "# creates a Response type to be used as the return type of the function\n",
    "Response = str | FlaskResponse | WerkzeugResponse\n",
    "\n",
    "app = Flask(__name__)\n",
    "\n",
    "\n",
    "### BEGIN SOLUTION\n",
    "@app.route(\"/composite/<quantity>\", methods=[\"GET\"])\n",
    "def get_composite_numbers(quantity: str) -> Response:\n",
    "    try:\n",
    "        q: int = int(quantity)\n",
    "        comp_num: list[int] = []\n",
    "        num = 4\n",
    "        while len(comp_num) < q:\n",
    "            if any(num % i == 0 for i in range(2, int(num ** 0.5) + 1)):\n",
    "                comp_num.append(num)\n",
    "            num += 1\n",
    "        return jsonify(comp_num)\n",
    "    except ValueError:\n",
    "        return jsonify([])\n",
    "\n",
    "\n",
    "### END SOLUTION\n"
   ]
  },
  {
   "cell_type": "code",
   "execution_count": 4,
   "id": "245b43e6",
   "metadata": {
    "tags": [
     "debug",
     "debug-1.1"
    ]
   },
   "outputs": [
    {
     "name": "stdout",
     "output_type": "stream",
     "text": [
      "The first 11 composite numbers are: [4, 6, 8, 9, 10, 12, 14, 15, 16, 18, 20]\n",
      "Execution finished ✓\n"
     ]
    }
   ],
   "source": [
    "%autoreload 2\n",
    "# uncomment the line(s) below to debug\n",
    "from flask_app import app\n",
    "import json\n",
    "\n",
    "quantity = \"11\"\n",
    "with app.test_client() as client:\n",
    "    response = client.get('/composite/'+str(quantity))\n",
    "    res = json.loads(response.data.decode('utf-8'))\n",
    "print(f\"The first {quantity} composite numbers are: {res}\")\n",
    "print('Execution finished', u'\\u2713')"
   ]
  },
  {
   "cell_type": "code",
   "execution_count": 5,
   "id": "0fa9ba5c",
   "metadata": {
    "tags": [
     "tests",
     "tests-1.1"
    ]
   },
   "outputs": [
    {
     "data": {
      "text/html": [
       "<div class=\"tip admonition\">\n",
       "<p class=\"admonition-title\">Code Quality Analysis: <span style=\"color: green\">Pass</span></p><p>*No problem was found*\n",
       "</p>\n",
       "    </div>"
      ],
      "text/plain": [
       "<IPython.core.display.HTML object>"
      ]
     },
     "metadata": {},
     "output_type": "display_data"
    },
    {
     "name": "stdout",
     "output_type": "stream",
     "text": [
      "tests passed ✓\n"
     ]
    }
   ],
   "source": [
    "%autoreload 2\n",
    "# test cell\n",
    "try:\n",
    "    import flask_app\n",
    "except:\n",
    "    raise ValueError(\"You did not execute your solution cell!\")\n",
    "try:\n",
    "    from flask_app import app\n",
    "except:\n",
    "    raise ValueError(\"Your solution does not contain the right function!\")\n",
    "\n",
    "import random\n",
    "from flask_app import app\n",
    "import json\n",
    "\n",
    "with app.test_client() as client:\n",
    "    response = client.get('/composite/abc')\n",
    "    res = json.loads(response.data.decode('utf-8'))\n",
    "\n",
    "    assert len(res) == 0, f\"\\For the input `abc` the function returned `{res}`.\\\n",
    "     When the parameter is not an integer or it cannot be converted\\\n",
    "     to an integer, the function must return a list with zero elements in JSON.\"\n",
    "\n",
    "    for _ in range(3):\n",
    "        quantity = random.randint(10, 50)\n",
    "        response = client.get(f'/composite/{quantity}')\n",
    "        res = json.loads(response.data.decode('utf-8'))\n",
    "        assert len(res) == quantity, f\"The response should have {quantity} numbers but it has {len(response)}.\"\n",
    "\n",
    "validate_python_code(\"flask_app.py\")\n",
    "print('tests passed', u'\\u2713')"
   ]
  },
  {
   "cell_type": "markdown",
   "id": "6406278d",
   "metadata": {},
   "source": [
    "---\n",
    "## Level 2\n",
    "\n",
    "Problems in level 2 should build upon the content of the lecture and the content of previous lectures.\n",
    "Therefore, the problems can be solved based solely on the lecture notes available for the course up to the lecture the assignment is about."
   ]
  },
  {
   "cell_type": "markdown",
   "id": "70bc324b",
   "metadata": {},
   "source": [
    "### Problem 2.1\n",
    "\n",
    "Create a Python function named `plot_data` that takes a list of `floats` as input and generates a line plot using matplotlib. \n",
    "\n",
    "**Rules:**\n",
    "1. The input list is taken as y-axis of the plot and a list starting from 5 to `len(input list) + 5` is taken as x-axis.\n",
    "2. Use `\"b\"` as the format for the plot and `linewidth=2`.\n",
    "3. Set the xlabel as \"n\" and ylabel as \"# Misclustered Nodes\".\n",
    "4. The x-axis in the plot should start at 5 and y-axis at 0. You must use `set_xlim` and `set_ylim`, respectively.\n",
    "5. Set the title of the plot to be \"# Misclustered Nodes / # nodes\".\n",
    "6. Finally save the plot into a file named \"plot.png\" and return the figure object.\n",
    "\n",
    "**Example:**\n",
    "Input data: [6.2, 8.6, 12.5, 14.9, 18.7, 17.5, 24.2, 23.2, 26.5, 25.2, 25.7, 25.7, 21.9, 24.0, 17.7, 20.6, 17.6, 10.8, 10.4, 7.6, 10.3, 5.3, 5.6, 5.2]\n",
    "\n",
    "plot.png:\n",
    "\n",
    "<img src=\"data:image/png;base64,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\">\n"
   ]
  },
  {
   "cell_type": "code",
   "execution_count": 6,
   "id": "e6773b41",
   "metadata": {
    "tags": [
     "solution",
     "solution-2.1"
    ]
   },
   "outputs": [
    {
     "name": "stdout",
     "output_type": "stream",
     "text": [
      "Overwriting plot_data_solution.py\n"
     ]
    }
   ],
   "source": [
    "%%writefile plot_data_solution.py\n",
    "# solution cell\n",
    "### BEGIN SOLUTION\n",
    "from matplotlib.figure import Figure\n",
    "\n",
    "\n",
    "def plot_data(inpl: list[float]) -> Figure:\n",
    "    fig = Figure()\n",
    "    axes = fig.gca()\n",
    "    x_axis: list[int] = []\n",
    "    for i in range(5, len(inpl) + 5):\n",
    "        x_axis.append(i)\n",
    "    axes.plot(x_axis, inpl, color=\"b\", linewidth=\"2\")\n",
    "    axes.set_ylabel(\"# Misclustered Nodes\")\n",
    "    axes.set_xlabel(\"n\")\n",
    "    axes.set_title(\"# Misclustered Nodes / # nodes\")\n",
    "    axes.set_xlim(5)\n",
    "    axes.set_ylim(0)\n",
    "    fig.savefig(\"plot.png\")\n",
    "    return fig\n",
    "\n",
    "\n",
    "### END SOLUTION\n"
   ]
  },
  {
   "cell_type": "code",
   "execution_count": 7,
   "id": "cede6863",
   "metadata": {
    "tags": [
     "debug",
     "debug-2.1"
    ]
   },
   "outputs": [
    {
     "data": {
      "image/png": "[encoded data removed]",
      "text/plain": [
       "<IPython.core.display.Image object>"
      ]
     },
     "metadata": {},
     "output_type": "display_data"
    },
    {
     "name": "stdout",
     "output_type": "stream",
     "text": [
      "Execution finished ✓\n"
     ]
    }
   ],
   "source": [
    "%autoreload 2\n",
    "%matplotlib inline\n",
    "# uncomment the line(s) below to debug\n",
    "from plot_data_solution import plot_data\n",
    "from IPython.display import Image, display\n",
    "\n",
    "data = [6.2, 8.6, 12.5, 14.9, 18.7, 17.5, 24.2, 23.2, 26.5, 25.2, 25.7, 25.7, 21.9, \\\n",
    "    24.0, 17.7, 20.6, 17.6, 10.8, 10.4, 7.6, 10.3, 5.3, 5.6, 5.2]\n",
    "fig = plot_data(data)\n",
    "display(Image(\"plot.png\"))\n",
    "print('Execution finished', u'\\u2713')"
   ]
  },
  {
   "cell_type": "code",
   "execution_count": 8,
   "id": "d1efafdd",
   "metadata": {
    "tags": [
     "tests",
     "tests-2.1"
    ]
   },
   "outputs": [
    {
     "data": {
      "text/html": [
       "<div class=\"tip admonition\">\n",
       "<p class=\"admonition-title\">Code Quality Analysis: <span style=\"color: green\">Pass</span></p><p>*No problem was found*\n",
       "</p>\n",
       "    </div>"
      ],
      "text/plain": [
       "<IPython.core.display.HTML object>"
      ]
     },
     "metadata": {},
     "output_type": "display_data"
    },
    {
     "name": "stdout",
     "output_type": "stream",
     "text": [
      "tests passed ✓\n"
     ]
    }
   ],
   "source": [
    "%autoreload 2\n",
    "# test cell\n",
    "try:\n",
    "    import plot_data_solution\n",
    "except:\n",
    "    raise ValueError(\"You did not execute your solution cell!\")\n",
    "try:\n",
    "    from plot_data_solution import plot_data\n",
    "except:\n",
    "    raise ValueError(\"Your solution does not contain the right function!\")\n",
    "\n",
    "import os\n",
    "\n",
    "if os.path.exists(\"plot.png\"):\n",
    "    os.remove(\"plot.png\")\n",
    "\n",
    "data = [6.2, 18.7, 17.5, 24.2, 23.2, 5.6, 5.2]\n",
    "fig = plot_data(data)\n",
    "axes = fig.gca()\n",
    "assert axes.get_title() == \"# Misclustered Nodes / # nodes\", \"The title is incorrect.\"\n",
    "assert axes.get_xlabel() == \"n\", \"X-label is incorrect.\"\n",
    "assert axes.get_ylabel() == \"# Misclustered Nodes\", \"Y-label is incorrect.\"\n",
    "assert axes.get_xlim()[0] == 5, \"X-limit is incorrect.\"\n",
    "assert axes.get_ylim()[0] == 0, \"Y-limit is incorrect.\"\n",
    "assert os.path.exists(\"plot.png\") == True, \"Plot is not saved as plot.png\"\n",
    "\n",
    "validate_python_code(\"plot_data_solution.py\")\n",
    "print('tests passed', u'\\u2713')"
   ]
  },
  {
   "cell_type": "markdown",
   "id": "d9717e2b",
   "metadata": {},
   "source": [
    "---\n",
    "## Level 3: Pseudocode/HTML/CSS/JS problems\n",
    "\n",
    "In these problems we are training the design part of the course, which will in the final project.\n",
    "\n",
    "Recommended sources:\n",
    "- HTML: https://www.w3schools.com/html/\n",
    "- CSS: https://www.w3schools.com/css/\n",
    "- JavaScript: https://www.w3schools.com/js/\n",
    "- Jinja2: https://jinja.palletsprojects.com/en/3.0.x/"
   ]
  },
  {
   "cell_type": "markdown",
   "id": "2844d8d1",
   "metadata": {},
   "source": [
    "### Problem 3.1\n",
    "\n",
    "In the cell below, create a Jinja template (written in the Jinja templating language) that receives a Python list under the variable name `values`.\n",
    "The template should create a table that shows the content of `values` in a table with two columns: index in the list and value at that index.\n",
    "Index and value should be explicitly defined as the heads of the table.\n",
    "\n",
    "**Important:** The solution cell must *not* have any Python code. Only HTML/Jinja2 code is allowed.\n",
    "\n",
    "The following example shows how the output of the test cell should look like.\n",
    "\n",
    "Code for testing:\n",
    "```\n",
    "values = ['test value 1', \n",
    "        'test value 2', \n",
    "        'test value 3', \n",
    "        'test value 4', \n",
    "        'test value 5', \n",
    "        'test value 6']\n",
    "```\n",
    "\n",
    "Must result in the following output (the border is used just to delimit the output):\n",
    "\n",
    "<div style=\"border: 1px solid red;\">\n",
    "<table>\n",
    "    <thead>\n",
    "        <tr>\n",
    "            <th>Index</th>\n",
    "            <th>Value</th>\n",
    "        </tr>\n",
    "    </thead>\n",
    "    <tbody>\n",
    "        <tr><td>1</td><td>test value 1</td></tr>\n",
    "        <tr><td>2</td><td>test value 2</td></tr>\n",
    "        <tr><td>3</td><td>test value 3</td></tr>\n",
    "        <tr><td>4</td><td>test value 4</td></tr>\n",
    "        <tr><td>5</td><td>test value 5</td></tr>\n",
    "        <tr><td>6</td><td>test value 6</td></tr>\n",
    "    </tbody>\n",
    "</table>\n",
    "</div>\n",
    "\n",
    "**Note:** \n",
    "Each tag should be in one line, i.e., there should be a line break between every two tags. The border is used just to delimit the output."
   ]
  },
  {
   "cell_type": "code",
   "execution_count": 9,
   "id": "8a46e51e",
   "metadata": {
    "tags": [
     "solution",
     "solution-3.1",
     "html"
    ]
   },
   "outputs": [
    {
     "name": "stdout",
     "output_type": "stream",
     "text": [
      "Overwriting table_template.html\n"
     ]
    }
   ],
   "source": [
    "%%writefile table_template.html\n",
    "<!--  BEGIN SOLUTION  -->\n",
    "<table>\n",
    "    <thead>\n",
    "        <tr>\n",
    "            <th>Index</th>\n",
    "            <th>Value</th>\n",
    "        </tr>\n",
    "    </thead>\n",
    "    <tbody>\n",
    "        {% for v in values %}\n",
    "            <tr>\n",
    "                <td>{{ loop.index }}</td>\n",
    "                <td>{{ v }}</td>\n",
    "            </tr>\n",
    "        {% endfor %}\n",
    "    </tbody>\n",
    "</table>\n",
    "<!-- END SOLUTION  -->\n"
   ]
  },
  {
   "cell_type": "code",
   "execution_count": 10,
   "id": "0e46d414",
   "metadata": {
    "tags": [
     "debug",
     "debug-3.1"
    ]
   },
   "outputs": [
    {
     "name": "stdout",
     "output_type": "stream",
     "text": [
      "<!--  BEGIN SOLUTION  -->\n",
      "<table>\n",
      "    <thead>\n",
      "        <tr>\n",
      "            <th>Index</th>\n",
      "            <th>Value</th>\n",
      "        </tr>\n",
      "    </thead>\n",
      "    <tbody>\n",
      "        \n",
      "            <tr>\n",
      "                <td>1</td>\n",
      "                <td>test value 1</td>\n",
      "            </tr>\n",
      "        \n",
      "            <tr>\n",
      "                <td>2</td>\n",
      "                <td>test value 2</td>\n",
      "            </tr>\n",
      "        \n",
      "            <tr>\n",
      "                <td>3</td>\n",
      "                <td>test value 3</td>\n",
      "            </tr>\n",
      "        \n",
      "            <tr>\n",
      "                <td>4</td>\n",
      "                <td>test value 4</td>\n",
      "            </tr>\n",
      "        \n",
      "            <tr>\n",
      "                <td>5</td>\n",
      "                <td>test value 5</td>\n",
      "            </tr>\n",
      "        \n",
      "            <tr>\n",
      "                <td>6</td>\n",
      "                <td>test value 6</td>\n",
      "            </tr>\n",
      "        \n",
      "    </tbody>\n",
      "</table>\n",
      "<!-- END SOLUTION  -->\n"
     ]
    }
   ],
   "source": [
    "from jinja2 import Environment, FileSystemLoader\n",
    "\n",
    "values = ['test value 1', \n",
    "    'test value 2', \n",
    "    'test value 3', \n",
    "    'test value 4', \n",
    "    'test value 5', \n",
    "    'test value 6']\n",
    "\n",
    "env = Environment(loader=FileSystemLoader(searchpath=\"./\"))\n",
    "template = env.get_template(\"table_template.html\")\n",
    "print(template.render(values=values))"
   ]
  },
  {
   "cell_type": "code",
   "execution_count": 11,
   "id": "ac3e47e4",
   "metadata": {
    "tags": [
     "check",
     "check-3.1"
    ]
   },
   "outputs": [
    {
     "data": {
      "text/html": [
       "<!DOCTYPE html>\n",
       "    <html lang=\"en\">\n",
       "        <head>\n",
       "            <title>Page Title</title>\n",
       "        </head>\n",
       "        <body>\n",
       "            <p style=\"color: red;\">start of your solution &gt;&gt;&gt;&gt;</p>\n",
       "            <hr/>\n",
       "        <!--  BEGIN SOLUTION  -->\n",
       "<table>\n",
       "    <thead>\n",
       "        <tr>\n",
       "            <th>Index</th>\n",
       "            <th>Value</th>\n",
       "        </tr>\n",
       "    </thead>\n",
       "    <tbody>\n",
       "        \n",
       "            <tr>\n",
       "                <td>1</td>\n",
       "                <td>test value 1</td>\n",
       "            </tr>\n",
       "        \n",
       "            <tr>\n",
       "                <td>2</td>\n",
       "                <td>test value 2</td>\n",
       "            </tr>\n",
       "        \n",
       "            <tr>\n",
       "                <td>3</td>\n",
       "                <td>test value 3</td>\n",
       "            </tr>\n",
       "        \n",
       "            <tr>\n",
       "                <td>4</td>\n",
       "                <td>test value 4</td>\n",
       "            </tr>\n",
       "        \n",
       "            <tr>\n",
       "                <td>5</td>\n",
       "                <td>test value 5</td>\n",
       "            </tr>\n",
       "        \n",
       "            <tr>\n",
       "                <td>6</td>\n",
       "                <td>test value 6</td>\n",
       "            </tr>\n",
       "        \n",
       "    </tbody>\n",
       "</table>\n",
       "<!-- END SOLUTION  -->        <hr/>\n",
       "        <p style=\"color: red;\">&lt;&lt;&lt;&lt; end of your solution</p>\n",
       "    </body>\n",
       "</html>"
      ],
      "text/plain": [
       "<IPython.core.display.HTML object>"
      ]
     },
     "metadata": {},
     "output_type": "display_data"
    }
   ],
   "source": [
    "%autoreload 2\n",
    "# DO NOT REMOVE THIS CODE >>> BEGINNING\n",
    "# this cell assembles the HTML returned by the function that you wrote\n",
    "# and renders it in the \"preview\" window\n",
    "from jinja2 import Environment, FileSystemLoader\n",
    "\n",
    "from IPython.display import display, HTML\n",
    "html_header = \"\"\"<!DOCTYPE html>\n",
    "    <html lang=\"en\">\n",
    "        <head>\n",
    "            <title>Page Title</title>\n",
    "        </head>\n",
    "        <body>\n",
    "            <p style=\"color: red;\">start of your solution &gt;&gt;&gt;&gt;</p>\n",
    "            <hr/>\n",
    "        \"\"\"\n",
    "html_header_offset = 1  # number of lines in the header\n",
    "html_footer = \"\"\"        <hr/>\n",
    "        <p style=\"color: red;\">&lt;&lt;&lt;&lt; end of your solution</p>\n",
    "    </body>\n",
    "</html>\"\"\"\n",
    "\n",
    "env = Environment(loader=FileSystemLoader(searchpath=\"./\"))\n",
    "template = env.get_template(\"table_template.html\")\n",
    "\n",
    "values = ['test value 1', \n",
    "    'test value 2', \n",
    "    'test value 3', \n",
    "    'test value 4', \n",
    "    'test value 5', \n",
    "    'test value 6']\n",
    "\n",
    "html_to_test = html_header + template.render(values=values) + html_footer\n",
    "display(HTML(html_to_test))\n",
    "\n",
    "# DO NOT REMOVE THIS CODE <<< END"
   ]
  },
  {
   "cell_type": "code",
   "execution_count": 12,
   "id": "eafbe2b0",
   "metadata": {
    "tags": [
     "tests",
     "tests-3.1"
    ]
   },
   "outputs": [
    {
     "name": "stdout",
     "output_type": "stream",
     "text": [
      "first\n",
      "tests passed ✓\n"
     ]
    }
   ],
   "source": [
    "%autoreload 2\n",
    "# test cell\n",
    "import os\n",
    "from jinja2 import Environment, FileSystemLoader\n",
    "\n",
    "if not os.path.exists(\"table_template.html\"):\n",
    "    raise ValueError(\"You did not execute your solution cell!\") \n",
    "\n",
    "has_error = False\n",
    "allowed_same_line = ['b', 'strong', 'i', 'pre']\n",
    "\n",
    "html_header = \"\"\"<!DOCTYPE html>\n",
    "    <html lang=\"en\">\n",
    "        <head>\n",
    "            <title>Page Title</title>\n",
    "        </head>\n",
    "        <body>\n",
    "        \"\"\"\n",
    "\n",
    "html_footer = \"\"\"\n",
    "    </body>\n",
    "</html>\"\"\"\n",
    "\n",
    "values = ['test value 1', \n",
    "    'test value 2', \n",
    "    'test value 3', \n",
    "    'test value 4', \n",
    "    'test value 5', \n",
    "    'test value 6']\n",
    "\n",
    "env = Environment(loader=FileSystemLoader(searchpath=\"./\"))\n",
    "template = env.get_template(\"table_template.html\")\n",
    "\n",
    "html_to_test = html_header + template.render(values=values) + html_footer\n",
    "\n",
    "soup = validate_html(html_to_test)\n",
    "\n",
    "tag_set = set([str(tag.name) for tag in soup.find_all()])\n",
    "tag_pairs = []\n",
    "for tag_1 in tag_set:\n",
    "    for tag_2 in tag_set:\n",
    "        if tag_1 != tag_2 and tag_1 not in allowed_same_line and tag_2 not in allowed_same_line:\n",
    "            tag_pairs.append((tag_1, tag_2))\n",
    "\n",
    "for i, line in enumerate(html_to_test.split('\\n')):\n",
    "    for tag_1, tag_2 in tag_pairs:\n",
    "        if f'<{tag_1}>' in line or f'</{tag_1}>' in line:\n",
    "            assert f'<{tag_2}>' not in line and f'</{tag_2}>' not in line, \\\n",
    "                f'Line {i+1} has two tags in the same line \\\n",
    "                    ({tag_1} and {tag_2}).\\n\\\n",
    "                        You must have them in different lines.\\nLine {i+1}:\\t{line}'\n",
    "\n",
    "td = soup.find_all('td')\n",
    "th = soup.find_all('th')\n",
    "assert len(td) == 12, f'You should have 12 table cells. You have {len(td)} instead.'\n",
    "assert len(th) == 2, f'You should have 2 column headers. You have {len(th)} instead.'\n",
    "\n",
    "print('tests passed', u'\\u2713')"
   ]
  }
 ],
 "metadata": {
  "assignment_list": [
   "1.1",
   "2.1",
   "3.1"
  ],
  "kernelspec": {
   "display_name": "Python 3 (ipykernel)",
   "language": "python",
   "name": "python3"
  },
  "language_info": {
   "codemirror_mode": {
    "name": "ipython",
    "version": 3
   },
   "file_extension": ".py",
   "mimetype": "text/x-python",
   "name": "python",
   "nbconvert_exporter": "python",
   "pygments_lexer": "ipython3",
   "version": "3.10.13"
  },
  "vscode": {
   "interpreter": {
    "hash": "2cb7843e253d2e26ab065851fb0883c43c29418950592dd63fef040d62b28239"
   }
  }
 },
 "nbformat": 4,
 "nbformat_minor": 5
}
