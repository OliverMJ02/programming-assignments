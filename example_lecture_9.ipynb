{
 "cells": [
  {
   "attachments": {},
   "cell_type": "markdown",
   "metadata": {},
   "source": [
    "# EEN060 - Applied object-oriented programming\n",
    "\n",
    "Teacher: [Carlos Natalino](https://www.chalmers.se/en/staff/Pages/Carlos-Natalino-Da-Silva.aspx) / Examiner: [Paolo Monti](https://www.chalmers.se/en/staff/Pages/Paolo-Monti.aspx)\n",
    "\n",
    "[Canvas course page](https://chalmers.instructure.com/courses/28094)\n",
    "\n",
    "[Course channel on Chalmers Play](https://play.chalmers.se/channel/EEN060_EEN065_Applied_object-oriented_programming/300149)\n",
    "\n",
    "Before you turn this assignment list in, make sure everything runs as expected.\n",
    "First, **restart the kernel** and then **run all cells**.\n",
    "Then, check if all the tests run correctly.\n",
    "Note that if one of the problems present an error, the following ones **will not** be tested.\n",
    "\n",
    "In case of discrepancies between the problem command and the tests, you should solve it having in mind the tests.\n",
    "\n",
    "There are two types of cell:\n",
    "1. *solution cells:* These are the cells where you write your answer, or modify the existing code to solve the problem.\n",
    "2. *test cells:* These cells are used to test whether your solution is correct or not. If the tests run correctly, you should see a message `tests passed`. Otherwise, you should see an error message.\n",
    "\n",
    "**Delete** the line `raise NotImplementedError()` from the problems that you solve.\n",
    "\n",
    "**Do not delete or add any cell in this file.** All cells that you need are already in place.\n",
    "\n",
    "You may also have problems that will be manually graded (e.g., HTML/CSS/JS/pseudocode problems).\n",
    "These problems **do not** have a respective *test cell*.\n",
    "\n",
    "If you want to execute a cell, select the cell and press **CTRL+Enter** (in Windows) or **CMD+Enter** (in macOS) or click on the **Run cell** button.\n",
    "\n",
    "**If you want, you can solve this programming assignment using Google Colab**\n",
    "\n",
    "Link: https://colab.research.google.com/\n",
    "\n",
    "Just copy the following line to a code line and run it."
   ]
  },
  {
   "attachments": {},
   "cell_type": "markdown",
   "metadata": {
    "nbgrader": {
     "grade": false,
     "grade_id": "cell-title-assignment",
     "locked": true,
     "schema_version": 3,
     "solution": false,
     "task": false
    }
   },
   "source": [
    "## Examples from lecture 9"
   ]
  },
  {
   "cell_type": "code",
   "execution_count": null,
   "metadata": {},
   "outputs": [],
   "source": [
    "%load_ext autoreload\n",
    "try:\n",
    "    from utils import validate_python_code, validate_html\n",
    "except:\n",
    "    import sys\n",
    "    print(\"It seems this file is in the wrong folder. \"\n",
    "          \"Make sure to place it in the `programming-assignments` folder/project.\",\n",
    "          file=sys.stderr)\n"
   ]
  },
  {
   "cell_type": "code",
   "execution_count": null,
   "metadata": {},
   "outputs": [],
   "source": [
    "print(\"This is the start of my code\")\n",
    "try:\n",
    "    x = int(input(\"Type a number:\"))\n",
    "    y = 10 / x\n",
    "    print(f\"The value is {y=}\")\n",
    "except:\n",
    "    print(\"The program encountered and error!\")\n",
    "    exit(10)"
   ]
  },
  {
   "cell_type": "markdown",
   "metadata": {},
   "source": [
    "### Example 1"
   ]
  },
  {
   "cell_type": "code",
   "execution_count": null,
   "metadata": {},
   "outputs": [],
   "source": [
    "DATABASE_HOST: str = \"onu1.s2.chalmers.se\"\n",
    "DATABASE_PORT: int = 6380\n",
    "DATABASE_DB: int = 90\n",
    "DATABASE_PASSWORD: str = \"6a580447-cc21-422e-8d74-66f93bdee3ab\""
   ]
  },
  {
   "cell_type": "code",
   "execution_count": null,
   "metadata": {},
   "outputs": [],
   "source": [
    "from redis import Redis\n",
    "\n",
    "database = Redis(\n",
    "    host=DATABASE_HOST,\n",
    "    port=DATABASE_PORT,\n",
    "    db=DATABASE_DB,\n",
    "    password=DATABASE_PASSWORD,\n",
    ")\n",
    "\n",
    "if database.ping():\n",
    "    print(\"Database is connected!\")\n",
    "else:\n",
    "    print(\"Database is not connected!\")"
   ]
  },
  {
   "cell_type": "code",
   "execution_count": null,
   "metadata": {},
   "outputs": [],
   "source": [
    "if database.exists(\"x\") > 0:\n",
    "    print(\"The variable x is saved in the database!\")\n",
    "    value = int(database.get(\"x\"))\n",
    "    print(f\"The value of {value=}\", value+10)\n",
    "else:\n",
    "    print(\"The variable x does not exist in the database!\")\n",
    "    result = database.set(\"x\", 10)\n",
    "    if result:\n",
    "        print(\"Operation successful!\")\n",
    "    else:\n",
    "        print(\"Set did not work!\")"
   ]
  },
  {
   "cell_type": "code",
   "execution_count": null,
   "metadata": {},
   "outputs": [],
   "source": [
    "try:\n",
    "    database.delete(\"x\")\n",
    "except:\n",
    "    print(\"Error!\")"
   ]
  },
  {
   "cell_type": "code",
   "execution_count": null,
   "metadata": {},
   "outputs": [],
   "source": [
    "x = 10\n",
    "y = \"Carlos\""
   ]
  },
  {
   "cell_type": "code",
   "execution_count": null,
   "metadata": {},
   "outputs": [],
   "source": [
    "print(x, y)"
   ]
  },
  {
   "cell_type": "code",
   "execution_count": null,
   "metadata": {},
   "outputs": [],
   "source": [
    "x = \"10\"\n",
    "try:\n",
    "    x_converted = float(x)\n",
    "    print(\"it is a number\")\n",
    "except:\n",
    "    print(\"it is not a number!\")\n",
    "if isinstance(x, int) or isinstance(x, float):\n",
    "    print(\"It is a number!\")"
   ]
  }
 ],
 "metadata": {
  "celltoolbar": "Create Assignment",
  "kernelspec": {
   "display_name": "chalmers",
   "language": "python",
   "name": "python3"
  },
  "language_info": {
   "codemirror_mode": {
    "name": "ipython",
    "version": 3
   },
   "file_extension": ".py",
   "mimetype": "text/x-python",
   "name": "python",
   "nbconvert_exporter": "python",
   "pygments_lexer": "ipython3",
   "version": "3.10.10"
  }
 },
 "nbformat": 4,
 "nbformat_minor": 4
}
