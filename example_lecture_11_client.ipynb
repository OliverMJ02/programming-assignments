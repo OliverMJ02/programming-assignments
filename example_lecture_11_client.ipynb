{
 "cells": [
  {
   "cell_type": "markdown",
   "metadata": {},
   "source": [
    "# Examples from lecture 12 - Client"
   ]
  },
  {
   "cell_type": "code",
   "execution_count": 7,
   "metadata": {},
   "outputs": [
    {
     "name": "stdout",
     "output_type": "stream",
     "text": [
      "200\n",
      "{\n",
      "  \"code\": \"EEN060\",\n",
      "  \"name\": \"Applied OOP\"\n",
      "}\n",
      " <class 'str'>\n",
      "{'code': 'EEN060', 'name': 'Applied OOP'} <class 'dict'>\n",
      "Applied OOP\n"
     ]
    }
   ],
   "source": [
    "import requests\n",
    "\n",
    "result = requests.get(\"http://127.0.0.1:9998/dictionary\")\n",
    "\n",
    "print(result.status_code)\n",
    "print(result.text, type(result.text))\n",
    "dictionary = result.json()\n",
    "print(dictionary, type(dictionary))\n",
    "print(dictionary[\"name\"])"
   ]
  }
 ],
 "metadata": {
  "kernelspec": {
   "display_name": "chalmers",
   "language": "python",
   "name": "python3"
  },
  "language_info": {
   "codemirror_mode": {
    "name": "ipython",
    "version": 3
   },
   "file_extension": ".py",
   "mimetype": "text/x-python",
   "name": "python",
   "nbconvert_exporter": "python",
   "pygments_lexer": "ipython3",
   "version": "3.10.9"
  }
 },
 "nbformat": 4,
 "nbformat_minor": 2
}
