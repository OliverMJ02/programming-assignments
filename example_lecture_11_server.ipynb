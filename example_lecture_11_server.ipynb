{
 "cells": [
  {
   "cell_type": "markdown",
   "metadata": {},
   "source": [
    "# Examples from lecture 12 - Server"
   ]
  },
  {
   "cell_type": "code",
   "execution_count": null,
   "metadata": {},
   "outputs": [],
   "source": [
    "from flask import Flask\n",
    "\n",
    "app = Flask(__name__)  # creates new Flask object\n",
    "\n",
    "\n",
    "@app.route(\"/\")  # maps the function to the route \"/\" (root)\n",
    "def home() -> str:\n",
    "    return \"This is the home page!\"\n",
    "\n",
    "\n",
    "@app.route(\"/echo/<thing>\")  # maps the function and sets an argument \"thing\"\n",
    "def echo(thing: str) -> str:\n",
    "    return f\"Say hello to my parameter: {thing}\"\n",
    "\n",
    "\n",
    "print(\"Preparing to run...\")\n",
    "app.run(port=9998, debug=False)"
   ]
  }
 ],
 "metadata": {
  "kernelspec": {
   "display_name": "chalmers",
   "language": "python",
   "name": "python3"
  },
  "language_info": {
   "codemirror_mode": {
    "name": "ipython",
    "version": 3
   },
   "file_extension": ".py",
   "mimetype": "text/x-python",
   "name": "python",
   "nbconvert_exporter": "python",
   "pygments_lexer": "ipython3",
   "version": "3.10.9"
  }
 },
 "nbformat": 4,
 "nbformat_minor": 2
}
