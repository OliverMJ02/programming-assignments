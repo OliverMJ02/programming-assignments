{
 "cells": [
  {
   "cell_type": "markdown",
   "metadata": {},
   "source": [
    "# EEN060 - Applied object-oriented programming\n",
    "\n",
    "Teacher: [Carlos Natalino](https://www.chalmers.se/en/staff/Pages/Carlos-Natalino-Da-Silva.aspx) / Examiner: [Paolo Monti](https://www.chalmers.se/en/staff/Pages/Paolo-Monti.aspx)\n",
    "\n",
    "[Course channel on Chalmers Play](https://play.chalmers.se/channel/EEN060_EEN065_Applied_object-oriented_programming/300149)\n",
    "\n",
    "Before you turn this assignment list in, make sure everything runs as expected.\n",
    "First, **restart the kernel** and then **run all cells**.\n",
    "Then, check if all the tests run correctly.\n",
    "Note that if one of the problems present an error, the following ones **will not** be tested.\n",
    "\n",
    "In case of discrepancies between the problem command and the tests, you should solve it having in mind the tests.\n",
    "\n",
    "There are two types of cell:\n",
    "1. *solution cells:* These are the cells where you write your answer, or modify the existing code to solve the problem.\n",
    "2. *test cells:* These cells are used to test whether your solution is correct or not. If the tests run correctly, you should see a message `tests passed`. Otherwise, you should see an error message.\n",
    "\n",
    "**Delete** the line `raise NotImplementedError()` from the problems that you solve.\n",
    "\n",
    "**Do not delete or add any cell in this file.** All cells that you need are already in place.\n",
    "\n",
    "You may also have problems that will be manually graded (e.g., HTML/CSS/JS/pseudocode problems).\n",
    "These problems **do not** have a respective *test cell*.\n",
    "\n",
    "If you want to execute a cell, select the cell and press **CTRL+Enter** (in Windows) or **CMD+Enter** (in macOS) or click on the **Run cell** button.\n",
    "\n",
    "**If you want, you can solve this programming assignment using Google Colab**\n",
    "\n",
    "Link: https://colab.research.google.com/\n",
    "\n",
    "Just uncomment the following line to do so."
   ]
  },
  {
   "cell_type": "markdown",
   "metadata": {},
   "source": [
    "---"
   ]
  },
  {
   "cell_type": "markdown",
   "metadata": {
    "deletable": false,
    "editable": false,
    "nbgrader": {
     "cell_type": "markdown",
     "checksum": "86a5da3b632a210bd4f4e2757c2ea7d9",
     "grade": false,
     "grade_id": "cell-title-assignment",
     "locked": true,
     "schema_version": 3,
     "solution": false,
     "task": false
    }
   },
   "source": [
    "# Assignment 0\n",
    "\n",
    "In this assignment, students should practice:\n",
    "- how to download the programming assignments\n",
    "- how to solve the programming assignments\n",
    "- how to upload them back to canvas\n",
    "- how to solve the Python problems\n",
    "- how to debug your code\n",
    "- how to solve the HTML problems\n",
    "\n",
    "**Observations:**\n",
    "For the problems in this assignment, you should:\n",
    "- use only the math operations studied in Chapter 3.\n",
    "- not use external modules, i.e., `import` command is not allowed in your solutions."
   ]
  },
  {
   "cell_type": "markdown",
   "metadata": {
    "deletable": false,
    "editable": false,
    "nbgrader": {
     "cell_type": "markdown",
     "checksum": "2ab14152c1fd3d1df3d1b58dcb7adb8e",
     "grade": false,
     "grade_id": "cell-title-level-1",
     "locked": true,
     "schema_version": 3,
     "solution": false,
     "task": false
    }
   },
   "source": [
    "## Level 1\n",
    "\n",
    "Level 1 problems are simple problems that required only the knowledge obtained in the content of the lecture and the reading material of the particular lecture.\n",
    "For the list of chapters related to this content, please visit our syllabus in the course canvas page."
   ]
  },
  {
   "cell_type": "markdown",
   "metadata": {
    "deletable": false,
    "editable": false,
    "nbgrader": {
     "cell_type": "markdown",
     "checksum": "0bfa0d0bc189c18ae509bfa976de8cac",
     "grade": false,
     "grade_id": "cell-problem-1-1",
     "locked": true,
     "schema_version": 3,
     "solution": false,
     "task": false
    }
   },
   "source": [
    "### Problem 1.1\n",
    "\n",
    "Create a function called `sum_of_two_numbers` that receives two parameters (numbers) and returns their sum."
   ]
  },
  {
   "cell_type": "markdown",
   "metadata": {
    "deletable": false,
    "editable": false,
    "nbgrader": {
     "cell_type": "markdown",
     "checksum": "61a3eac9b622d8f1741871a6b872c85e",
     "grade": false,
     "grade_id": "cell-pseudocode-1-1",
     "locked": true,
     "schema_version": 3,
     "solution": false,
     "task": false
    }
   },
   "source": [
    "```\n",
    "# write here your pseudocode (not graded)\n",
    "\n",
    "# * pseudocode is necessary when asking for help during the lab\n",
    "```"
   ]
  },
  {
   "cell_type": "code",
   "execution_count": 1,
   "metadata": {
    "deletable": false,
    "nbgrader": {
     "cell_type": "code",
     "checksum": "97ed0d8ba1a435f691fb59af13c65751",
     "grade": false,
     "grade_id": "cell-answer-1-1",
     "locked": false,
     "schema_version": 3,
     "solution": true,
     "task": false
    }
   },
   "outputs": [
    {
     "ename": "NotImplementedError",
     "evalue": "",
     "output_type": "error",
     "traceback": [
      "\u001b[1;31m---------------------------------------------------------------------------\u001b[0m",
      "\u001b[1;31mNotImplementedError\u001b[0m                       Traceback (most recent call last)",
      "Cell \u001b[1;32mIn[1], line 3\u001b[0m\n\u001b[0;32m      1\u001b[0m \u001b[38;5;66;03m# solution cell\u001b[39;00m\n\u001b[0;32m      2\u001b[0m \u001b[38;5;66;03m# YOUR CODE HERE\u001b[39;00m\n\u001b[1;32m----> 3\u001b[0m \u001b[38;5;28;01mraise\u001b[39;00m \u001b[38;5;167;01mNotImplementedError\u001b[39;00m()\n\u001b[0;32m      5\u001b[0m \u001b[38;5;66;03m# uncomment the line(s) below to debug\u001b[39;00m\n\u001b[0;32m      6\u001b[0m \u001b[38;5;66;03m# a = 10\u001b[39;00m\n\u001b[0;32m      7\u001b[0m \u001b[38;5;66;03m# b = 20\u001b[39;00m\n\u001b[0;32m      8\u001b[0m \u001b[38;5;66;03m# s = sum_of_two_numbers(a, b)\u001b[39;00m\n\u001b[0;32m      9\u001b[0m \u001b[38;5;66;03m# print(f'The sum of {a} + {b} is {s}')\u001b[39;00m\n\u001b[0;32m     10\u001b[0m \u001b[38;5;66;03m# print('Execution finished', u'\\u2713')\u001b[39;00m\n",
      "\u001b[1;31mNotImplementedError\u001b[0m: "
     ]
    }
   ],
   "source": [
    "# solution cell\n",
    "# YOUR CODE HERE\n",
    "raise NotImplementedError()\n",
    "\n",
    "# uncomment the line(s) below to debug\n",
    "# a = 10\n",
    "# b = 20\n",
    "# s = sum_of_two_numbers(a, b)\n",
    "# print(f'The sum of {a} + {b} is {s}')\n",
    "# print('Execution finished', u'\\u2713')"
   ]
  },
  {
   "cell_type": "code",
   "execution_count": null,
   "metadata": {
    "deletable": false,
    "editable": false,
    "nbgrader": {
     "cell_type": "code",
     "checksum": "36d784d773ec72120c0fc2ca1c06aea7",
     "grade": true,
     "grade_id": "cell-tests-1-1",
     "locked": true,
     "points": 1,
     "schema_version": 3,
     "solution": false,
     "task": false
    }
   },
   "outputs": [],
   "source": [
    "# test cell\n",
    "from nose.tools import assert_equal, assert_raises\n",
    "assert_equal(sum_of_two_numbers(2, 2), 4)\n",
    "assert_equal(sum_of_two_numbers(-2, -2), -4)\n",
    "assert_raises(TypeError, sum_of_two_numbers, 2) # this test makes sure that the function still requires two arguments\n",
    "### THIS IS THE BEGINNING OF THE HIDDEN TESTS\n",
    "assert_equal(sum_of_two_numbers(5, 2), 7)\n",
    "assert_raises(TypeError, sum_of_two_numbers, 2, '1') # this makes sure that only numbers are allowed (no conversion within the function)\n",
    "assert_raises(TypeError, sum_of_two_numbers, 2, None) # yet another way to test things\n",
    "import random\n",
    "for i in range(10):\n",
    "    a = -100 + random.random() * 1000\n",
    "    b = -100 + random.random() * 1000\n",
    "    s = sum_of_two_numbers(a, b)\n",
    "    assert_equal(s, a+b)\n",
    "### THIS IS THE END OF THE HIDDEN TESTS\n",
    "print('tests passed', u'\\u2713')"
   ]
  },
  {
   "cell_type": "markdown",
   "metadata": {
    "deletable": false,
    "editable": false,
    "nbgrader": {
     "cell_type": "markdown",
     "checksum": "9b8724b79f2e45a31e2babfda41d4ceb",
     "grade": false,
     "grade_id": "cell-problem-1-2",
     "locked": true,
     "schema_version": 3,
     "solution": false,
     "task": false
    }
   },
   "source": [
    "### Problem 1.2\n",
    "\n",
    "Create a function called `print_sum_of_two_numbers` that receives two parameters (numbers) and prints their sum."
   ]
  },
  {
   "cell_type": "markdown",
   "metadata": {
    "deletable": false,
    "editable": false,
    "nbgrader": {
     "cell_type": "markdown",
     "checksum": "05a83f472afe9fe69550e66d23b5f87f",
     "grade": false,
     "grade_id": "cell-pseudocode-1-2",
     "locked": true,
     "schema_version": 3,
     "solution": false,
     "task": false
    }
   },
   "source": [
    "```\n",
    "# write here your pseudocode (not graded)\n",
    "\n",
    "# * pseudocode is necessary when asking for help during the lab\n",
    "```"
   ]
  },
  {
   "cell_type": "code",
   "execution_count": null,
   "metadata": {
    "deletable": false,
    "nbgrader": {
     "cell_type": "code",
     "checksum": "cd2871308ae3f15c18ae4926cf4c6198",
     "grade": false,
     "grade_id": "cell-answer-1-2",
     "locked": false,
     "schema_version": 3,
     "solution": true,
     "task": false
    }
   },
   "outputs": [],
   "source": [
    "# solution cell\n",
    "# YOUR CODE HERE\n",
    "raise NotImplementedError()\n",
    "\n",
    "# uncomment the line(s) below to debug\n",
    "# a = 10\n",
    "# b = 20\n",
    "# print(f'The sum of {a} + {b} is')\n",
    "# print_sum_of_two_numbers(a, b)\n",
    "# print('Execution finished', u'\\u2713')"
   ]
  },
  {
   "cell_type": "code",
   "execution_count": null,
   "metadata": {
    "deletable": false,
    "editable": false,
    "nbgrader": {
     "cell_type": "code",
     "checksum": "9aad793847164727a4858d55be188aae",
     "grade": true,
     "grade_id": "cell-test-1-2",
     "locked": true,
     "points": 1,
     "schema_version": 3,
     "solution": false,
     "task": false
    }
   },
   "outputs": [],
   "source": [
    "# test cell\n",
    "from nose.tools import assert_raises\n",
    "from unittest.mock import patch\n",
    "with patch('__main__.print') as mock_print:\n",
    "    print_sum_of_two_numbers(10, 10)\n",
    "mock_print.assert_called_once_with(20)\n",
    "with patch('__main__.print') as mock_print:\n",
    "    print_sum_of_two_numbers(35.5, 35)\n",
    "mock_print.assert_called_once_with(70.5)\n",
    "assert_raises(TypeError, print_sum_of_two_numbers, 2) # this test makes sure that the function still requires two arguments\n",
    "### THIS IS THE BEGINNING OF HIDDEN TESTS\n",
    "import random\n",
    "for i in range(10):\n",
    "    a = -100 + random.random() * 1000\n",
    "    b = -100 + random.random() * 1000\n",
    "    with patch('__main__.print') as mock_print:\n",
    "        print_sum_of_two_numbers(a, b)\n",
    "    mock_print.assert_called_once_with(a+b)\n",
    "### THIS IS THE END OF HIDDEN TESTS\n",
    "print('tests passed', u'\\u2713')"
   ]
  },
  {
   "cell_type": "markdown",
   "metadata": {
    "deletable": false,
    "editable": false,
    "nbgrader": {
     "cell_type": "markdown",
     "checksum": "c5d373ee769cedd5cda0c8457e144030",
     "grade": false,
     "grade_id": "cell-title-level-2",
     "locked": true,
     "schema_version": 3,
     "solution": false,
     "task": false
    }
   },
   "source": [
    "---\n",
    "## Level 2\n",
    "\n",
    "Problems in level 2 should build upon the content of the lecture and the content of previous lectures.\n",
    "You should connect the content related to this lecture with the content explained in previous lectures.\n",
    "Therefore, the problems can be solved based solely on the reading material available for the course up to the lecture the assignment is about."
   ]
  },
  {
   "cell_type": "markdown",
   "metadata": {
    "deletable": false,
    "editable": false,
    "nbgrader": {
     "cell_type": "markdown",
     "checksum": "5b042e0587ab518df4aee83a10a2f27b",
     "grade": false,
     "grade_id": "cell-problem-2-1",
     "locked": true,
     "schema_version": 3,
     "solution": false,
     "task": false
    }
   },
   "source": [
    "### Problem 2.1\n",
    "\n",
    "Create a function called `print_return_sum_of_two_numbers` that receives two parameters (numbers) and, prints and returns their sum."
   ]
  },
  {
   "cell_type": "markdown",
   "metadata": {
    "deletable": false,
    "editable": false,
    "nbgrader": {
     "cell_type": "markdown",
     "checksum": "15570b6393c831549d8fc7dd9cf1b617",
     "grade": false,
     "grade_id": "cell-pseudocode-2-1",
     "locked": true,
     "schema_version": 3,
     "solution": false,
     "task": false
    }
   },
   "source": [
    "```\n",
    "# write here your pseudocode (not graded)\n",
    "\n",
    "# * pseudocode is necessary when asking for help during the lab\n",
    "```"
   ]
  },
  {
   "cell_type": "code",
   "execution_count": null,
   "metadata": {
    "deletable": false,
    "nbgrader": {
     "cell_type": "code",
     "checksum": "0a8a2af4e35b67261033047ce048e626",
     "grade": false,
     "grade_id": "cell-answer-2-1",
     "locked": false,
     "schema_version": 3,
     "solution": true,
     "task": false
    }
   },
   "outputs": [],
   "source": [
    "# solution cell\n",
    "# YOUR CODE HERE\n",
    "raise NotImplementedError()\n",
    "\n",
    "# uncomment the line(s) below to debug\n",
    "# a = 10\n",
    "# b = 20\n",
    "# print(f'The sum of {a} + {b} is')\n",
    "# s = print_return_sum_of_two_numbers(a, b)\n",
    "# print(f'The return value is {s}')\n",
    "# print('Execution finished', u'\\u2713')"
   ]
  },
  {
   "cell_type": "code",
   "execution_count": null,
   "metadata": {
    "deletable": false,
    "editable": false,
    "nbgrader": {
     "cell_type": "code",
     "checksum": "6613d16f7113f17e23c23993d2ee4a38",
     "grade": true,
     "grade_id": "cell-tests-2-1",
     "locked": true,
     "points": 1,
     "schema_version": 3,
     "solution": false,
     "task": false
    }
   },
   "outputs": [],
   "source": [
    "# test cell\n",
    "from nose.tools import assert_equal, assert_raises\n",
    "from unittest.mock import patch\n",
    "with patch('__main__.print') as mock_print:\n",
    "    assert_equal(print_return_sum_of_two_numbers(10, 10), 20)\n",
    "mock_print.assert_called_once_with(20)\n",
    "with patch('__main__.print') as mock_print:\n",
    "    assert_equal(print_return_sum_of_two_numbers(35.5, 35), 70.5)\n",
    "mock_print.assert_called_once_with(70.5)\n",
    "### THIS IS THE BEGINNING OF HIDDEN TESTS\n",
    "import random\n",
    "for i in range(10):\n",
    "    a = -100 + random.random() * 1000\n",
    "    b = -100 + random.random() * 1000\n",
    "    with patch('__main__.print') as mock_print:\n",
    "        assert_equal(print_return_sum_of_two_numbers(a, b), a+b)\n",
    "    mock_print.assert_called_once_with(a+b)\n",
    "### THIS IS THE END OF HIDDEN TESTS\n",
    "print('tests passed', u'\\u2713')"
   ]
  },
  {
   "cell_type": "markdown",
   "metadata": {
    "deletable": false,
    "editable": false,
    "nbgrader": {
     "cell_type": "markdown",
     "checksum": "8b90ec4d310d8b1fc1ccb31a3a40b321",
     "grade": false,
     "grade_id": "cell-html-title",
     "locked": true,
     "schema_version": 3,
     "solution": false,
     "task": false
    }
   },
   "source": [
    "---\n",
    "## Level 3: Pseudocode/HTML/CSS/JS problems\n",
    "\n",
    "In these problems we are training the design part of the course, which will be used starting from week 6 in the course.\n",
    "\n",
    "Recommended sources:\n",
    "- HTML: https://www.w3schools.com/html/\n",
    "- CSS: https://www.w3schools.com/css/\n",
    "- JavaScript: https://www.w3schools.com/js/\n",
    "\n",
    "PyCharm sometimes does not render HTML/CSS/JS as expected. We recommend testing your solutions here: https://www.w3schools.com/html/tryit.asp?filename=tryhtml_default\n",
    "\n"
   ]
  },
  {
   "cell_type": "markdown",
   "metadata": {
    "deletable": false,
    "editable": false,
    "nbgrader": {
     "cell_type": "markdown",
     "checksum": "60d9ebf858f84fffc9a31e5ed1d6d82c",
     "grade": false,
     "grade_id": "cell-html-problem",
     "locked": true,
     "schema_version": 3,
     "solution": false,
     "task": false
    }
   },
   "source": [
    "### Problem 3.1\n",
    "\n",
    "Create a Python function called `get_html` that returns an HTML code that shows the Chalmers logo.\n",
    "\n",
    "Black logo: https://www.chalmers.se/SiteCollectionImages/Logotyper/Chalmers%20logotyp/ChalmersU_black.png\n",
    "White logo: https://www.chalmers.se/SiteCollectionImages/Logotyper/Chalmers%20logotyp/Chalmers_white.png\n",
    "\n",
    "The image must have an alt text \"Chalmers\".\n",
    "\n",
    "Then, make the logo be a link using the tag `a` so that when the logo is clicked, it opens the page https://student.portal.chalmers.se/en/chalmersstudies/courseinformation/Pages/SearchCourse.aspx?course_id=30582&parsergrp=3"
   ]
  },
  {
   "cell_type": "code",
   "execution_count": null,
   "metadata": {
    "deletable": false,
    "nbgrader": {
     "cell_type": "code",
     "checksum": "92964879e003dbaca50583790610764f",
     "grade": false,
     "grade_id": "cell-html-answer",
     "locked": false,
     "schema_version": 3,
     "solution": true,
     "task": false
    },
    "pycharm": {
     "name": "#%%\n"
    }
   },
   "outputs": [],
   "source": [
    "# YOUR CODE HERE\n",
    "raise NotImplementedError()\n",
    "\n",
    "# uncomment the line(s) below to debug\n",
    "# print('Your HTML:')\n",
    "# print(get_html())\n",
    "# print('Execution finished', u'\\u2713')"
   ]
  },
  {
   "cell_type": "code",
   "execution_count": null,
   "metadata": {
    "deletable": false,
    "editable": false,
    "nbgrader": {
     "cell_type": "code",
     "checksum": "7d10139ed87e67dce79aed0e0da285dd",
     "grade": false,
     "grade_id": "html-setup",
     "locked": true,
     "schema_version": 3,
     "solution": false,
     "task": false
    }
   },
   "outputs": [],
   "source": [
    "# DO NOT REMOVE THIS CODE >>> BEGINNING\n",
    "# this cell assembles the HTML returned by the function that you wrote\n",
    "# and renders it in the \"preview\" window\n",
    "from IPython.core.display import display, HTML\n",
    "html_header = \"\"\"<!DOCTYPE html>\n",
    "    <html lang=\"en\">\n",
    "        <head>\n",
    "            <title>Page Title</title>\n",
    "        </head>\n",
    "        <body><p style=\"color: red;\">start of your solution &gt;&gt;&gt;&gt;</p><hr/>\n",
    "        \"\"\"\n",
    "html_header_offset = 1  # number of lines in the header\n",
    "html_footer = \"\"\"     <hr/><p style=\"color: red;\">&lt;&lt;&lt;&lt; end of your solution</p></body>\n",
    "</html>\"\"\"\n",
    "\n",
    "html_to_test = html_header + get_html() + html_footer\n",
    "display(HTML(html_to_test))\n",
    "\n",
    "# DO NOT REMOVE THIS CODE <<< END"
   ]
  },
  {
   "cell_type": "code",
   "execution_count": null,
   "metadata": {
    "deletable": false,
    "editable": false,
    "nbgrader": {
     "cell_type": "code",
     "checksum": "cbde07414d689bf0ea99445025ff1e16",
     "grade": true,
     "grade_id": "cell-html-test",
     "locked": true,
     "points": 1,
     "schema_version": 3,
     "solution": false,
     "task": false
    }
   },
   "outputs": [],
   "source": [
    "# test cell\n",
    "import sys\n",
    "import requests\n",
    "from bs4 import BeautifulSoup\n",
    "from utils import validate_html\n",
    "has_error = False\n",
    "\n",
    "html_to_test = html_header + get_html() + html_footer\n",
    "\n",
    "assert html_to_test.count('\\n') > 2, 'Your HTML seems to not have the sufficient lines.'\n",
    "\n",
    "soup = validate_html(html_to_test)\n",
    "tags_p = soup.find_all('p')\n",
    "\n",
    "assert len(tags_p) == 2, f'The solution must have 9 paragraphs in your HTML. You have {len(tags_p)} instead.'\n",
    "\n",
    "tags_a = soup.find_all('a')\n",
    "\n",
    "assert len(tags_a) == 1, f'The HTML must have a link.'\n",
    "\n",
    "assert tags_a[0]['href'] == 'https://student.portal.chalmers.se/en/chalmersstudies/courseinformation/Pages/SearchCourse.aspx?course_id=30582&parsergrp=3', f'The link seems to be linking to the wrong page.'\n",
    "\n",
    "assert tags_a[0].img != None, f'The link must have an image inside of it.'\n",
    "\n",
    "assert tags_a[0].img['alt'] == 'Chalmers', f'The alt of the image must be \"Chalmers\".'\n",
    "\n",
    "print('tests passed', u'\\u2713')"
   ]
  }
 ],
 "metadata": {
  "kernelspec": {
   "display_name": "Python 3",
   "language": "python",
   "name": "python3"
  },
  "language_info": {
   "codemirror_mode": {
    "name": "ipython",
    "version": 3
   },
   "file_extension": ".py",
   "mimetype": "text/x-python",
   "name": "python",
   "nbconvert_exporter": "python",
   "pygments_lexer": "ipython3",
   "version": "3.10.13"
  },
  "vscode": {
   "interpreter": {
    "hash": "d76cb1080c5255c97e5172a0a3d708f3658c9884f8c6b4fafe2dd6ac5d6c7e40"
   }
  }
 },
 "nbformat": 4,
 "nbformat_minor": 4
}
