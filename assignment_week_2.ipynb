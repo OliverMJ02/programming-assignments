{
 "cells": [
  {
   "cell_type": "markdown",
   "metadata": {},
   "source": [
    "# EEN060 - Applied object-oriented programming\n",
    "\n",
    "Teacher: [Carlos Natalino](https://www.chalmers.se/en/persons/carda/) / Examiner: [Paolo Monti](https://www.chalmers.se/en/persons/mpaolo/)\n",
    "\n",
    "[Canvas course page](https://chalmers.instructure.com/courses/28094)\n",
    "\n",
    "[Course channel on Chalmers Play](https://play.chalmers.se/channel/EEN060_EEN065_Applied_object-oriented_programming/300149)\n",
    "\n",
    "Before you turn this assignment list in, make sure everything runs as expected.\n",
    "First, **restart the kernel** and then **run all cells**.\n",
    "Then, check if all the tests run correctly.\n",
    "Note that if one of the problems present an error, the following ones **will not** be tested.\n",
    "\n",
    "In case of discrepancies between the problem command and the tests, you should solve it having in mind the tests.\n",
    "\n",
    "There are two types of cell:\n",
    "1. *solution cells:* These are the cells where you write your answer, or modify the existing code to solve the problem.\n",
    "2. *test cells:* These cells are used to test whether your solution is correct or not. If the tests run correctly, you should see a message `tests passed`. Otherwise, you should see an error message.\n",
    "\n",
    "**Delete** the line `raise NotImplementedError()` from the problems that you solve.\n",
    "\n",
    "**Do not delete or add any cell in this file.** All cells that you need are already in place.\n",
    "\n",
    "You may also have problems that will be manually graded (e.g., HTML/CSS/JS/pseudocode problems).\n",
    "These problems **do not** have a respective *test cell*.\n",
    "\n",
    "If you want to execute a cell, select the cell and press **CTRL+Enter** (in Windows) or **CMD+Enter** (in macOS) or click on the **Run cell** button.\n",
    "\n",
    "**If you want, you can solve this programming assignment using Google Colab**\n",
    "\n",
    "Link: https://colab.research.google.com/\n",
    "\n",
    "Just copy the following line to a code line and run it."
   ]
  },
  {
   "cell_type": "markdown",
   "metadata": {
    "nbgrader": {
     "grade": false,
     "grade_id": "cell-title-assignment",
     "locked": true,
     "schema_version": 3,
     "solution": false,
     "task": false
    }
   },
   "source": [
    "# Assignment 1\n",
    "\n",
    "In this assignment, students should practice:\n",
    "- how to use Visual Studio Code\n",
    "- how to download, solve and submit programming assignments\n",
    "- how to create functions\n",
    "- start getting familiar with Python\n",
    "- how to manipulate variables\n",
    "- how to use math operations\n",
    "- how to output the results\n",
    "- understand different types of variables\n",
    "- understand the code quality validation\n",
    "\n",
    "**Observations:**\n",
    "For the problems in this assignment, you should:\n",
    "- use only the math operations studied in the lecture notes (i.e., no advanced functions allowed).\n",
    "- not use external modules, i.e., `import` command is not allowed in your solutions (with exception of the module `typing`).\n",
    "- make sure that your `utils.py` file has the following line (i.e., replace `onu2` by `onu1` if needed):\n",
    "\n",
    "`url_python_validator = \"https://onu1.s2.chalmers.se/pnu/\"`\n",
    "\n",
    "**Preparation:** Run the cell below every time you start working on this file, and every time you restart the kernel."
   ]
  },
  {
   "cell_type": "code",
   "execution_count": 125,
   "metadata": {
    "tags": [
     "load"
    ]
   },
   "outputs": [
    {
     "name": "stdout",
     "output_type": "stream",
     "text": [
      "The autoreload extension is already loaded. To reload it, use:\n",
      "  %reload_ext autoreload\n"
     ]
    }
   ],
   "source": [
    "%load_ext autoreload\n",
    "try:\n",
    "    from utils import validate_python_code, validate_html\n",
    "except:\n",
    "    import sys\n",
    "    print(\"It seems this file is in the wrong folder. \"\n",
    "          \"Make sure to place it in the `programming-assignments` folder/project.\",\n",
    "          file=sys.stderr)"
   ]
  },
  {
   "cell_type": "markdown",
   "metadata": {
    "nbgrader": {
     "grade": false,
     "grade_id": "cell-title-level-1",
     "locked": true,
     "schema_version": 3,
     "solution": false,
     "task": false
    }
   },
   "source": [
    "## Level 1\n",
    "\n",
    "Level 1 problems are simple problems that require only the knowledge obtained from the lecture's content and the lecture notes."
   ]
  },
  {
   "cell_type": "markdown",
   "metadata": {
    "nbgrader": {
     "grade": false,
     "grade_id": "cell-problem-1-1",
     "locked": true,
     "schema_version": 3,
     "solution": false,
     "task": false
    }
   },
   "source": [
    "### Problem 1.1\n",
    "\n",
    "Create a Python function called `sum_of_digits` that receives a positive integer upto three-digits and returns the sum of the digits."
   ]
  },
  {
   "cell_type": "markdown",
   "metadata": {
    "nbgrader": {
     "grade": false,
     "grade_id": "cell-pseudocode-1-1",
     "locked": true,
     "schema_version": 3,
     "solution": false,
     "task": false
    }
   },
   "source": [
    "```\n",
    "Write your pseudocode\n",
    "\n",
    "This is not graded\n",
    "\n",
    "This will not affect your Python code\n",
    "```"
   ]
  },
  {
   "cell_type": "code",
   "execution_count": 173,
   "metadata": {
    "nbgrader": {
     "grade": false,
     "grade_id": "cell-answer-1-1",
     "locked": false,
     "schema_version": 3,
     "solution": true,
     "task": false
    },
    "tags": [
     "solution",
     "solution-1.1"
    ]
   },
   "outputs": [
    {
     "name": "stdout",
     "output_type": "stream",
     "text": [
      "Overwriting sum_of_digits_solution.py\n"
     ]
    }
   ],
   "source": [
    "%%writefile sum_of_digits_solution.py\n",
    "# solution cell\n",
    "### BEGIN SOLUTION\n",
    "\n",
    "\n",
    "def sum_of_digits(x: int) -> int:\n",
    "    a: int = x // 100\n",
    "    b: int = (x - a * 100) // 10\n",
    "    c: int = x - a * 100 - b * 10\n",
    "    return a + b + c\n",
    "\n",
    "\n",
    "### END SOLUTION"
   ]
  },
  {
   "cell_type": "code",
   "execution_count": 174,
   "metadata": {
    "tags": [
     "debug",
     "debug-1.1"
    ]
   },
   "outputs": [
    {
     "name": "stdout",
     "output_type": "stream",
     "text": [
      "The sum of digits of 93 is 12\n",
      "Execution finished ✓\n"
     ]
    }
   ],
   "source": [
    "%autoreload 2\n",
    "# uncomment the line(s) below to debug\n",
    "from sum_of_digits_solution import sum_of_digits\n",
    "\n",
    "\n",
    "a = 93\n",
    "r = sum_of_digits(a)\n",
    "print(f\"The sum of digits of {a} is {r}\")\n",
    "print(\"Execution finished\", \"\\u2713\")"
   ]
  },
  {
   "cell_type": "code",
   "execution_count": 175,
   "metadata": {
    "nbgrader": {
     "grade": true,
     "grade_id": "cell-tests-1-1",
     "locked": true,
     "points": 1,
     "schema_version": 3,
     "solution": false,
     "task": false
    },
    "tags": [
     "tests",
     "tests-1.1"
    ]
   },
   "outputs": [
    {
     "data": {
      "text/html": [
       "<div class=\"tip admonition\">\n",
       "<p class=\"admonition-title\">Code Quality Analysis: <span style=\"color: green\">Pass</span></p><p>*No problem was found*\n",
       "</p>\n",
       "    </div>"
      ],
      "text/plain": [
       "<IPython.core.display.HTML object>"
      ]
     },
     "metadata": {},
     "output_type": "display_data"
    },
    {
     "name": "stdout",
     "output_type": "stream",
     "text": [
      "tests passed ✓\n"
     ]
    }
   ],
   "source": [
    "%autoreload 2\n",
    "# test cell\n",
    "try:\n",
    "    import sum_of_digits_solution\n",
    "except:\n",
    "    raise ValueError(\"You did not execute your solution cell!\")\n",
    "try:\n",
    "    from sum_of_digits_solution import sum_of_digits\n",
    "except:\n",
    "    raise ValueError(\"The module does not have the necessary function!\")\n",
    "\n",
    "from nose.tools import assert_equal, assert_raises\n",
    "\n",
    "assert_equal(sum_of_digits(103), 4)\n",
    "assert_equal(sum_of_digits(123), 6)\n",
    "assert_equal(sum_of_digits(67), 13)\n",
    "assert_raises(TypeError, sum_of_digits, \"2\")\n",
    "assert_raises(TypeError, sum_of_digits, None)\n",
    "assert_raises(TypeError, sum_of_digits, \"Test\", 2)\n",
    "\n",
    "from utils import validate_python_code\n",
    "\n",
    "validate_python_code(\"sum_of_digits_solution.py\")\n",
    "print(\"tests passed\", \"\\u2713\")"
   ]
  },
  {
   "cell_type": "markdown",
   "metadata": {
    "nbgrader": {
     "grade": false,
     "grade_id": "cell-problem-1-2",
     "locked": true,
     "schema_version": 3,
     "solution": false,
     "task": false
    }
   },
   "source": [
    "### Problem 1.2\n",
    "\n",
    "Create a Python function called `print_sum_of_digits` that receives a positive integer upto three-digits and print a $\\underline{\\textbf{string}}$ representing the sum of the digits. Note that the output is returned as a string rather than an integer or float."
   ]
  },
  {
   "cell_type": "markdown",
   "metadata": {
    "nbgrader": {
     "grade": false,
     "grade_id": "cell-pseudocode-1-2",
     "locked": true,
     "schema_version": 3,
     "solution": false,
     "task": false
    }
   },
   "source": [
    "```\n",
    "# write here your pseudocode (not graded)\n",
    "\n",
    "# * pseudocode is necessary when asking for help during the lab\n",
    "```"
   ]
  },
  {
   "cell_type": "code",
   "execution_count": 163,
   "metadata": {
    "nbgrader": {
     "grade": false,
     "grade_id": "cell-answer-1-2",
     "locked": false,
     "schema_version": 3,
     "solution": true,
     "task": false
    },
    "tags": [
     "solution",
     "solution-1.2"
    ]
   },
   "outputs": [
    {
     "name": "stdout",
     "output_type": "stream",
     "text": [
      "Overwriting print_sum_of_digits_solution.py\n"
     ]
    }
   ],
   "source": [
    "%%writefile print_sum_of_digits_solution.py\n",
    "# solution cell\n",
    "### BEGIN SOLUTION\n",
    "\n",
    "\n",
    "def print_sum_of_digits(x: int) -> str:\n",
    "    a: int = x // 100\n",
    "    b: int = (x - a * 100) // 10\n",
    "    c: int = x - a * 100 - b * 10\n",
    "    y: str = str(a + b + c)\n",
    "    return print(y)\n",
    "\n",
    "\n",
    "### END SOLUTION\n"
   ]
  },
  {
   "cell_type": "code",
   "execution_count": 167,
   "metadata": {
    "tags": [
     "debug",
     "debug-1.2"
    ]
   },
   "outputs": [
    {
     "name": "stdout",
     "output_type": "stream",
     "text": [
      "The sum of digits of 93 is \n",
      "12\n",
      "Execution finished ✓\n"
     ]
    }
   ],
   "source": [
    "%autoreload 2\n",
    "# uncomment the line(s) below to debug\n",
    "from print_sum_of_digits_solution import print_sum_of_digits\n",
    "\n",
    "\n",
    "a = 93\n",
    "print(f\"The sum of digits of {a} is \")\n",
    "print_sum_of_digits(a)\n",
    "print(\"Execution finished\", \"\\u2713\")"
   ]
  },
  {
   "cell_type": "code",
   "execution_count": 168,
   "metadata": {
    "nbgrader": {
     "grade": true,
     "grade_id": "cell-test-1-2",
     "locked": true,
     "points": 1,
     "schema_version": 3,
     "solution": false,
     "task": false
    },
    "tags": [
     "tests",
     "tests-1.2"
    ]
   },
   "outputs": [
    {
     "data": {
      "text/html": [
       "<div class=\"tip admonition\">\n",
       "<p class=\"admonition-title\">Code Quality Analysis: <span style=\"color: red\">Fail</span></p><p><p><b>Variable types and use:</b></p><table>\n",
       "<thead>\n",
       "<tr>\n",
       "<th style=\"text-align:right\">Line</th>\n",
       "<th style=\"text-align:left\">Description</th>\n",
       "</tr>\n",
       "</thead>\n",
       "<tbody>\n",
       "<tr>\n",
       "<td style=\"text-align:right\">10</td>\n",
       "<td style=\"text-align:left\">Incompatible return value type (got \"None\", expected \"str\"):<p><pre><code>    return print(y)</code></pre></p></td>\n",
       "</tr></tbody>\n",
       "</table></p>\n",
       "    </div>"
      ],
      "text/plain": [
       "<IPython.core.display.HTML object>"
      ]
     },
     "metadata": {},
     "output_type": "display_data"
    },
    {
     "ename": "ValueError",
     "evalue": "The code needs change. Check messages above.",
     "output_type": "error",
     "traceback": [
      "\u001b[1;31m---------------------------------------------------------------------------\u001b[0m",
      "\u001b[1;31mValueError\u001b[0m                                Traceback (most recent call last)",
      "Cell \u001b[1;32mIn[168], line 33\u001b[0m\n\u001b[0;32m     29\u001b[0m assert_raises(\u001b[38;5;167;01mTypeError\u001b[39;00m, print_sum_of_digits, \u001b[38;5;241m2\u001b[39m, \u001b[38;5;124m\"\u001b[39m\u001b[38;5;124mTest\u001b[39m\u001b[38;5;124m\"\u001b[39m)\n\u001b[0;32m     31\u001b[0m \u001b[38;5;28;01mfrom\u001b[39;00m \u001b[38;5;21;01mutils\u001b[39;00m \u001b[38;5;28;01mimport\u001b[39;00m validate_python_code\n\u001b[1;32m---> 33\u001b[0m \u001b[43mvalidate_python_code\u001b[49m\u001b[43m(\u001b[49m\u001b[38;5;124;43m\"\u001b[39;49m\u001b[38;5;124;43mprint_sum_of_digits_solution.py\u001b[39;49m\u001b[38;5;124;43m\"\u001b[39;49m\u001b[43m)\u001b[49m\n\u001b[0;32m     34\u001b[0m \u001b[38;5;28mprint\u001b[39m(\u001b[38;5;124m\"\u001b[39m\u001b[38;5;124mtests passed\u001b[39m\u001b[38;5;124m\"\u001b[39m, \u001b[38;5;124m\"\u001b[39m\u001b[38;5;130;01m\\u2713\u001b[39;00m\u001b[38;5;124m\"\u001b[39m)\n",
      "File \u001b[1;32md:\\System\\Python_assignments\\programming-assignments\\utils.py:139\u001b[0m, in \u001b[0;36mvalidate_python_code\u001b[1;34m(filename, **args)\u001b[0m\n\u001b[0;32m    134\u001b[0m     \u001b[38;5;28;01mraise\u001b[39;00m \u001b[38;5;167;01mValueError\u001b[39;00m(\n\u001b[0;32m    135\u001b[0m         \u001b[38;5;124mf\u001b[39m\u001b[38;5;124m\"\u001b[39m\u001b[38;5;124mError while decoding the response. \u001b[39m\u001b[38;5;124m\"\u001b[39m\n\u001b[0;32m    136\u001b[0m         \u001b[38;5;124mf\u001b[39m\u001b[38;5;124m\"\u001b[39m\u001b[38;5;124mDetail: \u001b[39m\u001b[38;5;132;01m{\u001b[39;00me\u001b[38;5;132;01m}\u001b[39;00m\u001b[38;5;124m. Response: \u001b[39m\u001b[38;5;132;01m{\u001b[39;00mresponse_html\u001b[38;5;241m.\u001b[39mtext\u001b[38;5;132;01m}\u001b[39;00m\u001b[38;5;124m\"\u001b[39m\n\u001b[0;32m    137\u001b[0m     )\n\u001b[0;32m    138\u001b[0m \u001b[38;5;28;01mif\u001b[39;00m data[\u001b[38;5;124m\"\u001b[39m\u001b[38;5;124mfail\u001b[39m\u001b[38;5;124m\"\u001b[39m]:\n\u001b[1;32m--> 139\u001b[0m     \u001b[38;5;28;01mraise\u001b[39;00m \u001b[38;5;167;01mValueError\u001b[39;00m(\u001b[38;5;124m\"\u001b[39m\u001b[38;5;124mThe code needs change. Check messages above.\u001b[39m\u001b[38;5;124m\"\u001b[39m)\n",
      "\u001b[1;31mValueError\u001b[0m: The code needs change. Check messages above."
     ]
    }
   ],
   "source": [
    "%autoreload 2\n",
    "# test cell\n",
    "try:\n",
    "    import print_sum_of_digits_solution\n",
    "except:\n",
    "    raise ValueError(\"You did not execute your solution cell!\")\n",
    "try:\n",
    "    from print_sum_of_digits_solution import print_sum_of_digits\n",
    "except:\n",
    "    raise ValueError(\"The module does not have the necessary function!\")\n",
    "\n",
    "from nose.tools import assert_equal, assert_raises\n",
    "from unittest.mock import patch\n",
    "from io import StringIO\n",
    "\n",
    "# first test\n",
    "with patch('sys.stdout', new=StringIO()) as fakeOutput:\n",
    "    print_sum_of_digits(81)\n",
    "    assert_equal(fakeOutput.getvalue().strip(), '9')\n",
    "\n",
    "# second test\n",
    "with patch('sys.stdout', new=StringIO()) as fakeOutput:\n",
    "    print_sum_of_digits(103)\n",
    "    assert_equal(fakeOutput.getvalue().strip(), '4')\n",
    "\n",
    "# testing types\n",
    "assert_raises(TypeError, print_sum_of_digits)\n",
    "assert_raises(TypeError, print_sum_of_digits, \"2\")\n",
    "assert_raises(TypeError, print_sum_of_digits, 2, \"Test\")\n",
    "\n",
    "from utils import validate_python_code\n",
    "\n",
    "validate_python_code(\"print_sum_of_digits_solution.py\")\n",
    "print(\"tests passed\", \"\\u2713\")"
   ]
  },
  {
   "cell_type": "markdown",
   "metadata": {
    "nbgrader": {
     "grade": false,
     "grade_id": "cell-problem-1-3",
     "locked": true,
     "schema_version": 3,
     "solution": false,
     "task": false
    }
   },
   "source": [
    "### Problem 1.3\n",
    "\n",
    "Create a function called `sphere_volume` that, based on one parameter representing the radius of the sphere (integer or float), prints its volume upto three decimal places.\n",
    "\n",
    "Remember that the volume $V$ of a sphere given its radius $r$ is given by:\n",
    "\\begin{equation*}\n",
    "V = \\dfrac{4}{3}\\pi r^3. \n",
    "\\end{equation*}\n",
    "\n",
    "**Observations:**\n",
    "- You should assume $\\pi=3.14$."
   ]
  },
  {
   "cell_type": "markdown",
   "metadata": {
    "nbgrader": {
     "grade": false,
     "grade_id": "cell-pseudocode-1-3",
     "locked": true,
     "schema_version": 3,
     "solution": false,
     "task": false
    }
   },
   "source": [
    "```\n",
    "# write here your pseudocode (not graded)\n",
    "\n",
    "# * pseudocode is necessary when asking for help during the lab\n",
    "```"
   ]
  },
  {
   "cell_type": "code",
   "execution_count": 169,
   "metadata": {
    "nbgrader": {
     "grade": false,
     "grade_id": "cell-answer-1-3",
     "locked": false,
     "schema_version": 3,
     "solution": true,
     "task": false
    },
    "tags": [
     "solution",
     "solution-1.3"
    ]
   },
   "outputs": [
    {
     "name": "stdout",
     "output_type": "stream",
     "text": [
      "Overwriting sphere_volume_solution.py\n"
     ]
    }
   ],
   "source": [
    "%%writefile sphere_volume_solution.py\n",
    "# solution cell\n",
    "### BEGIN SOLUTION\n",
    "\n",
    "\n",
    "def sphere_volume(x: int | float) -> str:\n",
    "    v: int | float = (4 / 3) * 3.14 * (x ** 3)\n",
    "    return round(v, 3)\n",
    "\n",
    "\n",
    "### END SOLUTION\n"
   ]
  },
  {
   "cell_type": "code",
   "execution_count": 170,
   "metadata": {
    "tags": [
     "debug",
     "debug-1.3"
    ]
   },
   "outputs": [
    {
     "name": "stdout",
     "output_type": "stream",
     "text": [
      "The volume of a sphere with radius 0.11 is 0.006\n",
      "Execution finished ✓\n"
     ]
    }
   ],
   "source": [
    "%autoreload 2\n",
    "# uncomment the line(s) below to debug\n",
    "from sphere_volume_solution import sphere_volume\n",
    "\n",
    "\n",
    "r = 0.11\n",
    "print(f'The volume of a sphere with radius {r} is {sphere_volume(r)}')\n",
    "sphere_volume(r)\n",
    "print(\"Execution finished\", \"\\u2713\")"
   ]
  },
  {
   "cell_type": "code",
   "execution_count": 172,
   "metadata": {
    "nbgrader": {
     "grade": true,
     "grade_id": "cell-test-1-3",
     "locked": true,
     "points": 1,
     "schema_version": 3,
     "solution": false,
     "task": false
    },
    "tags": [
     "tests",
     "tests-1.3"
    ]
   },
   "outputs": [
    {
     "ename": "AssertionError",
     "evalue": "'' != '38.773'\n+ 38.773",
     "output_type": "error",
     "traceback": [
      "\u001b[1;31m---------------------------------------------------------------------------\u001b[0m",
      "\u001b[1;31mAssertionError\u001b[0m                            Traceback (most recent call last)",
      "Cell \u001b[1;32mIn[172], line 18\u001b[0m\n\u001b[0;32m     16\u001b[0m \u001b[38;5;28;01mwith\u001b[39;00m patch(\u001b[38;5;124m'\u001b[39m\u001b[38;5;124msys.stdout\u001b[39m\u001b[38;5;124m'\u001b[39m, new\u001b[38;5;241m=\u001b[39mStringIO()) \u001b[38;5;28;01mas\u001b[39;00m fakeOutput:\n\u001b[0;32m     17\u001b[0m     sphere_volume(\u001b[38;5;241m2.1\u001b[39m)\n\u001b[1;32m---> 18\u001b[0m     \u001b[43massert_equal\u001b[49m\u001b[43m(\u001b[49m\u001b[43mfakeOutput\u001b[49m\u001b[38;5;241;43m.\u001b[39;49m\u001b[43mgetvalue\u001b[49m\u001b[43m(\u001b[49m\u001b[43m)\u001b[49m\u001b[38;5;241;43m.\u001b[39;49m\u001b[43mstrip\u001b[49m\u001b[43m(\u001b[49m\u001b[43m)\u001b[49m\u001b[43m,\u001b[49m\u001b[43m \u001b[49m\u001b[38;5;124;43m'\u001b[39;49m\u001b[38;5;124;43m38.773\u001b[39;49m\u001b[38;5;124;43m'\u001b[39;49m\u001b[43m)\u001b[49m\n\u001b[0;32m     20\u001b[0m \u001b[38;5;28;01mwith\u001b[39;00m patch(\u001b[38;5;124m'\u001b[39m\u001b[38;5;124msys.stdout\u001b[39m\u001b[38;5;124m'\u001b[39m, new\u001b[38;5;241m=\u001b[39mStringIO()) \u001b[38;5;28;01mas\u001b[39;00m fakeOutput:\n\u001b[0;32m     21\u001b[0m     sphere_volume(\u001b[38;5;241m10\u001b[39m)\n",
      "File \u001b[1;32md:\\System\\miniconda\\envs\\chalmers\\lib\\unittest\\case.py:845\u001b[0m, in \u001b[0;36mTestCase.assertEqual\u001b[1;34m(self, first, second, msg)\u001b[0m\n\u001b[0;32m    841\u001b[0m \u001b[38;5;250m\u001b[39m\u001b[38;5;124;03m\"\"\"Fail if the two objects are unequal as determined by the '=='\u001b[39;00m\n\u001b[0;32m    842\u001b[0m \u001b[38;5;124;03m   operator.\u001b[39;00m\n\u001b[0;32m    843\u001b[0m \u001b[38;5;124;03m\"\"\"\u001b[39;00m\n\u001b[0;32m    844\u001b[0m assertion_func \u001b[38;5;241m=\u001b[39m \u001b[38;5;28mself\u001b[39m\u001b[38;5;241m.\u001b[39m_getAssertEqualityFunc(first, second)\n\u001b[1;32m--> 845\u001b[0m \u001b[43massertion_func\u001b[49m\u001b[43m(\u001b[49m\u001b[43mfirst\u001b[49m\u001b[43m,\u001b[49m\u001b[43m \u001b[49m\u001b[43msecond\u001b[49m\u001b[43m,\u001b[49m\u001b[43m \u001b[49m\u001b[43mmsg\u001b[49m\u001b[38;5;241;43m=\u001b[39;49m\u001b[43mmsg\u001b[49m\u001b[43m)\u001b[49m\n",
      "File \u001b[1;32md:\\System\\miniconda\\envs\\chalmers\\lib\\unittest\\case.py:1226\u001b[0m, in \u001b[0;36mTestCase.assertMultiLineEqual\u001b[1;34m(self, first, second, msg)\u001b[0m\n\u001b[0;32m   1224\u001b[0m diff \u001b[38;5;241m=\u001b[39m \u001b[38;5;124m'\u001b[39m\u001b[38;5;130;01m\\n\u001b[39;00m\u001b[38;5;124m'\u001b[39m \u001b[38;5;241m+\u001b[39m \u001b[38;5;124m'\u001b[39m\u001b[38;5;124m'\u001b[39m\u001b[38;5;241m.\u001b[39mjoin(difflib\u001b[38;5;241m.\u001b[39mndiff(firstlines, secondlines))\n\u001b[0;32m   1225\u001b[0m standardMsg \u001b[38;5;241m=\u001b[39m \u001b[38;5;28mself\u001b[39m\u001b[38;5;241m.\u001b[39m_truncateMessage(standardMsg, diff)\n\u001b[1;32m-> 1226\u001b[0m \u001b[38;5;28;43mself\u001b[39;49m\u001b[38;5;241;43m.\u001b[39;49m\u001b[43mfail\u001b[49m\u001b[43m(\u001b[49m\u001b[38;5;28;43mself\u001b[39;49m\u001b[38;5;241;43m.\u001b[39;49m\u001b[43m_formatMessage\u001b[49m\u001b[43m(\u001b[49m\u001b[43mmsg\u001b[49m\u001b[43m,\u001b[49m\u001b[43m \u001b[49m\u001b[43mstandardMsg\u001b[49m\u001b[43m)\u001b[49m\u001b[43m)\u001b[49m\n",
      "File \u001b[1;32md:\\System\\miniconda\\envs\\chalmers\\lib\\unittest\\case.py:675\u001b[0m, in \u001b[0;36mTestCase.fail\u001b[1;34m(self, msg)\u001b[0m\n\u001b[0;32m    673\u001b[0m \u001b[38;5;28;01mdef\u001b[39;00m \u001b[38;5;21mfail\u001b[39m(\u001b[38;5;28mself\u001b[39m, msg\u001b[38;5;241m=\u001b[39m\u001b[38;5;28;01mNone\u001b[39;00m):\n\u001b[0;32m    674\u001b[0m \u001b[38;5;250m    \u001b[39m\u001b[38;5;124;03m\"\"\"Fail immediately, with the given message.\"\"\"\u001b[39;00m\n\u001b[1;32m--> 675\u001b[0m     \u001b[38;5;28;01mraise\u001b[39;00m \u001b[38;5;28mself\u001b[39m\u001b[38;5;241m.\u001b[39mfailureException(msg)\n",
      "\u001b[1;31mAssertionError\u001b[0m: '' != '38.773'\n+ 38.773"
     ]
    }
   ],
   "source": [
    "%autoreload 2\n",
    "# test cell\n",
    "try:\n",
    "    import sphere_volume_solution\n",
    "except:\n",
    "    raise ValueError(\"You did not execute your solution cell!\")\n",
    "try:\n",
    "    from sphere_volume_solution import sphere_volume\n",
    "except:\n",
    "    raise ValueError(\"The module does not have the necessary function!\")\n",
    "    \n",
    "from nose.tools import assert_equal, assert_raises\n",
    "from unittest.mock import patch\n",
    "from io import StringIO\n",
    "\n",
    "with patch('sys.stdout', new=StringIO()) as fakeOutput:\n",
    "    sphere_volume(2.1)\n",
    "    assert_equal(fakeOutput.getvalue().strip(), '38.773')\n",
    "\n",
    "with patch('sys.stdout', new=StringIO()) as fakeOutput:\n",
    "    sphere_volume(10)\n",
    "    assert_equal(fakeOutput.getvalue().strip(), '4186.667')\n",
    "\n",
    "with patch('sys.stdout', new=StringIO()) as fakeOutput:\n",
    "    sphere_volume(0.11)\n",
    "    assert_equal(fakeOutput.getvalue().strip(), '0.006')\n",
    "\n",
    "assert_raises(TypeError, sphere_volume)\n",
    "assert_raises(TypeError, sphere_volume, None)\n",
    "assert_raises(TypeError, sphere_volume, 2, None)\n",
    "\n",
    "from utils import validate_python_code\n",
    "validate_python_code(\"sphere_volume_solution.py\")\n",
    "print(\"tests passed\", \"\\u2713\")"
   ]
  },
  {
   "cell_type": "markdown",
   "metadata": {
    "nbgrader": {
     "grade": false,
     "grade_id": "cell-problem-1-4",
     "locked": true,
     "schema_version": 3,
     "solution": false,
     "task": false
    }
   },
   "source": [
    "### Problem 1.4\n",
    "\n",
    "Create a function named `greetings` that receives:\n",
    "- the salutation of a person (string),\n",
    "- the name of a person (string),\n",
    "- the surname of a person (string),\n",
    "- the age of a person (integer)\n",
    "- the location of a person (string),\n",
    "and returns the following greeting message.\n",
    "\n",
    "For instance, for a person of name 'John', surname 'Doe', salutation 'Mr.', age 39 and location 'paris', the function should return the following message which contains two lines:\n",
    "\n",
    "`Hello, World! I'm Mr. John Doe, age 39.`\n",
    "\n",
    "`I'm currently in Paris.`\n",
    "\n",
    "\n",
    "<!-- Greetings! I am Mr. John Doe, and I am 25 years old. -->\n",
    "\n",
    "The name, surname, salutation and location should always be capitalized. For instance, for a person of name 'jAne', surname 'DoE', salutation 'mS.', age 32 and location 'bErlin', the function should return a message similar to the following one:\n",
    "\n",
    "`Hello, World! I'm Ms. Jane Doe, age 32.`\n",
    "\n",
    "`I'm currently in Berlin.`\n",
    "\n",
    "**Observations:**\n",
    "- You should use `f-string` and `capitalize()` to solve this problem."
   ]
  },
  {
   "cell_type": "markdown",
   "metadata": {
    "nbgrader": {
     "grade": false,
     "grade_id": "cell-pseudocode-1-4",
     "locked": true,
     "schema_version": 3,
     "solution": false,
     "task": false
    }
   },
   "source": [
    "```\n",
    "# write here your pseudocode (not graded)\n",
    "\n",
    "# * pseudocode is necessary when asking for help during the lab\n",
    "```"
   ]
  },
  {
   "cell_type": "code",
   "execution_count": 224,
   "metadata": {
    "nbgrader": {
     "grade": false,
     "grade_id": "cell-answer-1-4",
     "locked": false,
     "schema_version": 3,
     "solution": true,
     "task": false
    },
    "tags": [
     "solution",
     "solution-1.4"
    ]
   },
   "outputs": [
    {
     "name": "stdout",
     "output_type": "stream",
     "text": [
      "Overwriting greetings_solution.py\n"
     ]
    }
   ],
   "source": [
    "%%writefile greetings_solution.py\n",
    "# solution cell\n",
    "### BEGIN SOLUTION\n",
    "\n",
    "\n",
    "def greetings(sal: str, fn: str, ln: str, age: int, loc: str) -> str:\n",
    "    sal = sal.capitalize()\n",
    "    fn = fn.capitalize()\n",
    "    ln = ln.capitalize()\n",
    "    loc = loc.capitalize()\n",
    "    return f\"Hello, World! I'm {sal} {fn} {ln}, age {age}.\\nI'm currently in {loc}.\"\n",
    "\n",
    "\n",
    "### END SOLUTION\n"
   ]
  },
  {
   "cell_type": "code",
   "execution_count": 225,
   "metadata": {
    "tags": [
     "debug",
     "debug-1.4"
    ]
   },
   "outputs": [
    {
     "name": "stdout",
     "output_type": "stream",
     "text": [
      "Hello, World! I'm Ms. Jane Doe, age 32.\n",
      "I'm currently in Berlin.\n",
      "Execution finished ✓\n"
     ]
    }
   ],
   "source": [
    "%autoreload 2\n",
    "# uncomment the line(s) below to debug\n",
    "from greetings_solution import greetings\n",
    "\n",
    "g = greetings('ms.', 'jAne', 'DoE', 32, 'bErlin')\n",
    "print(g)\n",
    "print(\"Execution finished\", \"\\u2713\")"
   ]
  },
  {
   "cell_type": "code",
   "execution_count": 226,
   "metadata": {
    "nbgrader": {
     "grade": true,
     "grade_id": "cell-test-1-4",
     "locked": true,
     "points": 1,
     "schema_version": 3,
     "solution": false,
     "task": false
    },
    "tags": [
     "tests",
     "tests-1.4"
    ]
   },
   "outputs": [
    {
     "data": {
      "text/html": [
       "<div class=\"tip admonition\">\n",
       "<p class=\"admonition-title\">Code Quality Analysis: <span style=\"color: green\">Pass</span></p><p>*No problem was found*\n",
       "</p>\n",
       "    </div>"
      ],
      "text/plain": [
       "<IPython.core.display.HTML object>"
      ]
     },
     "metadata": {},
     "output_type": "display_data"
    },
    {
     "name": "stdout",
     "output_type": "stream",
     "text": [
      "tests passed ✓\n"
     ]
    }
   ],
   "source": [
    "%autoreload 2\n",
    "# test cell\n",
    "try:\n",
    "    import greetings_solution\n",
    "except:\n",
    "    raise ValueError(\"You did not execute your solution cell!\")\n",
    "try:\n",
    "    from greetings_solution import greetings\n",
    "except:\n",
    "    raise ValueError(\"The module does not have the necessary function!\")\n",
    "    \n",
    "from nose.tools import assert_equal\n",
    "\n",
    "assert_equal(greetings('MR.', 'joHn', 'DOe', 39, 'pARiS'), 'Hello, World! I\\'m Mr. John Doe, age 39.\\nI\\'m currently in Paris.')\n",
    "assert_equal(greetings('ms.', 'jAne', 'DoE', 32, 'bErLiN'), 'Hello, World! I\\'m Ms. Jane Doe, age 32.\\nI\\'m currently in Berlin.')\n",
    "\n",
    "from utils import validate_python_code\n",
    "\n",
    "validate_python_code(\"greetings_solution.py\")\n",
    "print(\"tests passed\", \"\\u2713\")"
   ]
  },
  {
   "cell_type": "markdown",
   "metadata": {
    "nbgrader": {
     "grade": false,
     "grade_id": "cell-title-level-2",
     "locked": true,
     "schema_version": 3,
     "solution": false,
     "task": false
    }
   },
   "source": [
    "---\n",
    "## Level 2\n",
    "\n",
    "Problems in level 2 should build upon the content of the lecture and the content of previous lectures.\n",
    "Therefore, the problems can be solved based solely on the lecture notes available for the course up to the lecture the assignment is about."
   ]
  },
  {
   "cell_type": "markdown",
   "metadata": {
    "nbgrader": {
     "grade": false,
     "grade_id": "cell-problem-2-1",
     "locked": true,
     "schema_version": 3,
     "solution": false,
     "task": false
    }
   },
   "source": [
    "### Problem 2.1\n",
    "\n",
    "Create a Python function called `print_return_sum` that receives two numbers (integer or float).\n",
    "The function should:\n",
    "1. print a string that represents the sum of the inputs; and\n",
    "2. return the sum of the inputs."
   ]
  },
  {
   "cell_type": "markdown",
   "metadata": {
    "nbgrader": {
     "grade": false,
     "grade_id": "cell-pseudocode-2-1",
     "locked": true,
     "schema_version": 3,
     "solution": false,
     "task": false
    }
   },
   "source": [
    "```\n",
    "# write here your pseudocode (not graded)\n",
    "\n",
    "# * pseudocode is necessary when asking for help during the lab\n",
    "```"
   ]
  },
  {
   "cell_type": "code",
   "execution_count": 245,
   "metadata": {
    "nbgrader": {
     "grade": false,
     "grade_id": "cell-answer-2-1",
     "locked": false,
     "schema_version": 3,
     "solution": true,
     "task": false
    },
    "tags": [
     "solution",
     "solution-2.1"
    ]
   },
   "outputs": [
    {
     "name": "stdout",
     "output_type": "stream",
     "text": [
      "Overwriting print_return_sum_solution.py\n"
     ]
    }
   ],
   "source": [
    "%%writefile print_return_sum_solution.py\n",
    "# solution cell\n",
    "### BEGIN SOLUTION\n",
    "\n",
    "\n",
    "def print_return_sum(x: int | float, y: int | float) -> str:\n",
    "    return f'{x + y}'\n",
    "\n",
    "\n",
    "### END SOLUTION\n"
   ]
  },
  {
   "cell_type": "code",
   "execution_count": 246,
   "metadata": {
    "tags": [
     "debug",
     "debug-2.1"
    ]
   },
   "outputs": [
    {
     "name": "stdout",
     "output_type": "stream",
     "text": [
      "the sum of 4.2 and 2.3 is:\n",
      "or 6.5\n",
      "Execution finished ✓\n"
     ]
    }
   ],
   "source": [
    "%autoreload 2\n",
    "# uncomment the line(s) below to debug\n",
    "from print_return_sum_solution import print_return_sum\n",
    "\n",
    "\n",
    "x, y = 4.2, 2.3\n",
    "print(f'the sum of {x} and {y} is:')\n",
    "r = print_return_sum(x, y)\n",
    "print(f'or {r}')\n",
    "print(\"Execution finished\", \"\\u2713\")"
   ]
  },
  {
   "cell_type": "code",
   "execution_count": 247,
   "metadata": {
    "nbgrader": {
     "grade": true,
     "grade_id": "cell-tests-2-1",
     "locked": true,
     "points": 1,
     "schema_version": 3,
     "solution": false,
     "task": false
    },
    "tags": [
     "tests",
     "tests-2.1"
    ]
   },
   "outputs": [
    {
     "ename": "AssertionError",
     "evalue": "60.8175856 != '60.8175856'",
     "output_type": "error",
     "traceback": [
      "\u001b[1;31m---------------------------------------------------------------------------\u001b[0m",
      "\u001b[1;31mAssertionError\u001b[0m                            Traceback (most recent call last)",
      "Cell \u001b[1;32mIn[247], line 18\u001b[0m\n\u001b[0;32m     16\u001b[0m \u001b[38;5;28;01mwith\u001b[39;00m patch(\u001b[38;5;124m'\u001b[39m\u001b[38;5;124msys.stdout\u001b[39m\u001b[38;5;124m'\u001b[39m, new\u001b[38;5;241m=\u001b[39mStringIO()) \u001b[38;5;28;01mas\u001b[39;00m fakeOutput:\n\u001b[0;32m     17\u001b[0m     r \u001b[38;5;241m=\u001b[39m print_return_sum(\u001b[38;5;241m8.6352456\u001b[39m, \u001b[38;5;241m52.18234\u001b[39m)\n\u001b[1;32m---> 18\u001b[0m     \u001b[43massert_equal\u001b[49m\u001b[43m(\u001b[49m\u001b[38;5;241;43m60.8175856\u001b[39;49m\u001b[43m,\u001b[49m\u001b[43m \u001b[49m\u001b[43mr\u001b[49m\u001b[43m)\u001b[49m\n\u001b[0;32m     19\u001b[0m     assert_equal(fakeOutput\u001b[38;5;241m.\u001b[39mgetvalue()\u001b[38;5;241m.\u001b[39mstrip(), \u001b[38;5;124m'\u001b[39m\u001b[38;5;124m60.8175856\u001b[39m\u001b[38;5;124m'\u001b[39m)\n\u001b[0;32m     21\u001b[0m \u001b[38;5;66;03m# second test\u001b[39;00m\n",
      "File \u001b[1;32md:\\System\\miniconda\\envs\\chalmers\\lib\\unittest\\case.py:845\u001b[0m, in \u001b[0;36mTestCase.assertEqual\u001b[1;34m(self, first, second, msg)\u001b[0m\n\u001b[0;32m    841\u001b[0m \u001b[38;5;250m\u001b[39m\u001b[38;5;124;03m\"\"\"Fail if the two objects are unequal as determined by the '=='\u001b[39;00m\n\u001b[0;32m    842\u001b[0m \u001b[38;5;124;03m   operator.\u001b[39;00m\n\u001b[0;32m    843\u001b[0m \u001b[38;5;124;03m\"\"\"\u001b[39;00m\n\u001b[0;32m    844\u001b[0m assertion_func \u001b[38;5;241m=\u001b[39m \u001b[38;5;28mself\u001b[39m\u001b[38;5;241m.\u001b[39m_getAssertEqualityFunc(first, second)\n\u001b[1;32m--> 845\u001b[0m \u001b[43massertion_func\u001b[49m\u001b[43m(\u001b[49m\u001b[43mfirst\u001b[49m\u001b[43m,\u001b[49m\u001b[43m \u001b[49m\u001b[43msecond\u001b[49m\u001b[43m,\u001b[49m\u001b[43m \u001b[49m\u001b[43mmsg\u001b[49m\u001b[38;5;241;43m=\u001b[39;49m\u001b[43mmsg\u001b[49m\u001b[43m)\u001b[49m\n",
      "File \u001b[1;32md:\\System\\miniconda\\envs\\chalmers\\lib\\unittest\\case.py:838\u001b[0m, in \u001b[0;36mTestCase._baseAssertEqual\u001b[1;34m(self, first, second, msg)\u001b[0m\n\u001b[0;32m    836\u001b[0m standardMsg \u001b[38;5;241m=\u001b[39m \u001b[38;5;124m'\u001b[39m\u001b[38;5;132;01m%s\u001b[39;00m\u001b[38;5;124m != \u001b[39m\u001b[38;5;132;01m%s\u001b[39;00m\u001b[38;5;124m'\u001b[39m \u001b[38;5;241m%\u001b[39m _common_shorten_repr(first, second)\n\u001b[0;32m    837\u001b[0m msg \u001b[38;5;241m=\u001b[39m \u001b[38;5;28mself\u001b[39m\u001b[38;5;241m.\u001b[39m_formatMessage(msg, standardMsg)\n\u001b[1;32m--> 838\u001b[0m \u001b[38;5;28;01mraise\u001b[39;00m \u001b[38;5;28mself\u001b[39m\u001b[38;5;241m.\u001b[39mfailureException(msg)\n",
      "\u001b[1;31mAssertionError\u001b[0m: 60.8175856 != '60.8175856'"
     ]
    }
   ],
   "source": [
    "%autoreload 2\n",
    "#test cell\n",
    "try:\n",
    "    import print_return_sum_solution\n",
    "except:\n",
    "    raise ValueError(\"You did not execute your solution cell!\")\n",
    "try:\n",
    "    from print_return_sum_solution import print_return_sum\n",
    "except:\n",
    "    raise ValueError(\"The module does not have the necessary function!\")\n",
    "    \n",
    "from nose.tools import assert_equal, assert_raises\n",
    "from unittest.mock import patch\n",
    "\n",
    "# first test\n",
    "with patch('sys.stdout', new=StringIO()) as fakeOutput:\n",
    "    r = print_return_sum(8.6352456, 52.18234)\n",
    "    assert_equal(60.8175856, r)\n",
    "    assert_equal(fakeOutput.getvalue().strip(), '60.8175856')\n",
    "\n",
    "# second test\n",
    "with patch('sys.stdout', new=StringIO()) as fakeOutput:\n",
    "    r = print_return_sum(4.2, 2.3)\n",
    "    assert_equal(r, 6.5)\n",
    "    assert_equal(fakeOutput.getvalue().strip(), '6.5')\n",
    "\n",
    "# testing types\n",
    "assert_raises(TypeError, print_return_sum)\n",
    "assert_raises(TypeError, print_return_sum, 2)\n",
    "\n",
    "from utils import validate_python_code\n",
    "\n",
    "validate_python_code(\"print_return_sum_solution.py\")\n",
    "print(\"tests passed\", \"\\u2713\")"
   ]
  },
  {
   "cell_type": "markdown",
   "metadata": {
    "nbgrader": {
     "grade": false,
     "grade_id": "cell-problem-2-1",
     "locked": true,
     "schema_version": 3,
     "solution": false,
     "task": false
    }
   },
   "source": [
    "### Problem 2.2\n",
    "\n",
    "Create a Python function called `return_sum` that receives two numbers (integer or float).\n",
    "The function should return a $\\underline{\\textbf{string}}$ that represents the sum of the inputs. Note that the output is returned as a string rather than an integer or float."
   ]
  },
  {
   "cell_type": "markdown",
   "metadata": {
    "nbgrader": {
     "grade": false,
     "grade_id": "cell-pseudocode-2-1",
     "locked": true,
     "schema_version": 3,
     "solution": false,
     "task": false
    }
   },
   "source": [
    "```\n",
    "# write here your pseudocode (not graded)\n",
    "\n",
    "# * pseudocode is necessary when asking for help during the lab\n",
    "```"
   ]
  },
  {
   "cell_type": "code",
   "execution_count": 253,
   "metadata": {
    "nbgrader": {
     "grade": false,
     "grade_id": "cell-answer-2-1",
     "locked": false,
     "schema_version": 3,
     "solution": true,
     "task": false
    },
    "tags": [
     "solution",
     "solution-2.2"
    ]
   },
   "outputs": [
    {
     "name": "stdout",
     "output_type": "stream",
     "text": [
      "Overwriting return_sum_solution.py\n"
     ]
    }
   ],
   "source": [
    "%%writefile return_sum_solution.py\n",
    "# solution cell\n",
    "### BEGIN SOLUTION\n",
    "\n",
    "\n",
    "def return_sum(x: int | float, y: int | float) -> str:\n",
    "    return f\"{x + y}\"\n",
    "\n",
    "\n",
    "### END SOLUTION\n"
   ]
  },
  {
   "cell_type": "code",
   "execution_count": 254,
   "metadata": {
    "tags": [
     "debug",
     "debug-2.2"
    ]
   },
   "outputs": [
    {
     "name": "stdout",
     "output_type": "stream",
     "text": [
      "the sum of 4.2 and 2.3 is: 6.5\n",
      "Execution finished ✓\n"
     ]
    }
   ],
   "source": [
    "%autoreload 2\n",
    "# uncomment the line(s) below to debug\n",
    "from return_sum_solution import return_sum\n",
    "\n",
    "\n",
    "x, y = 4.2, 2.3\n",
    "r = return_sum(x, y)\n",
    "print(f'the sum of {x} and {y} is: {r}')\n",
    "print(\"Execution finished\", \"\\u2713\")"
   ]
  },
  {
   "cell_type": "code",
   "execution_count": 255,
   "metadata": {
    "nbgrader": {
     "grade": true,
     "grade_id": "cell-tests-2-1",
     "locked": true,
     "points": 1,
     "schema_version": 3,
     "solution": false,
     "task": false
    },
    "tags": [
     "tests",
     "tests-2.2"
    ]
   },
   "outputs": [
    {
     "data": {
      "text/html": [
       "<div class=\"tip admonition\">\n",
       "<p class=\"admonition-title\">Code Quality Analysis: <span style=\"color: green\">Pass</span></p><p>*No problem was found*\n",
       "</p>\n",
       "    </div>"
      ],
      "text/plain": [
       "<IPython.core.display.HTML object>"
      ]
     },
     "metadata": {},
     "output_type": "display_data"
    },
    {
     "name": "stdout",
     "output_type": "stream",
     "text": [
      "tests passed ✓\n"
     ]
    }
   ],
   "source": [
    "%autoreload 2\n",
    "#test cell\n",
    "try:\n",
    "    import return_sum_solution\n",
    "except:\n",
    "    raise ValueError(\"You did not execute your solution cell!\")\n",
    "try:\n",
    "    from return_sum_solution import return_sum\n",
    "except:\n",
    "    raise ValueError(\"The module does not have the necessary function!\")\n",
    "    \n",
    "from nose.tools import assert_equal, assert_raises\n",
    "from unittest.mock import patch\n",
    "\n",
    "# first test\n",
    "r = return_sum(8.6352456, 52.18234)\n",
    "assert_equal(r, '60.8175856')\n",
    "\n",
    "# second test\n",
    "r = return_sum(4.2, 2.3)\n",
    "assert_equal(r, '6.5')\n",
    "\n",
    "# testing types\n",
    "assert_raises(TypeError, return_sum)\n",
    "assert_raises(TypeError, return_sum, 2)\n",
    "\n",
    "from utils import validate_python_code\n",
    "\n",
    "validate_python_code(\"return_sum_solution.py\")\n",
    "print(\"tests passed\", \"\\u2713\")"
   ]
  },
  {
   "cell_type": "markdown",
   "metadata": {
    "nbgrader": {
     "grade": false,
     "grade_id": "cell-problem-2-2",
     "locked": true,
     "schema_version": 3,
     "solution": false,
     "task": false
    }
   },
   "source": [
    "### Problem 2.3\n",
    "\n",
    "Create a function named `convert_days_to_ymd` that receives number of days (integer or float) and returns the equivalent days as a list of [years, months, days] (in this order). \n",
    "\n",
    "Suppose that there are 30.4375 days in a month and 365.25 days in a year.\n",
    "\n",
    "You need to round down the outputs to nearest integer.\n",
    "\n",
    "For instance:\n",
    "\n",
    "- Input: `30` / Output: `[0, 0, 30]`\n",
    "- Input: `30.5` / Output: `[0, 1, 0]`\n",
    "- Input: `365.249` / Output: `[0, 11, 30]`\n",
    "- Input: `365.5` / Output: `[1, 0, 0]`\n",
    "\n",
    "\n",
    "**Observations:**\n",
    "- Remember that you cannot use `import`. Use only the math operations in Chapter 3."
   ]
  },
  {
   "cell_type": "markdown",
   "metadata": {
    "nbgrader": {
     "grade": false,
     "grade_id": "cell-pseudocode-2-2",
     "locked": true,
     "schema_version": 3,
     "solution": false,
     "task": false
    }
   },
   "source": [
    "```\n",
    "# write here your pseudocode (not graded)\n",
    "\n",
    "# * pseudocode is necessary when asking for help during the lab\n",
    "```"
   ]
  },
  {
   "cell_type": "code",
   "execution_count": 278,
   "metadata": {
    "nbgrader": {
     "grade": false,
     "grade_id": "cell-answer-2-2",
     "locked": false,
     "schema_version": 3,
     "solution": true,
     "task": false
    },
    "tags": [
     "solution",
     "solution-2.3"
    ]
   },
   "outputs": [
    {
     "name": "stdout",
     "output_type": "stream",
     "text": [
      "Overwriting convert_days_to_ymd_solution.py\n"
     ]
    }
   ],
   "source": [
    "%%writefile convert_days_to_ymd_solution.py\n",
    "# solution cell\n",
    "### BEGIN SOLUTION\n",
    "\n",
    "\n",
    "def convert_days_to_ymd(x: int) -> list[int]:\n",
    "    y: int = int(x // 365.25)\n",
    "    m: int = int((x - y * 365.25) // 30.4375)\n",
    "    d: int = int(x - y * 365.25 - m * 30.4375)\n",
    "    return [y, m, d]\n",
    "\n",
    "\n",
    "### END SOLUTION\n"
   ]
  },
  {
   "cell_type": "code",
   "execution_count": 279,
   "metadata": {
    "tags": [
     "debug",
     "debug-2.3"
    ]
   },
   "outputs": [
    {
     "name": "stdout",
     "output_type": "stream",
     "text": [
      "365.249 days is equivalent to 0 years, 11 months, 30 days\n",
      "Execution finished ✓\n"
     ]
    }
   ],
   "source": [
    "%autoreload 2\n",
    "# uncomment the line(s) below to debug\n",
    "from convert_days_to_ymd_solution import convert_days_to_ymd\n",
    "\n",
    "\n",
    "days = 365.249\n",
    "v = convert_days_to_ymd(days)\n",
    "print(f\"{days} days is equivalent to {v[0]} years, {v[1]} months, {v[2]} days\")\n",
    "print(\"Execution finished\", \"\\u2713\")"
   ]
  },
  {
   "cell_type": "code",
   "execution_count": 280,
   "metadata": {
    "nbgrader": {
     "grade": true,
     "grade_id": "cell-test-2-2",
     "locked": true,
     "points": 1,
     "schema_version": 3,
     "solution": false,
     "task": false
    },
    "tags": [
     "tests",
     "tests-2.3"
    ]
   },
   "outputs": [
    {
     "data": {
      "text/html": [
       "<div class=\"tip admonition\">\n",
       "<p class=\"admonition-title\">Code Quality Analysis: <span style=\"color: green\">Pass</span></p><p>*No problem was found*\n",
       "</p>\n",
       "    </div>"
      ],
      "text/plain": [
       "<IPython.core.display.HTML object>"
      ]
     },
     "metadata": {},
     "output_type": "display_data"
    },
    {
     "name": "stdout",
     "output_type": "stream",
     "text": [
      "tests passed ✓\n"
     ]
    }
   ],
   "source": [
    "%autoreload 2\n",
    "# test cell\n",
    "try:\n",
    "    import convert_days_to_ymd_solution\n",
    "except:\n",
    "    raise ValueError(\"You did not execute your solution cell!\")\n",
    "try:\n",
    "    from convert_days_to_ymd_solution import convert_days_to_ymd\n",
    "except:\n",
    "    raise ValueError(\"The module does not have the necessary function!\")\n",
    "\n",
    "from nose.tools import assert_equal\n",
    "\n",
    "assert_equal(convert_days_to_ymd(30.4375*10+0.5), [0, 10, 0])\n",
    "assert_equal(convert_days_to_ymd(30.4375*10+1.5), [0, 10, 1])\n",
    "assert_equal(convert_days_to_ymd(365.25*7+30.4375*10+7.9), [7, 10, 7])\n",
    "\n",
    "from utils import validate_python_code\n",
    "\n",
    "validate_python_code(\"convert_days_to_ymd_solution.py\")\n",
    "print(\"tests passed\", \"\\u2713\")"
   ]
  },
  {
   "cell_type": "markdown",
   "metadata": {
    "nbgrader": {
     "grade": false,
     "grade_id": "cell-problem-2-3",
     "locked": true,
     "schema_version": 3,
     "solution": false,
     "task": false
    }
   },
   "source": [
    "### Problem 2.4\n",
    "\n",
    "Create a function called `test_convert_days_to_ymd` that tests the function `convert_days_to_ymd` made in the previous problem.\n",
    "Note that after running the test cell, the code coverage should be 100%."
   ]
  },
  {
   "cell_type": "markdown",
   "metadata": {
    "nbgrader": {
     "grade": false,
     "grade_id": "cell-pseudocode-2-3",
     "locked": true,
     "schema_version": 3,
     "solution": false,
     "task": false
    }
   },
   "source": [
    "```\n",
    "# write here your pseudocode (not graded)\n",
    "\n",
    "# * pseudocode is necessary when asking for help during the lab\n",
    "```"
   ]
  },
  {
   "cell_type": "code",
   "execution_count": null,
   "metadata": {
    "nbgrader": {
     "grade": false,
     "grade_id": "cell-answer-2-3",
     "locked": false,
     "schema_version": 3,
     "solution": true,
     "task": false
    },
    "tags": [
     "solution",
     "solution-2.4"
    ]
   },
   "outputs": [],
   "source": [
    "%%writefile test_convert_days_to_ymd_file.py\n",
    "# solution cell\n",
    "# the line below brings the function `convert_days_to_ymd` into scope\n",
    "\n",
    "from convert_days_to_ymd_solution import convert_days_to_ymd\n",
    "from nose.tools import assert_equal\n",
    "\n",
    "### BEGIN SOLUTION\n",
    "\n",
    "### END SOLUTION\n"
   ]
  },
  {
   "cell_type": "code",
   "execution_count": null,
   "metadata": {
    "tags": [
     "debug",
     "debug-2.4"
    ]
   },
   "outputs": [],
   "source": [
    "# run the tests and check coverage\n",
    "\n",
    "!coverage run -m pytest test_convert_days_to_ymd_file.py\n",
    "!coverage report -m --include=\"convert_days_to_ymd_solution*\"\n",
    "!coverage erase"
   ]
  },
  {
   "cell_type": "code",
   "execution_count": null,
   "metadata": {
    "nbgrader": {
     "grade": true,
     "grade_id": "cell-test-2-3",
     "locked": true,
     "points": 1,
     "schema_version": 3,
     "solution": false,
     "task": false
    },
    "tags": [
     "tests",
     "tests-2.4"
    ]
   },
   "outputs": [],
   "source": [
    "%autoreload 2\n",
    "# test cell\n",
    "\n",
    "validate_python_code(\"test_convert_days_to_ymd_file.py\")\n",
    "print(\"tests passed\", \"\\u2713\")"
   ]
  }
 ],
 "metadata": {
  "assignment_list": [
   "1.1",
   "1.2",
   "1.3",
   "1.4",
   "2.1",
   "2.2",
   "2.3",
   "2.4"
  ],
  "celltoolbar": "Tags",
  "kernelspec": {
   "display_name": "Python 3 (ipykernel)",
   "language": "python",
   "name": "python3"
  },
  "language_info": {
   "codemirror_mode": {
    "name": "ipython",
    "version": 3
   },
   "file_extension": ".py",
   "mimetype": "text/x-python",
   "name": "python",
   "nbconvert_exporter": "python",
   "pygments_lexer": "ipython3",
   "version": "3.10.13"
  }
 },
 "nbformat": 4,
 "nbformat_minor": 4
}
